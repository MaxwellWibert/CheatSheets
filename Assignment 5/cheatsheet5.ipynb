{
 "cells": [
  {
   "cell_type": "markdown",
   "metadata": {},
   "source": [
    "# CheatSheet 5"
   ]
  },
  {
   "cell_type": "markdown",
   "metadata": {},
   "source": [
    "## Exercise 1"
   ]
  },
  {
   "cell_type": "markdown",
   "metadata": {},
   "source": [
    "In this exercise, you are asked to pull some data from an API, clean it, and then use it to construct your own server/API in flask. We have already covered how to get and clean data, so consult previous cheatsheets if you need a refresher. The only novel part of this exercise is the Flask server, so let's go over the basics of Flask together. It is generally easier to run a Flask app using a .py file from the console, so for this exercise, we'll also be using some other files in this folder. The explanations will stay in this notebook, but please consult the .py files as we move forward."
   ]
  },
  {
   "cell_type": "markdown",
   "metadata": {},
   "source": [
    "### Building Your First Flask Server"
   ]
  },
  {
   "cell_type": "markdown",
   "metadata": {},
   "source": [
    "Start by installing Flask if you haven't already done so:"
   ]
  },
  {
   "cell_type": "code",
   "execution_count": 1,
   "metadata": {},
   "outputs": [
    {
     "name": "stdout",
     "output_type": "stream",
     "text": [
      "Collecting package metadata (current_repodata.json): done\n",
      "Solving environment: done\n",
      "\n",
      "# All requested packages already installed.\n",
      "\n",
      "\n",
      "Note: you may need to restart the kernel to use updated packages.\n"
     ]
    }
   ],
   "source": [
    "%conda install -c anaconda flask -y"
   ]
  },
  {
   "cell_type": "markdown",
   "metadata": {},
   "source": [
    "Now let's build with a very basic Flask server, which is found in the `helloworld.py` file.\n"
   ]
  },
  {
   "cell_type": "markdown",
   "metadata": {},
   "source": [
    "In the first line we import the Flask class:\n",
    "\n",
    "```python\n",
    "from flask import Flask\n",
    "\n",
    "```"
   ]
  },
  {
   "cell_type": "markdown",
   "metadata": {},
   "source": [
    "Next we need to create a Flask object by calling the Flask class's constructor function. This object, also known as an app, is responsible for much receiving, parsing, and responding to http requests.\n",
    "\n",
    "```python\n",
    "app = Flask(__name__)\n",
    "\n",
    "```\n",
    "\n",
    " The Flask constructor takes a single argument, which specifies the module our app will live and operate in. For our purposes, we only ever need to pass in python's special built in `__name__` variable, which has the value of whatever module we're currently in. "
   ]
  },
  {
   "cell_type": "markdown",
   "metadata": {},
   "source": [
    "Now we will specify how the app handles an http request by defining functions that are tagged with the `@app.route()` decorator. \n",
    "\n",
    "```python\n",
    "@app.route(\"/\")\n",
    "def hello_world():\n",
    "    return \"<p>Hello, World!</p>\"\n",
    "```\n",
    "Here, the decorator is modifying the `hello_world` function so that it is called everytime the app receives an http request to the root path, \"/\". Whatever value the `hello_world` function returns is passed back to the app to be sent as a response to the browser. Let's try running the server. Open up a terminal, navigate to this folder, and run the following commands:\n"
   ]
  },
  {
   "cell_type": "markdown",
   "metadata": {},
   "source": [
    "\n",
    "```bash\n",
    "$ export FLASK_APP=helloworld\n",
    "$ flask run\n",
    "\n",
    "```\n",
    "The terminal should spit something out that looks like this:\n",
    "\n",
    "```console\n",
    "* Serving Flask app \"helloworld\"\n",
    "* Environment: production\n",
    "  WARNING: This is a development server. Do not use it in a production deployment.\n",
    "  Use a production WSGI server instead.\n",
    "* Debug mode: off\n",
    "* Running on http://127.0.0.1:5000/ (Press CTRL+C to quit)\n",
    "```\n",
    "Notice that the terminal is hanging/not offering you a new prompt. This is because the server app is running until we tell it to quit. `http://127.0.0.1` is the IP address of your computer, AKA \"localhost\". This is followed by the port where the server will accept requests, shown above as `5000`.\n"
   ]
  },
  {
   "cell_type": "markdown",
   "metadata": {},
   "source": [
    "\n",
    "Open up a browser and go to the url `http://localhost:5000`. You should now see a page that displays \"Hello, World!\". Additionally, the terminal should have logged some data about the http request it received when you opened up this page:\n",
    "\n",
    "```console\n",
    "127.0.0.1 - - [05/Jul/2022 02:36:03] \"GET / HTTP/1.1\" 200 -\n",
    "```"
   ]
  },
  {
   "cell_type": "markdown",
   "metadata": {},
   "source": [
    "Isn't that neat? Still, the internet would be pretty boring if every site was a single plaintext page, so let's ramp it up a little and make a more complex server. Go to the terminal and close the app with `CTRL + C` (Windows/Linux) or `Command + C`  (Mac)."
   ]
  },
  {
   "cell_type": "markdown",
   "metadata": {},
   "source": [
    "### Routing with Flask"
   ]
  },
  {
   "cell_type": "markdown",
   "metadata": {},
   "source": [
    "This example will follow the `routing.py` file. \n",
    "We again start our server by importing the Flask class and using its constructor to instantiate an app.\n",
    "This app will have several routes available, each specified by a different function decorated with `@app.route()`. \n",
    "Like last time, we have a homepage that displays when we visit the root path of the server, \"/\". \n",
    "However, we also have two other routes specified. "
   ]
  },
  {
   "cell_type": "markdown",
   "metadata": {},
   "source": [
    "```python\n",
    "@app.route('/about')\n",
    "def about():\n",
    "    return 'This is an about page'\n",
    "```\n",
    "This section of code says the app will call the `about` function everytime it gets an http request with the \"/about\" path.\n",
    " If you run the server with the following commands:\n",
    "```bash\n",
    "$ export FLASK_APP=routing\n",
    "$ flask run\n",
    "```\n",
    "and then navigate to `http://localhost:5000/about` on our browser, you should see the about page and get a log entry on our terminal. \n",
    "We can similarly bind any number of static pages to whatever routes we like.\n"
   ]
  },
  {
   "cell_type": "markdown",
   "metadata": {},
   "source": [
    "Note that these routes don't have to be just one level deep. We could just as easily grab an http request directed at the \"/about/team\" or \"/this/is/a/very/long/nested\" path.  "
   ]
  },
  {
   "cell_type": "markdown",
   "metadata": {},
   "source": [
    "But what if we would like the app to dynamically respond to some input? For that we need to use variables to our URL parser.\n",
    "This requires that we make some simple changes to our decorated routing functions:\n",
    "\n",
    "```python\n",
    "@app.route('/person/<name>')\n",
    "def show_person(name):\n",
    "    return f'A person named {name}'\n",
    "```\n",
    "Here, the app's URL parser extracts the contents of `<name>` from the URL of the http request. \n",
    "The app then passes these contents into the show_person function as a keyword argument, `name`. \n",
    "Then we can do whatever we like with this argument inside the show_person function's body, including using it to tailor the app's response.\n"
   ]
  },
  {
   "cell_type": "markdown",
   "metadata": {},
   "source": [
    "\n",
    "Go to `http://localhost:5000/person/Neil` on your browser, and you should see a page that says \"A person named Neil went to the moon\". You can swap out \"Neil\" for \"Buzz\" in the URL and the webpage should respond accordingly. Feel free to keep swapping out the value of `<name>` in the URL until this functionality seeps in. When you're ready, shut down the server and move onto the next example."
   ]
  },
  {
   "cell_type": "markdown",
   "metadata": {},
   "source": [
    "### Additional Functionality\n",
    "\n",
    "This example will follow the files in the \"app\" folder, and will cover a few extra bells and whistles for your site, including setting up your Flask server to do HTML rendering from templates, handling different HTTP request methods, and returning JSON via an API. \n"
   ]
  },
  {
   "cell_type": "markdown",
   "metadata": {},
   "source": [
    "Along the way, we'll also see how to add styling to your pages using CSS and learn some basic JQuery (a HTML dom manipulator and http request library in javascript). These are indispensible tools for any web project you might need.\n"
   ]
  },
  {
   "cell_type": "markdown",
   "metadata": {},
   "source": [
    "Start by navigating to the app subfolder in both your text editor and your terminal.\n",
    "You'll notice that app contains the `fancy.py` file and several subfolders of its own. \n",
    "This directory structure helps Flask to build more complex apps and generally keeps things tidier for us developers.\n",
    "`fancy.py` contains the Flask app logic and dictates the overall flow of the program.\n",
    "\n",
    "Start up your server with the following commands:\n",
    "\n",
    "```bash\n",
    "$ export FLASK_APP=fancy\n",
    "$ flask run\n",
    "```\n",
    "Next, open the page in your browser at `http://localhost:5000` and have a look at each of the pages. \n",
    "The home page has some basic text. \n",
    "The clock page displays the date and time. \n",
    "The clicker page has an interactive click counter.\n",
    "The facts page has an HTML form that asks for a string from the user and outputs some facts about that string to HTML.\n",
    "Each of the pages has links to the other three.\n",
    "\n",
    "When you've played around with the site enough, we'll see how each of these pages works."
   ]
  },
  {
   "cell_type": "markdown",
   "metadata": {},
   "source": [
    "#### Basic HTML, CSS, & Rendering - Home Page\n",
    "\n",
    "Until now, everytime we wanted Flask to send the browser some HTML, we had to type it all out inside the return statement of our route decorated function.\n",
    "For large pages, this is an unruly and unsustainable practice. \n",
    "It suits us better to write out this HTML file and have Flask retrieve it from the directory using the `render_template` function.\n",
    "\n",
    "```python\n",
    "@app.route('/')\n",
    "def home():\n",
    "    return render_template('home.html')\n",
    "```\n",
    "\n",
    "This function will look for a file in the templates subfolder, modify a copy of it for our needs, and send that copy to the browser.\n",
    "Take a look at the `home.html` file in the templates subfolder. \n",
    "The body of this template is just plain HTML containing a header tag denoted by `<h1>` and three link tags denoted by `<a>`.\n",
    "Importantly, the link tags each have an `href` property.\n",
    "When these links are clicked, the browser sends a request to the server directed at the path contained in the href property (e.g., clicking on the tag with `href=\"./clock\"` will send a request to the clock path, which will then send us the clock page).\n"
   ]
  },
  {
   "cell_type": "markdown",
   "metadata": {},
   "source": [
    "\n",
    "Inside the head of the template, we see the following tag:\n",
    "```html\n",
    "<link rel=\"stylesheet\" href=\"{{ url_for('static', filename='css/style.css') }}\"/>\n",
    "```\n",
    "This tag takes advantage of Jinga, Flask's internal templating engine. \n",
    "Everything inside the curly brackets `{{...}}` is written in Python. \n",
    "When the `render_template` function is called, this python code will be replaced by the string output of the `url_for` function before any HTML gets sent to the browser.\n",
    "In this case, the templating engine will replace that code with the string \"/static/css/style.css\", the path for our website's stylesheet."
   ]
  },
  {
   "cell_type": "markdown",
   "metadata": {},
   "source": [
    "Now take a look at the stylesheet file.\n",
    "It contains style instructions for any `<h1>` and `<h2>` header tags on our site.\n",
    "Each of these instructions is composed of a CSS selector and a set of property-value pairs:\n",
    "```css\n",
    "h1 {\n",
    "    color: red;\n",
    "    text-decoration: underline;\n",
    "}\n",
    "```\n",
    "In the above example, our CSS selector is `h1`, which tells the browser that the subsequent set of property-value pairs should modify the appearance of `<h1>` tags on the page.\n",
    "We can also use tag classes and id's to as selectors.\n",
    "For example, `.rectangle` selects all tags with property `class=\"rectangle\"`, and `#square` selects the unique tag with property `id=\"square\".`"
   ]
  },
  {
   "cell_type": "markdown",
   "metadata": {},
   "source": [
    "#### Dynamic Rendering -- Clock Page\n",
    "\n",
    "Now let's take a look at the clock page.\n",
    "This page is produced when `fancy.py`'s clock route calls `render_template` on the `clock.html` template.\n",
    "```python\n",
    "@app.route('/clock')\n",
    "def clock():\n",
    "    #Gets the date of now\n",
    "    t = datetime.datetime.now()\n",
    "    date = t.strftime(\"%A, %B %d of %Y\")\n",
    "    #Gets the time of now\n",
    "    time = t.strftime(\"%I:%M %p\")\n",
    "    #Renders template using variables\n",
    "    return render_template('clock.html', date=date, time=time)\n",
    "```\n",
    "Here, our clock function calculates the date and time using the datetime library and then passes these values into the `render_template` function as two extra keyword arguments."
   ]
  },
  {
   "cell_type": "markdown",
   "metadata": {},
   "source": [
    "Any keyword arguments passed into the `render_template` function will be accessible anywhere in that template.\n",
    "If you open up the clock.html file inside the templates subfolder, you should see the following tags inside the body:\n",
    "\n",
    "```html\n",
    "<h1>The date is {{ date }}</h1>\n",
    "<h2>The time is {{ time }}</h2>\n",
    "```\n",
    "Here, the values of `{{ date }}` and `{{ time }}` are replaced with the keyword argument values passed into the `render_template` function. \n",
    "We can pass in an arbitrary number of keyword arguments to our templates in this manner, but you might also consider grouping your data into a list or a dictionary and passing that to your template instead to keep things tidy.\n",
    "\n",
    "Lastly, notice that we are again importing the `style.css` file from the static/css/ subfolder. \n",
    "One of the benefits of modularizing our code into separate files: we only need to write each bit of code once, then we can use it over and over again all throughout the site. "
   ]
  },
  {
   "cell_type": "markdown",
   "metadata": {},
   "source": [
    "#### Handling Different Request Methods & Interactivity -- Clicker Page"
   ]
  },
  {
   "cell_type": "markdown",
   "metadata": {},
   "source": [
    "Let's take a look at the clicker page.\n",
    "Look at the `@app.route` decorator for the clicker route in the `fancy.py` file.\n",
    "\n",
    "```python\n",
    "@app.route('/clicker', methods=['GET', 'POST'])\n",
    "```\n",
    "\n",
    "Notice that this time we are passing in an extra keyword argument, `methods=['GET','POST]`.\n",
    "This tells the app to look for these methods in the header of the HTTP request.\n",
    "The app can access which method it is receiving as the value `request.method` anywhere inside the decorated function body.\n",
    "We can use this value to specify branching behavior for the app depending on which method our app receives.\n",
    "\n",
    "```python\n",
    "def clicker():\n",
    "    global count\n",
    "    if(request.method == 'GET'):\n",
    "        return render_template('clicker.html', count=count)\n",
    "    elif(request.method == 'POST'):\n",
    "        count += 1\n",
    "        return \"count variable updated\"\n",
    "```\n",
    "\n",
    "This page uses the JavaScript library, JQuery, to add functionality to different DOM elements, as well as to communicate with our server.\n"
   ]
  },
  {
   "cell_type": "markdown",
   "metadata": {},
   "source": [
    "\n",
    "We start by downloading the library from JQuery's content delivery network using a script tag:\n",
    "\n",
    "```html\n",
    "<script\n",
    "    src=\"https://code.jquery.com/jquery-3.6.0.min.js\"\n",
    "    integrity=\"sha256-/xUj+3OJU5yExlq6GSYGSHk7tPXikynS7ogEvDej/m4=\"\n",
    "    crossorigin=\"anonymous\"></script>\n",
    "```\n",
    "When the browser sees this script tag inside the head of the HTML document, it requests the jQuery library from the URL inside the `src` attribute.\n",
    "The `integrity` attribute contains a hash of the entire library file that is used to double check that nothing was changed in the file during the transfer for security purposes.\n",
    "Lastly, the `crossorigin=\"anonymous\"` attribute simply tells the browser to ignore the fact that this script is not being loaded from our own server."
   ]
  },
  {
   "cell_type": "markdown",
   "metadata": {},
   "source": [
    "Next, we see the body contains an `<h1>` header tag and a button:\n",
    "```html\n",
    "<h1> You have clicked {{ count }} times (refresh to update)</h1>\n",
    "<button>Click me to increase count!</button>\n",
    "```\n",
    "We see"
   ]
  },
  {
   "cell_type": "markdown",
   "metadata": {},
   "source": []
  },
  {
   "cell_type": "markdown",
   "metadata": {},
   "source": []
  },
  {
   "cell_type": "markdown",
   "metadata": {},
   "source": [
    "#### API's & Dom Manipulation -- Facts Page"
   ]
  },
  {
   "cell_type": "markdown",
   "metadata": {},
   "source": [
    "## Exercise 2 "
   ]
  },
  {
   "cell_type": "markdown",
   "metadata": {},
   "source": []
  },
  {
   "cell_type": "code",
   "execution_count": null,
   "metadata": {},
   "outputs": [],
   "source": []
  },
  {
   "cell_type": "markdown",
   "metadata": {},
   "source": [
    "## Exercise 3"
   ]
  },
  {
   "cell_type": "markdown",
   "metadata": {},
   "source": []
  },
  {
   "cell_type": "markdown",
   "metadata": {},
   "source": []
  }
 ],
 "metadata": {
  "kernelspec": {
   "display_name": "Python 3.9.12 ('base')",
   "language": "python",
   "name": "python3"
  },
  "language_info": {
   "codemirror_mode": {
    "name": "ipython",
    "version": 3
   },
   "file_extension": ".py",
   "mimetype": "text/x-python",
   "name": "python",
   "nbconvert_exporter": "python",
   "pygments_lexer": "ipython3",
   "version": "3.9.12"
  },
  "orig_nbformat": 4,
  "vscode": {
   "interpreter": {
    "hash": "2c38b1a90b4a59b23948fb218e1da4d1184e9b46ea8636c2b479a765f3725745"
   }
  }
 },
 "nbformat": 4,
 "nbformat_minor": 2
}
