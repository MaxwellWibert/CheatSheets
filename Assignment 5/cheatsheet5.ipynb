{
 "cells": [
  {
   "cell_type": "markdown",
   "metadata": {},
   "source": [
    "# CheatSheet 5"
   ]
  },
  {
   "cell_type": "markdown",
   "metadata": {},
   "source": [
    "## Exercise 1"
   ]
  },
  {
   "cell_type": "markdown",
   "metadata": {},
   "source": [
    "In this exercise, you are asked to pull some data from an API, clean it, and then use it to construct your own server/API in flask. We have already covered how to get and clean data, so consult previous cheatsheets if you need a refresher. The only novel part of this exercise is the Flask server, so let's go over the basics of Flask together. It is generally easier to run a Flask app using a .py file from the console, so for this exercise, we'll also be using some other files in this folder. The explanations will stay in this notebook, but please consult the .py files as we move forward."
   ]
  },
  {
   "cell_type": "markdown",
   "metadata": {},
   "source": [
    "### Building Your First Flask Server"
   ]
  },
  {
   "cell_type": "markdown",
   "metadata": {},
   "source": [
    "Start by installing Flask if you haven't already done so:"
   ]
  },
  {
   "cell_type": "code",
   "execution_count": 1,
   "metadata": {},
   "outputs": [
    {
     "name": "stdout",
     "output_type": "stream",
     "text": [
      "Collecting package metadata (current_repodata.json): done\n",
      "Solving environment: done\n",
      "\n",
      "# All requested packages already installed.\n",
      "\n",
      "\n",
      "Note: you may need to restart the kernel to use updated packages.\n"
     ]
    }
   ],
   "source": [
    "%conda install -c anaconda flask -y"
   ]
  },
  {
   "cell_type": "markdown",
   "metadata": {},
   "source": [
    "Now let's build with a very basic Flask server, which is found in the `helloworld.py` file.\n"
   ]
  },
  {
   "cell_type": "markdown",
   "metadata": {},
   "source": [
    "In the first line we import the Flask class:\n",
    "\n",
    "```python\n",
    "from flask import Flask\n",
    "\n",
    "```"
   ]
  },
  {
   "cell_type": "markdown",
   "metadata": {},
   "source": [
    "Next we need to create a Flask object by calling the Flask class's constructor function. This object, also known as an app, is responsible for much receiving, parsing, and responding to http requests.\n",
    "\n",
    "```python\n",
    "app = Flask(__name__)\n",
    "\n",
    "```\n",
    "\n",
    " The Flask constructor takes a single argument, which specifies the module our app will live and operate in. For our purposes, we only ever need to pass in python's special built in `__name__` variable, which has the value of whatever module we're currently in. "
   ]
  },
  {
   "cell_type": "markdown",
   "metadata": {},
   "source": [
    "Now we will specify how the app handles an http request by defining functions that are tagged with the `@app.route()` decorator. \n",
    "\n",
    "```python\n",
    "@app.route(\"/\")\n",
    "def hello_world():\n",
    "    return \"<p>Hello, World!</p>\"\n",
    "```\n",
    "Here, the decorator is modifying the `hello_world` function so that it is called everytime the app receives an http request to the root path, \"/\". Whatever value the `hello_world` function returns is passed back to the app to be sent as a response to the browser. Let's try running the server. Open up a terminal, navigate to this folder, and run the following commands:\n"
   ]
  },
  {
   "cell_type": "markdown",
   "metadata": {},
   "source": [
    "\n",
    "```bash\n",
    "$ export FLASK_APP=helloworld\n",
    "$ flask run\n",
    "\n",
    "```\n",
    "The terminal should spit something out that looks like this:\n",
    "\n",
    "```console\n",
    "* Serving Flask app \"helloworld\"\n",
    "* Environment: production\n",
    "  WARNING: This is a development server. Do not use it in a production deployment.\n",
    "  Use a production WSGI server instead.\n",
    "* Debug mode: off\n",
    "* Running on http://127.0.0.1:5000/ (Press CTRL+C to quit)\n",
    "```\n",
    "Notice that the terminal is hanging/not offering you a new prompt. This is because the server app is running until we tell it to quit. `http://127.0.0.1` is the IP address of your computer, AKA \"localhost\". This is followed by the port where the server will accept requests, shown above as `5000`.\n"
   ]
  },
  {
   "cell_type": "markdown",
   "metadata": {},
   "source": [
    "\n",
    "Open up a browser and go to the url `http://localhost:5000`. You should now see a page that displays \"Hello, World!\". Additionally, the terminal should have logged some data about the http request it received when you opened up this page:\n",
    "\n",
    "```console\n",
    "127.0.0.1 - - [05/Jul/2022 02:36:03] \"GET / HTTP/1.1\" 200 -\n",
    "```"
   ]
  },
  {
   "cell_type": "markdown",
   "metadata": {},
   "source": [
    "Isn't that neat? Still, the internet would be pretty boring if every site was a single plaintext page, so let's ramp it up a little and make a more complex server. Go to the terminal and close the app with `CTRL + C` (Windows/Linux) or `Command + C`  (Mac)."
   ]
  },
  {
   "cell_type": "markdown",
   "metadata": {},
   "source": [
    "### Routing with Flask"
   ]
  },
  {
   "cell_type": "markdown",
   "metadata": {},
   "source": [
    "This example will follow the `routing.py` file. \n",
    "We again start our server by importing the Flask class and using its constructor to instantiate an app.\n",
    "This app will have several routes available, each specified by a different function decorated with `@app.route()`. \n",
    "Like last time, we have a homepage that displays when we visit the root path of the server, \"/\". \n",
    "However, we also have two other routes specified. "
   ]
  },
  {
   "cell_type": "markdown",
   "metadata": {},
   "source": [
    "```python\n",
    "@app.route('/about')\n",
    "def about():\n",
    "    return 'This is an about page'\n",
    "```\n",
    "This section of code says the app will call the `about` function everytime it gets an http request with the \"/about\" path.\n",
    " If you run the server with the following commands:\n",
    "```bash\n",
    "$ export FLASK_APP=routing\n",
    "$ flask run\n",
    "```\n",
    "and then navigate to `http://localhost:5000/about` on our browser, you should see the about page and get a log entry on our terminal. \n",
    "We can similarly bind any number of static pages to whatever routes we like.\n"
   ]
  },
  {
   "cell_type": "markdown",
   "metadata": {},
   "source": [
    "Note that these routes don't have to be just one level deep. We could just as easily grab an http request directed at the \"/about/team\" or \"/this/is/a/very/long/nested\" path.  "
   ]
  },
  {
   "cell_type": "markdown",
   "metadata": {},
   "source": [
    "But what if we would like the app to dynamically respond to some input? For that we need to use variables to our URL parser.\n",
    "This requires that we make some simple changes to our decorated routing functions:\n",
    "\n",
    "```python\n",
    "@app.route('/person/<name>')\n",
    "def show_person(name):\n",
    "    return f'A person named {name}'\n",
    "```\n",
    "Here, the app's URL parser extracts the contents of `<name>` from the URL of the http request. \n",
    "The app then passes these contents into the show_person function as a keyword argument, `name`. \n",
    "Then we can do whatever we like with this argument inside the show_person function's body, including using it to tailor the app's response.\n"
   ]
  },
  {
   "cell_type": "markdown",
   "metadata": {},
   "source": [
    "\n",
    "Go to `http://localhost:5000/person/Neil` on your browser, and you should see a page that says \"A person named Neil went to the moon\". You can swap out \"Neil\" for \"Buzz\" in the URL and the webpage should respond accordingly. Feel free to keep swapping out the value of `<name>` in the URL until this functionality seeps in. When you're ready, shut down the server and move onto the next example."
   ]
  },
  {
   "cell_type": "markdown",
   "metadata": {},
   "source": [
    "### Additional Functionality\n",
    "\n",
    "This example will follow the files in the \"app\" folder, and will cover a few extra bells and whistles for your site, including setting up your Flask server to do HTML rendering from templates, handling different HTTP request methods, and returning JSON via an API. \n"
   ]
  },
  {
   "cell_type": "markdown",
   "metadata": {},
   "source": [
    "Along the way, we'll also see how to add styling to your pages using CSS and learn some basic JQuery (a HTML dom manipulator and http request library in javascript). These are indispensible tools for any web project you might need."
   ]
  },
  {
   "cell_type": "markdown",
   "metadata": {},
   "source": [
    "Before we begin this example, you'll need to set up MySQL on your machine if you haven't already. \n",
    "\n",
    "Start by downloading the community edition of MySQL\n",
    "https://www.mysql.com/products/community/\n",
    "\n",
    "MySQL is its own program that runs independently of Python.\n",
    "Once the program is installed, you'll have to start this program.\n",
    "This is done differently depending on which OS you're using.\n",
    "Check the following link to see how to start the program for you:\n",
    "\n",
    "https://www.databasestar.com/start-mysql-server/"
   ]
  },
  {
   "cell_type": "markdown",
   "metadata": {},
   "source": [
    "In addition, you'll need to use Conda to install mysqlclient, which allows python to interact with MySQL.:"
   ]
  },
  {
   "cell_type": "code",
   "execution_count": 4,
   "metadata": {},
   "outputs": [
    {
     "name": "stdout",
     "output_type": "stream",
     "text": [
      "Collecting package metadata (current_repodata.json): done\n",
      "Solving environment: done\n",
      "\n",
      "# All requested packages already installed.\n",
      "\n",
      "\n",
      "Note: you may need to restart the kernel to use updated packages.\n"
     ]
    }
   ],
   "source": [
    "%conda install -c conda-forge mysqlclient -y"
   ]
  },
  {
   "cell_type": "markdown",
   "metadata": {},
   "source": []
  },
  {
   "cell_type": "markdown",
   "metadata": {},
   "source": [
    "\n"
   ]
  },
  {
   "cell_type": "markdown",
   "metadata": {},
   "source": [
    "Start by navigating to the app subfolder in both your text editor and your terminal.\n",
    "You'll notice that app contains the `fancy.py` file and several subfolders of its own. \n",
    "This directory structure helps Flask to build more complex apps and generally keeps things tidier for us developers.\n",
    "`fancy.py` contains the Flask app logic and dictates the overall flow of the program.\n",
    "\n",
    "Start up your server with the following commands:\n",
    "\n",
    "```bash\n",
    "$ export FLASK_APP=fancy\n",
    "$ flask run\n",
    "```\n",
    "Next, open the page in your browser at `http://localhost:5000` and have a look at each of the pages. \n",
    "The home page has some basic text. \n",
    "The clock page displays the date and time. \n",
    "The clicker page has an interactive click counter.\n",
    "The facts page has an HTML form that asks for a string from the user and outputs some facts about that string to HTML.\n",
    "Each of the pages has links to the other three.\n",
    "\n",
    "When you've played around with the site enough, we'll see how each of these pages works."
   ]
  },
  {
   "cell_type": "markdown",
   "metadata": {},
   "source": [
    "#### Basic HTML, CSS, & Rendering - Home Page\n",
    "\n",
    "Until now, everytime we wanted Flask to send the browser some HTML, we had to type it all out inside the return statement of our route decorated function.\n",
    "For large pages, this is an unruly and unsustainable practice. \n",
    "It suits us better to write out this HTML file and have Flask retrieve it from the directory using the `render_template` function.\n",
    "\n",
    "```python\n",
    "@app.route('/')\n",
    "def home():\n",
    "    return render_template('home.html')\n",
    "```\n",
    "\n",
    "This function will look for a file in the templates subfolder, modify a copy of it for our needs, and send that copy to the browser.\n",
    "Take a look at the `home.html` file in the templates subfolder. \n",
    "The body of this template is just plain HTML containing a header tag denoted by `<h1>` and three link tags denoted by `<a>`.\n",
    "Importantly, the link tags each have an `href` property.\n",
    "When these links are clicked, the browser sends a request to the server directed at the path contained in the href property (e.g., clicking on the tag with `href=\"./clock\"` will send a request to the clock path, which will then send us the clock page).\n"
   ]
  },
  {
   "cell_type": "markdown",
   "metadata": {},
   "source": [
    "\n",
    "Inside the head of the template, we see the following tag:\n",
    "```html\n",
    "<link rel=\"stylesheet\" href=\"{{ url_for('static', filename='css/style.css') }}\"/>\n",
    "```\n",
    "This tag takes advantage of Jinga, Flask's internal templating engine. \n",
    "Everything inside the curly brackets `{{...}}` is written in Python. \n",
    "When the `render_template` function is called, this python code will be replaced by the string output of the `url_for` function before any HTML gets sent to the browser.\n",
    "In this case, the templating engine will replace that code with the string \"/static/css/style.css\", the path for our website's stylesheet."
   ]
  },
  {
   "cell_type": "markdown",
   "metadata": {},
   "source": [
    "Now take a look at the stylesheet file.\n",
    "It contains style instructions for any `<h1>` and `<h2>` header tags on our site.\n",
    "Each of these instructions is composed of a CSS selector and a set of property-value pairs:\n",
    "```css\n",
    "h1 {\n",
    "    color: red;\n",
    "    text-decoration: underline;\n",
    "}\n",
    "```\n",
    "In the above example, our CSS selector is `h1`, which tells the browser that the subsequent set of property-value pairs should modify the appearance of `<h1>` tags on the page.\n",
    "We can also use tag classes and id's to as selectors.\n",
    "For example, `.rectangle` selects all tags with property `class=\"rectangle\"`, and `#square` selects the unique tag with property `id=\"square\".`"
   ]
  },
  {
   "cell_type": "markdown",
   "metadata": {},
   "source": [
    "#### Dynamic Rendering -- Clock Page\n",
    "\n",
    "Now let's take a look at the clock page.\n",
    "This page is produced when `fancy.py`'s clock route calls `render_template` on the `clock.html` template.\n",
    "```python\n",
    "@app.route('/clock')\n",
    "def clock():\n",
    "    #Gets the date of now\n",
    "    t = datetime.datetime.now()\n",
    "    date = t.strftime(\"%A, %B %d of %Y\")\n",
    "    #Gets the time of now\n",
    "    time = t.strftime(\"%I:%M %p\")\n",
    "    #Renders template using variables\n",
    "    return render_template('clock.html', date=date, time=time)\n",
    "```\n",
    "Here, our clock function calculates the date and time using the datetime library and then passes these values into the `render_template` function as two extra keyword arguments."
   ]
  },
  {
   "cell_type": "markdown",
   "metadata": {},
   "source": [
    "Any keyword arguments passed into the `render_template` function will be accessible anywhere in that template.\n",
    "If you open up the clock.html file inside the templates subfolder, you should see the following tags inside the body:\n",
    "\n",
    "```html\n",
    "<h1>The date is {{ date }}</h1>\n",
    "<h2>The time is {{ time }}</h2>\n",
    "```\n",
    "Here, the values of `{{ date }}` and `{{ time }}` are replaced with the keyword argument values passed into the `render_template` function. \n",
    "We can pass in an arbitrary number of keyword arguments to our templates in this manner, but you might also consider grouping your data into a list or a dictionary and passing that to your template instead to keep things tidy.\n",
    "\n",
    "Lastly, notice that we are again importing the `style.css` file from the static/css/ subfolder. \n",
    "One of the benefits of modularizing our code into separate files: we only need to write each bit of code once, then we can use it over and over again all throughout the site. "
   ]
  },
  {
   "cell_type": "markdown",
   "metadata": {},
   "source": [
    "#### Handling Different Request Methods, Interactivity, and Databases -- Clicker Page"
   ]
  },
  {
   "cell_type": "markdown",
   "metadata": {},
   "source": [
    "Let's take a look at the clicker page.\n",
    "This page requires that we make use of state persistence, which is to say we want the application to keep track of how many times we've clicked our clicker.\n",
    "One good way to keep track of this is to use a database. \n",
    "For this exercise, we're going to use flask_sqlalchemy, which simply makes it easier to interface SQLAlchemy with flask. \n",
    "Start by downloading flask_sqlalchemy if you haven't already done so:"
   ]
  },
  {
   "cell_type": "code",
   "execution_count": 2,
   "metadata": {},
   "outputs": [
    {
     "name": "stdout",
     "output_type": "stream",
     "text": [
      "Collecting package metadata (current_repodata.json): done\n",
      "Solving environment: - \n",
      "Warning: 8 possible package resolutions (only showing differing packages):\n",
      "  - anaconda/linux-64::ca-certificates-2022.3.29-h06a4308_1, anaconda/linux-64::certifi-2021.10.8-py39h06a4308_2, anaconda/linux-64::openssl-1.1.1n-h7f8727e_0\n",
      "  - anaconda/linux-64::certifi-2021.10.8-py39h06a4308_2, anaconda/linux-64::openssl-1.1.1n-h7f8727e_0, defaults/linux-64::ca-certificates-2022.3.29-h06a4308_1\n",
      "  - anaconda/linux-64::ca-certificates-2022.3.29-h06a4308_1, anaconda/linux-64::certifi-2021.10.8-py39h06a4308_2, defaults/linux-64::openssl-1.1.1n-h7f8727e_0\n",
      "  - anaconda/linux-64::certifi-2021.10.8-py39h06a4308_2, defaults/linux-64::ca-certificates-2022.3.29-h06a4308_1, defaults/linux-64::openssl-1.1.1n-h7f8727e_0\n",
      "  - anaconda/linux-64::ca-certificates-2022.3.29-h06a4308_1, defaults/linux-64::certifi-2021.10.8-py39h06a4308_2, defaults/linux-64::openssl-1.1.1n-h7f8727e_0\n",
      "  - defaults/linux-64::ca-certificates-2022.3.29-h06a4308_1, defaults/linux-64::certifi-2021.10.8-py39h06a4308_2, defaults/linux-64::openssl-1.1.1n-h7f8727e_0\n",
      "  - anaconda/linux-64::ca-certificates-2022.3.29-h06a4308_1, anaconda/linux-64::openssl-1.1.1n-h7f8727e_0, defaults/linux-64::certifi-2021.10.8-py39h06a4308_2\n",
      "  - anaconda/linux-64::openssl-1.1.1n-h7f8727e_0, defaults/linux-64::ca-certificates-2022.3.29-h06a4308_1, defaults/linux-64::certifi-2021.10.8-py39h06a4308done\n",
      "\n",
      "# All requested packages already installed.\n",
      "\n",
      "\n",
      "Note: you may need to restart the kernel to use updated packages.\n"
     ]
    }
   ],
   "source": [
    "%conda install -c conda-forge flask-sqlalchemy -y"
   ]
  },
  {
   "cell_type": "markdown",
   "metadata": {},
   "source": [
    "Once the package has been installed, we'll need to import flask_sqlalchemy and create the database in `fancy.py`:\n",
    "```python\n",
    "from flask_sqlalchemy import SQLAlchemy\n",
    "\n",
    "app.config['SQLALCHEMY_DATABASE_URI'] = 'sqlite:////tmp/test.db'\n",
    "db = SQLAlchemy(app)\n",
    "```\n",
    "Then we'll have to define a Counter table:\n",
    "```python\n",
    "class Counter(db.Model):\n",
    "    id = db.Column(db.Integer, primary_key=True)\n",
    "    value = db.Column(db.Integer, nullable=False)\n",
    "    def __repr__(self):\n",
    "        return f'<Counter {self.id}, Count: {self.value}>'\n",
    "\n",
    "``` \n",
    "This table is a class that extends `db.Model`.\n",
    "It has two columns (id and value), which are encoded as class attributes inside the Counter class.\n",
    "Whenever we make a new Counter object, id will be automatically set by the class since it is the primary key.\n",
    "We'll have to manually initialize value by passing in a keyword argument to the Counter constructor. \n",
    "Let's make a Counter record and add it to the database\n"
   ]
  },
  {
   "cell_type": "markdown",
   "metadata": {},
   "source": [
    "\n",
    "```python\n",
    "counter = Counter(value=0)\n",
    "db.session.add(counter)\n",
    "db.session.commit()\n",
    "```\n"
   ]
  },
  {
   "cell_type": "markdown",
   "metadata": {},
   "source": [
    "\n",
    "Above, we're creating a counter record with a value of zero, adding it to the db session, and then updating the database accordingly. \n",
    "Whenever we want to change something about the database, we'll need to call `db.session.commit()` like we've done above.\n",
    "\n",
    "Now that our Counter record is up, we can retrieve its value at any time with the following code:\n"
   ]
  },
  {
   "cell_type": "markdown",
   "metadata": {},
   "source": [
    "\n",
    "```python\n",
    "counter = Counter.query.all()[0]\n",
    "value = counter.value\n",
    "```\n"
   ]
  },
  {
   "cell_type": "markdown",
   "metadata": {},
   "source": [
    "\n",
    "Note that Counter.query.all() returns a list of all the records in the Counter table, and which we can deal with as we would any other list.\n",
    "We can also update the record with the following code:"
   ]
  },
  {
   "cell_type": "markdown",
   "metadata": {},
   "source": [
    "\n",
    "```python\n",
    "counter = Counter.query.all()[0]\n",
    "counter.value += 1\n",
    "db.session.commit()\n",
    "```"
   ]
  },
  {
   "cell_type": "markdown",
   "metadata": {},
   "source": [
    "Now that we know how to interact with SQL, let's move onto the logic of the app."
   ]
  },
  {
   "cell_type": "markdown",
   "metadata": {},
   "source": [
    "\n",
    "Look at the `@app.route` decorator for the clicker route in the `fancy.py` file.\n",
    "\n",
    "```python\n",
    "@app.route('/clicker', methods=['GET', 'POST'])\n",
    "```\n",
    "\n",
    "Notice that this time we are passing in an extra keyword argument, `methods=['GET','POST]`.\n",
    "This tells the app to look for these methods in the header of the HTTP request.\n",
    "The app can access which method it is receiving as the value `request.method` anywhere inside the decorated function body.\n",
    "We can use this value to specify branching behavior for the app depending on which method our app receives.\n"
   ]
  },
  {
   "cell_type": "markdown",
   "metadata": {},
   "source": []
  },
  {
   "cell_type": "markdown",
   "metadata": {},
   "source": [
    "\n",
    "```python\n",
    "def clicker():\n",
    "    counter = Counter.query.get(1)\n",
    "    if(request.method == 'GET'):\n",
    "        count = counter.value\n",
    "        return render_template('clicker.html', count=count)\n",
    "    elif(request.method == 'POST'):\n",
    "        counter.value += 1\n",
    "        db.session.commit()\n",
    "        count = counter.value\n",
    "        return \"count variable updated\"\n",
    "```"
   ]
  },
  {
   "cell_type": "markdown",
   "metadata": {},
   "source": [
    "When the app receives a GET request, we simply retreive the value from our Counter record and pass it through to the clicker template.\n",
    "And when the app receives a POST request, we increment the Counter record's value and send back a success message."
   ]
  },
  {
   "cell_type": "markdown",
   "metadata": {},
   "source": [
    "That's about it for the back-end logic, but how are we handling this logic in the broswer?\n",
    "Virtually all of the front-end functionality will be managed by JQuery, a popular javascript library which handles HTTP requests and manipulates HTML in the browser.\n"
   ]
  },
  {
   "cell_type": "markdown",
   "metadata": {},
   "source": [
    "\n",
    "In order to use JQuery, we start by downloading the library from JQuery's content delivery network using a script tag in the head of our clicker.html file:\n",
    "\n",
    "```html\n",
    "<script\n",
    "    src=\"https://code.jquery.com/jquery-3.6.0.min.js\"\n",
    "    integrity=\"sha256-/xUj+3OJU5yExlq6GSYGSHk7tPXikynS7ogEvDej/m4=\"\n",
    "    crossorigin=\"anonymous\"></script>\n",
    "```\n",
    "When the browser sees this script tag inside the head of the HTML document, it requests the jQuery library from the URL inside the `src` attribute.\n",
    "The `integrity` attribute contains a hash of the entire library file that is used to double check that nothing was changed in the file during the transfer for security purposes.\n",
    "Lastly, the `crossorigin=\"anonymous\"` attribute simply tells the browser to ignore the fact that this script is not being loaded from our own server."
   ]
  },
  {
   "cell_type": "markdown",
   "metadata": {},
   "source": [
    "Next, we see the body contains an `<h1>` header tag and a button:\n",
    "```html\n",
    "<h1> You have clicked {{ count }} times (refresh to update)</h1>\n",
    "<button>Click me to increase count!</button>\n",
    "```"
   ]
  },
  {
   "cell_type": "markdown",
   "metadata": {},
   "source": [
    "These two tags are the main functional visual elements of the page.\n",
    "The `<h1>` tag will be rendered by flask , which ultimately gets that information from the Counter record in the database.\n",
    "The bottom is a button that is supposed to send a POST request to the server. \n",
    "However, in order for that button to actually do anything, we have to define what is called an event listener.\n",
    "\n",
    "As the name suggests, an event listener will continuously listen for a specified event.\n",
    "When it \"hears\" that event, it will call a specified function, called a \"callback function\". \n",
    "You have already been using event listeners throughout this course, though you may not have realized it.\n",
    "For example, Flask's `@app.route(path)` decorator sets up an event listener that listens for incoming http requests directed towards `path` and calls the function defined underneath it.\n",
    "Any time you've made an API request or interacted with a database, python set up an event listener to wait for the response."
   ]
  },
  {
   "cell_type": "markdown",
   "metadata": {},
   "source": [
    "In order to define event listener's in the browser, we'll be using JQuery library.\n",
    "If you look at the bottom of the body of `clicker.html`, you'll see a `<script>` tag.\n",
    "\n",
    "The script tag contains some JS code that adds functionality to the page:"
   ]
  },
  {
   "cell_type": "markdown",
   "metadata": {},
   "source": [
    "```javascript\n",
    "$(function(){\n",
    "    $(\"button\").click(function(){\n",
    "        $.post('clicker');\n",
    "    });\n",
    "});\n",
    "```"
   ]
  },
  {
   "cell_type": "markdown",
   "metadata": {},
   "source": [
    "In the code above, the dollar symbol `$` is shorthand for JQuery, allowing us to access the library with minimal typing.\n",
    "The first dollar sign sets up an event listener that waits for the HTML document to finish loading into the DOM by the browser.\n",
    "Once the DOM is finished loading, the callback function is called, and the code inside begins to run.\n",
    "\n",
    "----\n",
    "\n",
    "The next dollar sign `$(\"button\")` sets up an event listener that listens for a click event on any button tag in the DOM.\n",
    "Here we say that JQuery \"selects\" the button.\n",
    "\n",
    "**DISCLAIMER:** If we had multiple button tags, the expression `$(\"button\")` would select all of them.\n",
    "If your application needs to listen for events from multiple buttons (or multiple input tags of any single type), we can be more specific with our selection using class or id selectors, like you might use in CSS.\n",
    "To select by class, we could add the attribute `class=\"buttonClass\"` inside the HTML tag for all the buttons we wish to select, then select the class using the period symbol, as in `$(\".buttonClass\")`.\n",
    "To select by id, we could add the attribute `id=\"myButton\"` to a single button tag that we wish to select, then select that element using the the hashtag/pound symbol, as in `$(\"#myButton\")`. \n",
    "\n",
    "----\n",
    "\n",
    "Inside the callback of the button's click-event listener, we see the third dollar sign `$.post('clicker');`, which tells JQuery to send an Asynchronous Javascript and XML (AJAX), request to the server's 'clicker' path, all with a `POST` method in the header.\n",
    "AJAX requests are sometimes also known as XMLHttpRequests, and for our purposes are synonymous with HTTP requests.\n",
    "\n",
    "**DISCLAIMER:** AJAX was named when XML was the primary way that server API's packaged and shipped data to the browser. \n",
    "Even though AJAX and XMLHTTPRequest have XML in the name, we can expect XML, JSON, FASTA, or any other kind of data in the response."
   ]
  },
  {
   "cell_type": "markdown",
   "metadata": {},
   "source": [
    "#### API's, Callbacks, & Dom Manipulation -- Facts Page\n"
   ]
  },
  {
   "cell_type": "markdown",
   "metadata": {},
   "source": [
    "Now we turn our attention the Facts page.\n",
    "Let's start by looking at the page's `/facts` route in `fancy.py`: \n"
   ]
  },
  {
   "cell_type": "markdown",
   "metadata": {},
   "source": [
    "```python\n",
    "@app.route('/facts')\n",
    "def facs_page():\n",
    "    return render_template('facts.html')\n",
    "\n",
    "@app.route('/facts/<string:input>')\n",
    "def facts_api(input):\n",
    "    return {\n",
    "        'input' : input,\n",
    "        'length': len(input),\n",
    "        'uppercase': input.upper()\n",
    "    }\n",
    "```"
   ]
  },
  {
   "cell_type": "markdown",
   "metadata": {},
   "source": [
    "The first thing you should notice is that there are two routes specified. \n",
    "The first specifies the root of the `/facts` path.\n",
    "This route does nothing new: it simply renders the `facts.html` template and returns the result to the browser as we have seen before. \n",
    "The second route, on the other hand, serves as an API endpoint.\n",
    "The next thing you should notice is the variable routing, although it looks slightly different this time.\n",
    "Like in the `routing.py` example, Flask will grab the `input` parameter from the route and pass it in as an argument to the `show_person` function.\n",
    "The additional syntax `<string:input>` explicitly tells Flask that we want to pass in that argument as a string.\n",
    "Flask also allows us to specify converters for `int`, `float`, `path` (strings that may contain slashes), and `uuid` (unique identifier strings) in a similar manner.\n",
    "\n",
    "Once the input has been pased into the function, it uses that input to build and return a dictionary.\n",
    "Here, Flask adds some additional functionality to the function.\n",
    "Whenever a function decorated by `@app.route()` returns a dictionary, Flask automatically uses the JSON library to convert that dictionary to a JSON object before sending it to the browser. \n",
    "\n",
    "**POP QUIZ**: Based on what you know, how would you expect Flask to handle a function that returns a Python list?"
   ]
  },
  {
   "cell_type": "markdown",
   "metadata": {},
   "source": [
    "Now we look at the `facts.html`.\n",
    "Inside the body, we find a `form` tag containing several elements, as well as a script tag containing some JQuery code."
   ]
  },
  {
   "cell_type": "markdown",
   "metadata": {},
   "source": [
    "```html\n",
    "<form>\n",
    "    <label for=\"prompt\">Enter text here!</label>\n",
    "    <input type=\"text\" id=\"myPrompt\" name=\"prompt\"></input>\n",
    "    <button id=\"gimme\">Gimme Those Facts!</button>\n",
    "</form>\n",
    "```"
   ]
  },
  {
   "cell_type": "markdown",
   "metadata": {},
   "source": [
    "Looking inside the form, we find a label tag with attribute `for=\"prompt\"` and an input tag of with attributes `type=\"text\"`, `id=\"myPrompt\"`, and `name=\"prompt\"`.\n",
    "\n",
    "The `for` attribute in the label tag and `name` attribute the input tag work together to tell the browser that particular label belongs to that particular input.\n",
    "If a form contains multiple inputs, each will have their own name attributes tied to their own labels.\n",
    "\n",
    "The input tag's `type` attribute tells the browser what kind of input to display, and what type of data that input holds. \n",
    "There are `type` attribute values that specify many, many types of inputs ranging from radio buttons and checkboxes to images and dates.\n",
    "\n",
    "The input tag's `id` attribute will allow JQuery to select it down the line.\n",
    "\n",
    "Lastly, we see that the form contains a button with attribute `id=\"gimme\"`.\n",
    "Again, we set this element's id for JQuery.\n"
   ]
  },
  {
   "cell_type": "markdown",
   "metadata": {},
   "source": [
    "Now let's look inside the script tag:\n",
    "\n",
    "```javascript\n",
    "$(function(){\n",
    "    $(\"#gimme\").click(function(event){\n",
    "        event.preventDefault();\n",
    "        let text = $(\"#myPrompt\").val();\n",
    "        $.get('/facts/' + text,\n",
    "        function(data, status){\n",
    "            let input = $(\"<p></p>\").text(\"Input: \" + data.input);\n",
    "            let length = $(\"<p></p>\").text(\"Length: \" + data.length);\n",
    "            let uppercase = $(\"<p></p>\").text(\"Uppercase: \" + data.uppercase);\n",
    "            $(\"#factholder\").append(input, length, uppercase); \n",
    "        });\n",
    "    });\n",
    "})\n",
    "\n",
    "```"
   ]
  },
  {
   "cell_type": "markdown",
   "metadata": {},
   "source": [
    "Again, the first line tells JQuery to wait for the DOM to load before calling the outermost callback function.\n",
    "\n",
    "The next line,  `$(\"#gimme\").click(function(event){ ...`, selects the button by its id attribute and attaches to it an event listener for click events. \n",
    "When a click event is heard, the listener calls the callback function passed to it as an argument.\n",
    "\n",
    "`event.preventDefault();` stops the browser from attempting to reload the page when the form is submitted. \n",
    "\n",
    "In the next line, `let text = $(\"#myPrompt\").val();`, JQuery selects the text input by its id attribute and extracts the value that the user has typed into it, storing that value in the `text` variable.\n"
   ]
  },
  {
   "cell_type": "markdown",
   "metadata": {},
   "source": [
    "Now we get to the tricky bit. \n",
    "As you probably guessed, when we call the `$.get('/facts/' + text)` function, JQuery makes an AJAX request to the server's `facts/<input>` route with a `GET` method in the header.\n",
    "In general it could take a long time for a request to reach the browser, for the flask to process that request, potentially interact with databases, call third party services, and send back a response to the browser.\n",
    "Because we have no idea when that response will arrive at the browser, we have to handle the response \"asynchronously\". \n",
    "\n",
    "To accomplish this, `$.get` must also be passed a callback function into its second argument. \n",
    "As `$.get` sends out the request, it will also set up an event listener that waits for the response from the browser, only calling the callback when the listener hears that the response arrives.\n",
    "Here's the callback we pass into `$.get$`:\n",
    "\n",
    "```javascript\n",
    "function(data, status){\n",
    "    let input = $(\"<p></p>\").text(\"Input: \" + data.input);\n",
    "    let length = $(\"<p></p>\").text(\"Length: \" + data.length);\n",
    "    let uppercase = $(\"<p></p>\").text(\"Uppercase: \" + data.uppercase);\n",
    "    $(\"#factholder\").append(input, length, uppercase); \n",
    "}\n",
    "```\n",
    "\n",
    "All the callbacks we have seen up until now have had no inputs, but the callback passed into `$.get` must itself take two inputs, which are passed into the callback by the event listener set up by `$.get`.\n",
    "The first input contains the actual data inside the response, which we recall was formatted as a JSON object.\n",
    "The second input contains the response status metadata as a string."
   ]
  },
  {
   "cell_type": "markdown",
   "metadata": {},
   "source": [
    "Inside the body of this function, we see some JQuery code that does something we haven't seen before: DOM manipulation.\n",
    "This block of code will edit the HTML DOM inside the browser, thus adding new visible UI components.\n",
    "Let's look at the first line:\n"
   ]
  },
  {
   "cell_type": "markdown",
   "metadata": {},
   "source": [
    "\n",
    "```javascript\n",
    "let input = $(\"<p></p>\").text(\"Input: \" + data.input);\n",
    "```"
   ]
  },
  {
   "cell_type": "markdown",
   "metadata": {},
   "source": [
    "This line first creates a new `<p>` tag, then adds `\"Input: \" + data.input` to its internal text.\n",
    "This resulting DOM element is saved into the input variable.\n",
    "The next two lines similarly create DOM elements and stores them into variables.\n",
    "\n",
    "Now we've created DOM elements in Javascript, but they haven't been mounted anywhere on the DOM tree. \n",
    "This means they won't be rendered anywhere on the page.\n",
    "In order to mount these DOM elements, we include the following line of code: \n"
   ]
  },
  {
   "cell_type": "markdown",
   "metadata": {},
   "source": [
    "```javascript\n",
    "$(\"#factholder\").append(input, length, uppercase); \n",
    "```\n",
    "This line selects the existing DOM element with attribute `id=\"factholder\"` (which happens to be a div in our HTML template), then mounts the previously unmounted DOM elements held in the `input`, `length`, and `uppercase` variables to that selected element.\n"
   ]
  },
  {
   "cell_type": "markdown",
   "metadata": {},
   "source": [
    "---- \n",
    "\n",
    "To recap the above section, JQuery sets a click event listener on the button. \n",
    "When a click is heard, JQuery grabs the user Input from the text input tag and sends it to the server in a get request.\n",
    "Meanwhile, JQuery sets up a listener to await the response of that get request.\n",
    "Then, when that response arrives, JQuery uses data from the response to generate some unmounted DOM elements.\n",
    "Lastly, JQuery mounts those DOM elements to the factholder div."
   ]
  },
  {
   "cell_type": "markdown",
   "metadata": {},
   "source": [
    "----\n",
    "\n",
    "That's all for our Web development tutorial! \n",
    "You should now have all the tools you need to make any web app you could dream up in Flask.\n",
    "\n",
    "Obviously, there's always more to learn, but anything above and beyond these features is well out of the scope of this class. \n",
    "If you want to build larger, more sophisticated apps, you might do well to learn a modern Javascript component framework like React, Angular, or Vue.js.\n",
    "If you are looking to make a prettier app, you should look into some CSS frameworks like Bootstrap, Bulma, or Tailwind.\n",
    "There are also lots of back-end plugins for Flask such as authorization/security managers, mail daemons, SQL wrappers, debug tools, etc. that could help you down the line if you need to scale your server's logic."
   ]
  },
  {
   "cell_type": "markdown",
   "metadata": {},
   "source": []
  },
  {
   "cell_type": "markdown",
   "metadata": {},
   "source": [
    "## Exercise 2 "
   ]
  },
  {
   "cell_type": "markdown",
   "metadata": {},
   "source": []
  },
  {
   "cell_type": "code",
   "execution_count": null,
   "metadata": {},
   "outputs": [],
   "source": []
  },
  {
   "cell_type": "markdown",
   "metadata": {},
   "source": [
    "## Exercise 3"
   ]
  },
  {
   "cell_type": "markdown",
   "metadata": {},
   "source": []
  },
  {
   "cell_type": "markdown",
   "metadata": {},
   "source": []
  }
 ],
 "metadata": {
  "kernelspec": {
   "display_name": "Python 3.9.12 ('base')",
   "language": "python",
   "name": "python3"
  },
  "language_info": {
   "codemirror_mode": {
    "name": "ipython",
    "version": 3
   },
   "file_extension": ".py",
   "mimetype": "text/x-python",
   "name": "python",
   "nbconvert_exporter": "python",
   "pygments_lexer": "ipython3",
   "version": "3.9.12"
  },
  "orig_nbformat": 4,
  "vscode": {
   "interpreter": {
    "hash": "2c38b1a90b4a59b23948fb218e1da4d1184e9b46ea8636c2b479a765f3725745"
   }
  }
 },
 "nbformat": 4,
 "nbformat_minor": 2
}
