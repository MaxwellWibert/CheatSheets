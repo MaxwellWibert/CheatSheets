{
 "cells": [
  {
   "cell_type": "markdown",
   "metadata": {},
   "source": [
    "# CheatSheet 5"
   ]
  },
  {
   "cell_type": "markdown",
   "metadata": {},
   "source": [
    "## Exercise 1"
   ]
  },
  {
   "cell_type": "markdown",
   "metadata": {},
   "source": [
    "In this exercise, you are asked to pull some data from an API, clean it, and then use it to construct your own server/API in flask. We have already covered how to get and clean data, so consult previous cheatsheets if you need a refresher. The only novel part of this exercise is the Flask server, so let's go over the basics of Flask together. It is generally easier to run a Flask app using a .py file from the console, so for this exercise, we'll also be using some other files in this folder. The explanations will stay in this notebook, but please consult the .py files as we move forward."
   ]
  },
  {
   "cell_type": "markdown",
   "metadata": {},
   "source": [
    "### Building Your First Flask Server"
   ]
  },
  {
   "cell_type": "markdown",
   "metadata": {},
   "source": [
    "Start by installing Flask if you haven't already done so:"
   ]
  },
  {
   "cell_type": "code",
   "execution_count": 1,
   "metadata": {},
   "outputs": [
    {
     "name": "stdout",
     "output_type": "stream",
     "text": [
      "Collecting package metadata (current_repodata.json): done\n",
      "Solving environment: done\n",
      "\n",
      "# All requested packages already installed.\n",
      "\n",
      "\n",
      "Note: you may need to restart the kernel to use updated packages.\n"
     ]
    }
   ],
   "source": [
    "%conda install -c anaconda flask -y"
   ]
  },
  {
   "cell_type": "markdown",
   "metadata": {},
   "source": [
    "Now let's build with a very basic Flask server, which is found in the `helloworld.py` file.\n"
   ]
  },
  {
   "cell_type": "markdown",
   "metadata": {},
   "source": [
    "In the first line we import the Flask class:\n",
    "\n",
    "```python\n",
    "from flask import Flask\n",
    "\n",
    "```"
   ]
  },
  {
   "cell_type": "markdown",
   "metadata": {},
   "source": [
    "Next we need to create a Flask object by calling the Flask class's constructor function. This object, also known as an app, is responsible for much receiving, parsing, and responding to http requests.\n",
    "\n",
    "```python\n",
    "app = Flask(__name__)\n",
    "\n",
    "```\n",
    "\n",
    " The Flask constructor takes a single argument, which specifies the module our app will live and operate in. For our purposes, we only ever need to pass in python's special built in `__name__` variable, which has the value of whatever module we're currently in. "
   ]
  },
  {
   "cell_type": "markdown",
   "metadata": {},
   "source": [
    "Now we will specify how the app handles an http request by defining functions that are tagged with the `@app.route()` decorator. \n",
    "\n",
    "```python\n",
    "@app.route(\"/\")\n",
    "def hello_world():\n",
    "    return \"<p>Hello, World!</p>\"\n",
    "```\n",
    "Here, the decorator is modifying the `hello_world` function so that it is called everytime the app receives an http request to the root path, \"/\". Whatever value the `hello_world` function returns is passed back to the app to be sent as a response to the browser. Let's try running the server. Open up a terminal, navigate to this folder, and run the following commands:\n"
   ]
  },
  {
   "cell_type": "markdown",
   "metadata": {},
   "source": [
    "\n",
    "```bash\n",
    "$ export FLASK_APP=helloworld\n",
    "$ flask run\n",
    "\n",
    "```\n",
    "The terminal should spit something out that looks like this:\n",
    "\n",
    "```console\n",
    "* Serving Flask app \"helloworld\"\n",
    "* Environment: production\n",
    "  WARNING: This is a development server. Do not use it in a production deployment.\n",
    "  Use a production WSGI server instead.\n",
    "* Debug mode: off\n",
    "* Running on http://127.0.0.1:5000/ (Press CTRL+C to quit)\n",
    "```\n",
    "Notice that the terminal is hanging/not offering you a new prompt. This is because the server app is running until we tell it to quit. `http://127.0.0.1` is the IP address of your computer, AKA \"localhost\". This is followed by the port where the server will accept requests, shown above as `5000`.\n"
   ]
  },
  {
   "cell_type": "markdown",
   "metadata": {},
   "source": [
    "\n",
    "Open up a browser and go to the url `http://localhost:5000`. You should now see a page that displays \"Hello, World!\". Additionally, the terminal should have logged some data about the http request it received when you opened up this page:\n",
    "\n",
    "```console\n",
    "127.0.0.1 - - [05/Jul/2022 02:36:03] \"GET / HTTP/1.1\" 200 -\n",
    "```"
   ]
  },
  {
   "cell_type": "markdown",
   "metadata": {},
   "source": [
    "Isn't that neat? Still, the internet would be pretty boring if every site was a single plaintext page, so let's ramp it up a little and make a more complex server. Go to the terminal and close the app with `CTRL + C` (Windows/Linux) or `Command + C`  (Mac)."
   ]
  },
  {
   "cell_type": "markdown",
   "metadata": {},
   "source": [
    "### Routing with Flask"
   ]
  },
  {
   "cell_type": "markdown",
   "metadata": {},
   "source": [
    "This example will follow the `routing.py` file. \n",
    "We again start our server by importing the Flask class and using its constructor to instantiate an app.\n",
    "This app will have several routes available, each specified by a different function decorated with `@app.route()`. \n",
    "Like last time, we have a homepage that displays when we visit the root path of the server, \"/\". \n",
    "However, we also have two other routes specified. "
   ]
  },
  {
   "cell_type": "markdown",
   "metadata": {},
   "source": [
    "```python\n",
    "@app.route('/about')\n",
    "def about():\n",
    "    return 'This is an about page'\n",
    "```\n",
    "This section of code says the app will call the `about` function everytime it gets an http request with the \"/about\" path.\n",
    " If you run the server with the following commands:\n",
    "```bash\n",
    "$ export FLASK_APP=routing\n",
    "$ flask run\n",
    "```\n",
    "and then navigate to `http://localhost:5000/about` on our browser, you should see the about page and get a log entry on our terminal. \n",
    "We can similarly bind any number of static pages to whatever routes we like.\n"
   ]
  },
  {
   "cell_type": "markdown",
   "metadata": {},
   "source": [
    "Note that these routes don't have to be just one level deep. We could just as easily grab an http request directed at the \"/about/team\" or \"/this/is/a/very/long/nested\" path.  "
   ]
  },
  {
   "cell_type": "markdown",
   "metadata": {},
   "source": [
    "But what if we would like the app to dynamically respond to some input? For that we need to use variables to our URL parser.\n",
    "This requires that we make some simple changes to our decorated routing functions:\n",
    "\n",
    "```python\n",
    "@app.route('/person/<name>')\n",
    "def show_person(name):\n",
    "    return f'A person named {name}'\n",
    "```\n",
    "Here, the app's URL parser extracts the contents of `<name>` from the URL of the http request. \n",
    "The app then passes these contents into the show_person function as a keyword argument, `name`. \n",
    "Then we can do whatever we like with this argument inside the show_person function's body, including using it to tailor the app's response.\n"
   ]
  },
  {
   "cell_type": "markdown",
   "metadata": {},
   "source": [
    "\n",
    "Go to `http://localhost:5000/person/Neil` on your browser, and you should see a page that says \"A person named Neil went to the moon\". You can swap out \"Neil\" for \"Buzz\" in the URL and the webpage should respond accordingly. Feel free to keep swapping out the value of `<name>` in the URL until this functionality seeps in. When you're ready, shut down the server and move onto the next example."
   ]
  },
  {
   "cell_type": "markdown",
   "metadata": {},
   "source": [
    "### Additional Functionality\n",
    "\n",
    "This example will follow the files in the \"app\" folder, and will cover a few extra bells and whistles for your site, including setting up your Flask server to do HTML rendering from templates, handling different HTTP request methods, and returning JSON via an API. \n"
   ]
  },
  {
   "cell_type": "markdown",
   "metadata": {},
   "source": [
    "Along the way, we'll also see how to add styling to your pages using CSS and learn some basic JQuery (a HTML dom manipulator and http request library in javascript). These are indispensible tools for any web project you might need."
   ]
  },
  {
   "cell_type": "markdown",
   "metadata": {},
   "source": [
    "Before we begin this example, you'll need to set up MySQL on your machine if you haven't already. \n",
    "\n",
    "Start by downloading the community edition of MySQL\n",
    "https://www.mysql.com/products/community/\n",
    "\n",
    "MySQL is its own program that runs independently of Python.\n",
    "Once the program is installed, you'll have to start this program.\n",
    "This is done differently depending on which OS you're using.\n",
    "Check the following link to see how to start the program for you:\n",
    "\n",
    "https://www.databasestar.com/start-mysql-server/"
   ]
  },
  {
   "cell_type": "markdown",
   "metadata": {},
   "source": [
    "In addition, you'll need to use Conda to install mysqlclient, which allows python to interact with MySQL.:"
   ]
  },
  {
   "cell_type": "code",
   "execution_count": 4,
   "metadata": {},
   "outputs": [
    {
     "name": "stdout",
     "output_type": "stream",
     "text": [
      "Collecting package metadata (current_repodata.json): done\n",
      "Solving environment: done\n",
      "\n",
      "# All requested packages already installed.\n",
      "\n",
      "\n",
      "Note: you may need to restart the kernel to use updated packages.\n"
     ]
    }
   ],
   "source": [
    "%conda install -c conda-forge mysqlclient -y"
   ]
  },
  {
   "cell_type": "markdown",
   "metadata": {},
   "source": []
  },
  {
   "cell_type": "markdown",
   "metadata": {},
   "source": [
    "\n"
   ]
  },
  {
   "cell_type": "markdown",
   "metadata": {},
   "source": [
    "Start by navigating to the app subfolder in both your text editor and your terminal.\n",
    "You'll notice that app contains the `fancy.py` file and several subfolders of its own. \n",
    "This directory structure helps Flask to build more complex apps and generally keeps things tidier for us developers.\n",
    "`fancy.py` contains the Flask app logic and dictates the overall flow of the program.\n",
    "\n",
    "Start up your server with the following commands:\n",
    "\n",
    "```bash\n",
    "$ export FLASK_APP=fancy\n",
    "$ flask run\n",
    "```\n",
    "Next, open the page in your browser at `http://localhost:5000` and have a look at each of the pages. \n",
    "The home page has some basic text. \n",
    "The clock page displays the date and time. \n",
    "The clicker page has an interactive click counter.\n",
    "The facts page has an HTML form that asks for a string from the user and outputs some facts about that string to HTML.\n",
    "Each of the pages has links to the other three.\n",
    "\n",
    "When you've played around with the site enough, we'll see how each of these pages works."
   ]
  },
  {
   "cell_type": "markdown",
   "metadata": {},
   "source": [
    "#### Basic HTML, CSS, & Rendering - Home Page\n",
    "\n",
    "Until now, everytime we wanted Flask to send the browser some HTML, we had to type it all out inside the return statement of our route decorated function.\n",
    "For large pages, this is an unruly and unsustainable practice. \n",
    "It suits us better to write out this HTML file and have Flask retrieve it from the directory using the `render_template` function.\n",
    "\n",
    "```python\n",
    "@app.route('/')\n",
    "def home():\n",
    "    return render_template('home.html')\n",
    "```\n",
    "\n",
    "This function will look for a file in the templates subfolder, modify a copy of it for our needs, and send that copy to the browser.\n",
    "Take a look at the `home.html` file in the templates subfolder. \n",
    "The body of this template is just plain HTML containing a header tag denoted by `<h1>` and three link tags denoted by `<a>`.\n",
    "Importantly, the link tags each have an `href` property.\n",
    "When these links are clicked, the browser sends a request to the server directed at the path contained in the href property (e.g., clicking on the tag with `href=\"./clock\"` will send a request to the clock path, which will then send us the clock page).\n"
   ]
  },
  {
   "cell_type": "markdown",
   "metadata": {},
   "source": [
    "\n",
    "Inside the head of the template, we see the following tag:\n",
    "```html\n",
    "<link rel=\"stylesheet\" href=\"{{ url_for('static', filename='css/style.css') }}\"/>\n",
    "```\n",
    "This tag takes advantage of Jinga, Flask's internal templating engine. \n",
    "Everything inside the curly brackets `{{...}}` is written in Python. \n",
    "When the `render_template` function is called, this python code will be replaced by the string output of the `url_for` function before any HTML gets sent to the browser.\n",
    "In this case, the templating engine will replace that code with the string \"/static/css/style.css\", the path for our website's stylesheet."
   ]
  },
  {
   "cell_type": "markdown",
   "metadata": {},
   "source": [
    "Now take a look at the stylesheet file.\n",
    "It contains style instructions for any `<h1>` and `<h2>` header tags on our site.\n",
    "Each of these instructions is composed of a CSS selector and a set of property-value pairs:\n",
    "```css\n",
    "h1 {\n",
    "    color: red;\n",
    "    text-decoration: underline;\n",
    "}\n",
    "```\n",
    "In the above example, our CSS selector is `h1`, which tells the browser that the subsequent set of property-value pairs should modify the appearance of `<h1>` tags on the page.\n",
    "We can also use tag classes and id's to as selectors.\n",
    "For example, `.rectangle` selects all tags with property `class=\"rectangle\"`, and `#square` selects the unique tag with property `id=\"square\".`"
   ]
  },
  {
   "cell_type": "markdown",
   "metadata": {},
   "source": [
    "#### Dynamic Rendering -- Clock Page\n",
    "\n",
    "Now let's take a look at the clock page.\n",
    "This page is produced when `fancy.py`'s clock route calls `render_template` on the `clock.html` template.\n",
    "```python\n",
    "@app.route('/clock')\n",
    "def clock():\n",
    "    #Gets the date of now\n",
    "    t = datetime.datetime.now()\n",
    "    date = t.strftime(\"%A, %B %d of %Y\")\n",
    "    #Gets the time of now\n",
    "    time = t.strftime(\"%I:%M %p\")\n",
    "    #Renders template using variables\n",
    "    return render_template('clock.html', date=date, time=time)\n",
    "```\n",
    "Here, our clock function calculates the date and time using the datetime library and then passes these values into the `render_template` function as two extra keyword arguments."
   ]
  },
  {
   "cell_type": "markdown",
   "metadata": {},
   "source": [
    "Any keyword arguments passed into the `render_template` function will be accessible anywhere in that template.\n",
    "If you open up the clock.html file inside the templates subfolder, you should see the following tags inside the body:\n",
    "\n",
    "```html\n",
    "<h1>The date is {{ date }}</h1>\n",
    "<h2>The time is {{ time }}</h2>\n",
    "```\n",
    "Here, the values of `{{ date }}` and `{{ time }}` are replaced with the keyword argument values passed into the `render_template` function. \n",
    "We can pass in an arbitrary number of keyword arguments to our templates in this manner, but you might also consider grouping your data into a list or a dictionary and passing that to your template instead to keep things tidy.\n",
    "\n",
    "Lastly, notice that we are again importing the `style.css` file from the static/css/ subfolder. \n",
    "One of the benefits of modularizing our code into separate files: we only need to write each bit of code once, then we can use it over and over again all throughout the site. "
   ]
  },
  {
   "cell_type": "markdown",
   "metadata": {},
   "source": [
    "#### Handling Different Request Methods, Interactivity, and Databases -- Clicker Page"
   ]
  },
  {
   "cell_type": "markdown",
   "metadata": {},
   "source": [
    "Let's take a look at the clicker page.\n",
    "This page requires that we make use of state persistence, which is to say we want the application to keep track of how many times we've clicked our clicker.\n",
    "One good way to keep track of this is to use a database. \n",
    "For this exercise, we're going to use SQLite, a SQL database with support built into native python.\n",
    "First you'll need to import SQLite into the app.py file."
   ]
  },
  {
   "cell_type": "markdown",
   "metadata": {},
   "source": [
    "```python\n",
    "import sqlite3\n",
    "```"
   ]
  },
  {
   "cell_type": "markdown",
   "metadata": {},
   "source": [
    "Once imported, we'll have to create a \"connection\", which allows python to interact with the sqlite database.\n",
    "\n",
    "```python\n",
    "connection = sqlite3.connect('clicker.db', check_same_thread=false)\n",
    "```\n",
    "The first argument in the `sqlite3.connect` function is the name we'd like to give our database file.\n",
    "Notice that database file names end in the `.db` extensions\n",
    "The keyword argument in the `connect` function, `check_same_thread=false`, tells sqlite that the connection can be used by a different thread than the one that created it.\n",
    "This argument is necessary here since the Flask app runs on a different thread, and we'd like Flask to be able to access this connection.\n",
    "\n",
    "With the connection open, we'll create a \"cursor\" object, which interprets our SQL queries, sends the appropriate request down the connection, and passes back the database's response.\n",
    "\n",
    "```python\n",
    "cursor = connection.cursor()\n",
    "``` \n"
   ]
  },
  {
   "cell_type": "markdown",
   "metadata": {},
   "source": [
    "With our database, connection, and cursor all up and running, we can now execute SQL query.\n",
    "We can execute a SQL query using the `cursor.execute` function, which takes as an argument a string holding a query written in SQL. \n",
    "\n",
    "\n",
    "```python\n",
    "cursor.execute(\"CREATE TABLE IF NOT EXISTS Clicks(ID INTEGER, TIME varchar(255) NOT NULL, PRIMARY KEY (ID))\")\n",
    "```\n",
    "\n",
    "This first query creates a table, Clicks, in which each row represents a single click event in the browser.\n",
    "Let's take a closer look at the SQL written inside the string:\n",
    "\n",
    "```SQL\n",
    "CREATE TABLE IF NOT EXISTS Clicks(\n",
    "    ID INTEGER, \n",
    "    TIME varchar(255) NOT NULL, \n",
    "    PRIMARY KEY (ID)\n",
    ")\n",
    "```\n",
    "\n",
    "Since we may need to run our Flask app multiple times, we will only create a new table if one does not already exist inside SQLite.\n",
    "This table has just two columns:\n",
    "\n",
    "1. ID, \n",
    "    - Holds data of type integer, \n",
    "    - Specified to be the \"primary key\" of the table at the end of the query. Each table can have a single primary key, which serves as a unique identifier for each row. SQL will automatically fill in this value when we insert rows into the table.\n",
    "2. TIME, \n",
    "    - Holds data of type string of maximum length 255. This is specified by `varchar(255)`\n",
    "    - The `NOT NULL` keyword specifies that this column is not allowed to be empty. \n",
    "\n"
   ]
  },
  {
   "cell_type": "markdown",
   "metadata": {},
   "source": [
    "\n",
    "Look at the `@app.route` decorator for the clicker route in the `fancy.py` file.\n",
    "\n",
    "```python\n",
    "@app.route('/clicker', methods=['GET', 'POST'])\n",
    "```\n",
    "\n",
    "Notice that this time we are passing in an extra keyword argument, `methods=['GET','POST]`.\n",
    "This tells the app to look for these methods in the header of the HTTP request.\n",
    "The app can access which method it is receiving as the value `request.method` anywhere inside the decorated function body.\n",
    "We can use this value to specify branching behavior for the app depending on which method our app receives.\n"
   ]
  },
  {
   "cell_type": "markdown",
   "metadata": {},
   "source": [
    "\n",
    "```python\n",
    "def clicker():\n",
    "    if(request.method == 'GET'):\n",
    "        df = pd.read_sql_query(\"SELECT * FROM Clicks\", connection)\n",
    "        count = len(df.index)\n",
    "        return render_template('clicker.html', count=count)\n",
    "    elif(request.method == 'POST'):\n",
    "        cursor.execute(\"INSERT INTO Clicks(TIME) VALUES(unixepoch('now'));\")\n",
    "        return \"count variable updated\"\n",
    "```"
   ]
  },
  {
   "cell_type": "markdown",
   "metadata": {},
   "source": [
    "If the app receives a request to the `/clicker` path with a `GET` method specified in the header of the request, then pandas uses our sqlite connection to get all the rows from the `Clicks` table and create a dataframe with them.\n",
    "We then look at the length of the dataframe index to determine how many rows are in the table, thus computing `count` we then pass this count variable into the templating engine to fill in the `clicker.html` template.\n",
    "\n",
    "Otherwise, if the request has a POST method, we insert a new row into the Clicks table with `TIME` containing the unix epoch representation of the current time.\n",
    "Unix epoch is computer standard of writing time, and is interpreted to mean the number of seconds that have passed between midnight of January 1st 1970, and the time we wish to describe.\n",
    "\n",
    "**DISCLAIMER:** It is dangerous to run any query based on a string passed from the browser to the server.\n",
    "A hacker could modify the string to contain unwanted SQL code that would give them the power to read, modify, or delete all the data in your database. \n",
    "If you must build your query with browser data, it is wise to \"sanitize\" it first.\n",
    "\n",
    "DON'T DO:\n",
    "```python\n",
    "cursor.execute(\"SELECT admin FROM users WHERE username = '\" + username + '\")\n",
    "```\n",
    "\n",
    "INSTEAD DO:\n",
    "```python\n",
    "cursor.execute(\"SELECT admin FROM users WHERE username = %s'\", (username, ))\n",
    "```\n"
   ]
  },
  {
   "cell_type": "markdown",
   "metadata": {},
   "source": [
    "Now we begin working on the front end logic of the page."
   ]
  },
  {
   "cell_type": "markdown",
   "metadata": {},
   "source": [
    "\n",
    "In order to use JQuery, we start by downloading the library from JQuery's content delivery network using a script tag in the head of our clicker.html file:\n",
    "\n",
    "```html\n",
    "<script\n",
    "    src=\"https://code.jquery.com/jquery-3.6.0.min.js\"\n",
    "    integrity=\"sha256-/xUj+3OJU5yExlq6GSYGSHk7tPXikynS7ogEvDej/m4=\"\n",
    "    crossorigin=\"anonymous\"></script>\n",
    "```\n",
    "When the browser sees this script tag inside the head of the HTML document, it requests the jQuery library from the URL inside the `src` attribute.\n",
    "The `integrity` attribute contains a hash of the entire library file that is used to double check that nothing was changed in the file during the transfer for security purposes.\n",
    "Lastly, the `crossorigin=\"anonymous\"` attribute simply tells the browser to ignore the fact that this script is not being loaded from our own server."
   ]
  },
  {
   "cell_type": "markdown",
   "metadata": {},
   "source": [
    "Next, we see the body contains an `<h1>` header tag and a button:\n",
    "```html\n",
    "<h1> You have clicked {{ count }} times (refresh to update)</h1>\n",
    "<button>Click me to increase count!</button>\n",
    "```"
   ]
  },
  {
   "cell_type": "markdown",
   "metadata": {},
   "source": [
    "These two tags are the main functional visual elements of the page.\n",
    "The `<h1>` tag will be rendered by flask , which ultimately gets that information from the Counter record in the database.\n",
    "The bottom is a button that is supposed to send a POST request to the server. \n",
    "However, in order for that button to actually do anything, we have to define what is called an event listener.\n",
    "\n",
    "As the name suggests, an event listener will continuously listen for a specified event.\n",
    "When it \"hears\" that event, it will call a specified function, called a \"callback function\". \n",
    "You have already been using event listeners throughout this course, though you may not have realized it.\n",
    "For example, Flask's `@app.route(path)` decorator sets up an event listener that listens for incoming http requests directed towards `path` and calls the function defined underneath it.\n",
    "Any time you've made an API request or interacted with a database, python set up an event listener to wait for the response."
   ]
  },
  {
   "cell_type": "markdown",
   "metadata": {},
   "source": [
    "In order to define event listener's in the browser, we'll be using JQuery library.\n",
    "If you look at the bottom of the body of `clicker.html`, you'll see a `<script>` tag.\n",
    "\n",
    "The script tag contains some JS code that adds functionality to the page:"
   ]
  },
  {
   "cell_type": "markdown",
   "metadata": {},
   "source": [
    "```javascript\n",
    "$(function(){\n",
    "    $(\"button\").click(function(){\n",
    "        $.post('clicker');\n",
    "    });\n",
    "});\n",
    "```"
   ]
  },
  {
   "cell_type": "markdown",
   "metadata": {},
   "source": [
    "In the code above, the dollar symbol `$` is shorthand for JQuery, allowing us to access the library with minimal typing.\n",
    "The first dollar sign sets up an event listener that waits for the HTML document to finish loading into the DOM by the browser.\n",
    "Once the DOM is finished loading, the callback function is called, and the code inside begins to run.\n",
    "\n",
    "----\n",
    "\n",
    "The next dollar sign `$(\"button\")` sets up an event listener that listens for a click event on any button tag in the DOM.\n",
    "Here we say that JQuery \"selects\" the button.\n",
    "\n",
    "**DISCLAIMER:** If we had multiple button tags, the expression `$(\"button\")` would select all of them.\n",
    "If your application needs to listen for events from multiple buttons (or multiple input tags of any single type), we can be more specific with our selection using class or id selectors, like you might use in CSS.\n",
    "To select by class, we could add the attribute `class=\"buttonClass\"` inside the HTML tag for all the buttons we wish to select, then select the class using the period symbol, as in `$(\".buttonClass\")`.\n",
    "To select by id, we could add the attribute `id=\"myButton\"` to a single button tag that we wish to select, then select that element using the the hashtag/pound symbol, as in `$(\"#myButton\")`. \n",
    "\n",
    "----\n",
    "\n",
    "Inside the callback of the button's click-event listener, we see the third dollar sign `$.post('clicker');`, which tells JQuery to send an Asynchronous Javascript and XML (AJAX), request to the server's 'clicker' path, all with a `POST` method in the header.\n",
    "AJAX requests are sometimes also known as XMLHttpRequests, and for our purposes are synonymous with HTTP requests.\n",
    "\n",
    "**DISCLAIMER:** AJAX was named when XML was the primary way that server API's packaged and shipped data to the browser. \n",
    "Even though AJAX and XMLHTTPRequest have XML in the name, we can expect XML, JSON, FASTA, or any other kind of data in the response."
   ]
  },
  {
   "cell_type": "markdown",
   "metadata": {},
   "source": [
    "#### API's, Callbacks, & Dom Manipulation -- Facts Page\n"
   ]
  },
  {
   "cell_type": "markdown",
   "metadata": {},
   "source": [
    "Now we turn our attention the Facts page.\n",
    "Let's start by looking at the page's `/facts` route in `fancy.py`: \n"
   ]
  },
  {
   "cell_type": "markdown",
   "metadata": {},
   "source": [
    "```python\n",
    "@app.route('/facts')\n",
    "def facs_page():\n",
    "    return render_template('facts.html')\n",
    "\n",
    "@app.route('/facts/<string:input>')\n",
    "def facts_api(input):\n",
    "    return {\n",
    "        'input' : input,\n",
    "        'length': len(input),\n",
    "        'uppercase': input.upper()\n",
    "    }\n",
    "```"
   ]
  },
  {
   "cell_type": "markdown",
   "metadata": {},
   "source": [
    "The first thing you should notice is that there are two routes specified. \n",
    "The first specifies the root of the `/facts` path.\n",
    "This route does nothing new: it simply renders the `facts.html` template and returns the result to the browser as we have seen before. \n",
    "The second route, on the other hand, serves as an API endpoint.\n",
    "The next thing you should notice is the variable routing, although it looks slightly different this time.\n",
    "Like in the `routing.py` example, Flask will grab the `input` parameter from the route and pass it in as an argument to the `show_person` function.\n",
    "The additional syntax `<string:input>` explicitly tells Flask that we want to pass in that argument as a string.\n",
    "Flask also allows us to specify converters for `int`, `float`, `path` (strings that may contain slashes), and `uuid` (unique identifier strings) in a similar manner.\n",
    "\n",
    "Once the input has been pased into the function, it uses that input to build and return a dictionary.\n",
    "Here, Flask adds some additional functionality to the function.\n",
    "Whenever a function decorated by `@app.route()` returns a dictionary, Flask automatically uses the JSON library to convert that dictionary to a JSON object before sending it to the browser. \n",
    "\n",
    "**POP QUIZ**: Based on what you know, how would you expect Flask to handle a function that returns a Python list?"
   ]
  },
  {
   "cell_type": "markdown",
   "metadata": {},
   "source": [
    "Now we look at the `facts.html`.\n",
    "Inside the body, we find a `form` tag containing several elements, as well as a script tag containing some JQuery code."
   ]
  },
  {
   "cell_type": "markdown",
   "metadata": {},
   "source": [
    "```html\n",
    "<form>\n",
    "    <label for=\"prompt\">Enter text here!</label>\n",
    "    <input type=\"text\" id=\"myPrompt\" name=\"prompt\"></input>\n",
    "    <button id=\"gimme\">Gimme Those Facts!</button>\n",
    "</form>\n",
    "```"
   ]
  },
  {
   "cell_type": "markdown",
   "metadata": {},
   "source": [
    "Looking inside the form, we find a label tag with attribute `for=\"prompt\"` and an input tag of with attributes `type=\"text\"`, `id=\"myPrompt\"`, and `name=\"prompt\"`.\n",
    "\n",
    "The `for` attribute in the label tag and `name` attribute the input tag work together to tell the browser that particular label belongs to that particular input.\n",
    "If a form contains multiple inputs, each will have their own name attributes tied to their own labels.\n",
    "\n",
    "The input tag's `type` attribute tells the browser what kind of input to display, and what type of data that input holds. \n",
    "There are `type` attribute values that specify many, many types of inputs ranging from radio buttons and checkboxes to images and dates.\n",
    "\n",
    "The input tag's `id` attribute will allow JQuery to select it down the line.\n",
    "\n",
    "Lastly, we see that the form contains a button with attribute `id=\"gimme\"`.\n",
    "Again, we set this element's id for JQuery.\n"
   ]
  },
  {
   "cell_type": "markdown",
   "metadata": {},
   "source": [
    "Now let's look inside the script tag:\n",
    "\n",
    "```javascript\n",
    "$(function(){\n",
    "    $(\"#gimme\").click(function(event){\n",
    "        event.preventDefault();\n",
    "        let text = $(\"#myPrompt\").val();\n",
    "        $.get('/facts/' + text,\n",
    "        function(data, status){\n",
    "            let input = $(\"<p></p>\").text(\"Input: \" + data.input);\n",
    "            let length = $(\"<p></p>\").text(\"Length: \" + data.length);\n",
    "            let uppercase = $(\"<p></p>\").text(\"Uppercase: \" + data.uppercase);\n",
    "            $(\"#factholder\").append(input, length, uppercase); \n",
    "        });\n",
    "    });\n",
    "})\n",
    "\n",
    "```"
   ]
  },
  {
   "cell_type": "markdown",
   "metadata": {},
   "source": [
    "Again, the first line tells JQuery to wait for the DOM to load before calling the outermost callback function.\n",
    "\n",
    "The next line,  `$(\"#gimme\").click(function(event){ ...`, selects the button by its id attribute and attaches to it an event listener for click events. \n",
    "When a click event is heard, the listener calls the callback function passed to it as an argument.\n",
    "\n",
    "`event.preventDefault();` stops the browser from attempting to reload the page when the form is submitted. \n",
    "\n",
    "In the next line, `let text = $(\"#myPrompt\").val();`, JQuery selects the text input by its id attribute and extracts the value that the user has typed into it, storing that value in the `text` variable.\n"
   ]
  },
  {
   "cell_type": "markdown",
   "metadata": {},
   "source": [
    "Now we get to the tricky bit. \n",
    "As you probably guessed, when we call the `$.get('/facts/' + text)` function, JQuery makes an AJAX request to the server's `facts/<input>` route with a `GET` method in the header.\n",
    "In general it could take a long time for a request to reach the browser, for the flask to process that request, potentially interact with databases, call third party services, and send back a response to the browser.\n",
    "Because we have no idea when that response will arrive at the browser, we have to handle the response \"asynchronously\". \n",
    "\n",
    "To accomplish this, `$.get` must also be passed a callback function into its second argument. \n",
    "As `$.get` sends out the request, it will also set up an event listener that waits for the response from the browser, only calling the callback when the listener hears that the response arrives.\n",
    "Here's the callback we pass into `$.get$`:\n",
    "\n",
    "```javascript\n",
    "function(data, status){\n",
    "    let input = $(\"<p></p>\").text(\"Input: \" + data.input);\n",
    "    let length = $(\"<p></p>\").text(\"Length: \" + data.length);\n",
    "    let uppercase = $(\"<p></p>\").text(\"Uppercase: \" + data.uppercase);\n",
    "    $(\"#factholder\").append(input, length, uppercase); \n",
    "}\n",
    "```\n",
    "\n",
    "All the callbacks we have seen up until now have had no inputs, but the callback passed into `$.get` must itself take two inputs, which are passed into the callback by the event listener set up by `$.get`.\n",
    "The first input contains the actual data inside the response, which we recall was formatted as a JSON object.\n",
    "The second input contains the response status metadata as a string."
   ]
  },
  {
   "cell_type": "markdown",
   "metadata": {},
   "source": [
    "Inside the body of this function, we see some JQuery code that does something we haven't seen before: DOM manipulation.\n",
    "This block of code will edit the HTML DOM inside the browser, thus adding new visible UI components.\n",
    "Let's look at the first line:\n"
   ]
  },
  {
   "cell_type": "markdown",
   "metadata": {},
   "source": [
    "\n",
    "```javascript\n",
    "let input = $(\"<p></p>\").text(\"Input: \" + data.input);\n",
    "```"
   ]
  },
  {
   "cell_type": "markdown",
   "metadata": {},
   "source": [
    "This line first creates a new `<p>` tag, then adds `\"Input: \" + data.input` to its internal text.\n",
    "This resulting DOM element is saved into the input variable.\n",
    "The next two lines similarly create DOM elements and stores them into variables.\n",
    "\n",
    "Now we've created DOM elements in Javascript, but they haven't been mounted anywhere on the DOM tree. \n",
    "This means they won't be rendered anywhere on the page.\n",
    "In order to mount these DOM elements, we include the following line of code: \n"
   ]
  },
  {
   "cell_type": "markdown",
   "metadata": {},
   "source": [
    "```javascript\n",
    "$(\"#factholder\").append(input, length, uppercase); \n",
    "```\n",
    "This line selects the existing DOM element with attribute `id=\"factholder\"` (which happens to be a div in our HTML template), then mounts the previously unmounted DOM elements held in the `input`, `length`, and `uppercase` variables to that selected element.\n"
   ]
  },
  {
   "cell_type": "markdown",
   "metadata": {},
   "source": [
    "---- \n",
    "\n",
    "To recap the above section, JQuery sets a click event listener on the button. \n",
    "When a click is heard, JQuery grabs the user Input from the text input tag and sends it to the server in a get request.\n",
    "Meanwhile, JQuery sets up a listener to await the response of that get request.\n",
    "Then, when that response arrives, JQuery uses data from the response to generate some unmounted DOM elements.\n",
    "Lastly, JQuery mounts those DOM elements to the factholder div."
   ]
  },
  {
   "cell_type": "markdown",
   "metadata": {},
   "source": [
    "----\n",
    "\n",
    "That's all for our Web development tutorial! \n",
    "You should now have all the tools you need to make any web app you could dream up in Flask.\n",
    "\n",
    "Obviously, there's always more to learn, but anything above and beyond these features is well out of the scope of this class. \n",
    "\n",
    "1. If you want to build larger, more sophisticated apps, you might do well to learn a modern Javascript component framework like React, Angular, or Vue.js.\n",
    "2. If you are looking to make a prettier app, you should look into some CSS frameworks like Bootstrap, Bulma, or Tailwind.\n",
    "3. There are also lots of back-end plugins for Flask such as authorization/security managers, mail daemons, SQL wrappers, debug tools, etc. that could help you down the line if you need to scale your server's logic.\n",
    "4. You might also consider using different databases depending on your needs.\n",
    "For example: MongoDB is a popular database that stores information directly as JSON, and is useful for information that is tricky to put into tables. "
   ]
  },
  {
   "cell_type": "markdown",
   "metadata": {},
   "source": [
    "## Exercise 2 "
   ]
  },
  {
   "cell_type": "markdown",
   "metadata": {},
   "source": [
    "This exercise asks you to convert a basic binary tree into a binary search tree (BST).\n",
    "Let's review what BST's are and how they work:\n",
    "\n",
    "![Binary Search Tree](BSTSearch.png)\n",
    "\n",
    "[Image Source](https://www.geeksforgeeks.org/binary-search-tree-data-structure/)"
   ]
  },
  {
   "cell_type": "markdown",
   "metadata": {},
   "source": [
    "A binary tree is made up of many nodes.\n",
    "Each node contains a value (like a number) and references to 2 or fewer child nodes, referred to as its  \"left\" and \"right\" children.\n",
    "\n",
    "We call the collection a node with all of its children, grandchildren, great grandchildren and so on to be that node's subtree.\n",
    "\n",
    "The defining property of BST, is that every value in it's left child's subtree is less than the value in that node, and every value in its right child's subtree is greater than the value in that node. We can see this property in the above diagram, where all the numbers in the left subtree of the root node are less than $8$, and all the values in the right subtree of that node are greater than $8$."
   ]
  },
  {
   "cell_type": "markdown",
   "metadata": {},
   "source": [
    "A binary search tree needs two methods: one for looking up existing values in the tree, and one for storing new values in a way that preserves its defining property."
   ]
  },
  {
   "cell_type": "markdown",
   "metadata": {},
   "source": [
    "### Searching\n",
    "\n",
    "Suppose we wanted to look up whether or not the above tree contains a value of $4$.\n",
    "This method should return `True` if $4$ is contained within the tree, and `False` otherwise.\n",
    "The process would look be as follows:\n",
    "\n",
    "1. Start from the root node. We compare $4$ to the value of this node, $8$. Since $4<8$, we know that if $4$ is in the tree at all, it must be somewhere in the left subtree of our current node. Thus, the we move our search to the left child of our current node.\n",
    "2. Now we are at the node containing $3$. Compare $4$ to this value. Since $4>3$, we know that we need to look at the right subtree of the current node.\n",
    "3. We are at the node containing 6. Comparing our values, we see that $4<6$, so next we look at the left subtree of the current node.\n",
    "4. We are at the node containing 4. Since our search value matches the value in the node, our search has completed, and returns `True`."
   ]
  },
  {
   "cell_type": "markdown",
   "metadata": {},
   "source": [
    "Supposing instead we were to try to search for a value of $5$ in the BST, which we already know at a glance is not there. The process would look very similar until the end: \n",
    "\n",
    "1. Start from the root node. We compare $5$ to the value of this node, $8$. Since $5<8$, we know that if $5$ is in the tree at all, it must be somewhere in the left subtree of our current node. Thus, the we move our search to the left child of our current node.\n",
    "2. Now we are at the node containing $3$. Compare $5$ to this value. Since $5>3$, we know that we need to look at the right subtree of the current node.\n",
    "3. We are at the node containing 6. Comparing our values, we see that $5<6$, so next we look at the left subtree of the current node.\n",
    "4. We are at the node containing 4. At this point, we see that $5>4$, so in principle our search should continue in the right subtree of this node. However, we see there is no right child of this node (or perhaps that the right child of this node is `None`). Thus we have looked as far as we can, and conclude that the search value of $5$ cannot be contained anywhere within the tree. So the method ends, returning a value of `False`"
   ]
  },
  {
   "cell_type": "markdown",
   "metadata": {},
   "source": [
    "### Inserting\n",
    "\n",
    "![Binary Search Tree](BSTSearch.png)\n"
   ]
  },
  {
   "cell_type": "markdown",
   "metadata": {},
   "source": [
    "The return value of the insert method is not always important, but it might be useful to return `True` if it successfully inserted a new value into the tree, and `False` if in the search process you found that value was already in the tree, meaning nothing new was ultimately added.\n",
    "\n",
    "Suppose we wanted to insert the value of $9$ into the tree.\n",
    "The process would look something like this:\n",
    "1. Start at the root node. We compare the value in the root node to our insert value. Since $9>8$, we conclude that our value must be inserted somewhere in the right subtree of our current node. Thus we move to the right child of the current node.\n",
    "2. We are now in the node containing 10. Comparing these values, we see that $9 < 10$, so our value must be inserted somewhere in the left subtree of our current node. We notice here that the current node has a left child of `None`, so we create a new node containing value $9$ with no children of its own, and set the current node's left child to this new node. Since our insertion was successful, our method returns `True`."
   ]
  },
  {
   "cell_type": "markdown",
   "metadata": {},
   "source": [
    "Now, how what behavior should we expect if we attempt to insert the value of $13$ into the tree?"
   ]
  },
  {
   "cell_type": "markdown",
   "metadata": {},
   "source": [
    "## Exercise 3"
   ]
  },
  {
   "cell_type": "markdown",
   "metadata": {},
   "source": [
    "Sticking point: actually leverage the tree, don't search everything.\n",
    "Assume given training data up front."
   ]
  },
  {
   "cell_type": "markdown",
   "metadata": {},
   "source": [
    "In this exercise, you are asked to implement a two-dimensional k-nearest neighbors (KNN) classifier using a quad-tree.\n",
    "Remember, you have to implement this by hand, so you can't just import SciKit Learn's implementation.\n",
    "Let's start by reviewing quad-trees at a conceptual level. What are they good for? How do we implement them? How are they used?"
   ]
  },
  {
   "cell_type": "markdown",
   "metadata": {},
   "source": [
    "### Quad-Trees\n"
   ]
  },
  {
   "cell_type": "markdown",
   "metadata": {},
   "source": [
    "Quad-trees, like binary trees, are an efficient way of storing data for fast look-up and insertion. \n",
    "Quad-trees excel at storing data from a 2-dimensional region in space, or equivalently any dataset where each point has at least two numerical coordinates."
   ]
  },
  {
   "cell_type": "markdown",
   "metadata": {},
   "source": [
    "\n",
    "<img src=\"quadtree.png\" alt=\"Quad-tree\" width=\"600\"/>\n",
    "\n",
    "[Image Source](https://opendsa-server.cs.vt.edu/ODSA/Books/Everything/html/PRquadtree.html)"
   ]
  },
  {
   "cell_type": "markdown",
   "metadata": {},
   "source": [
    "Each node in the tree represents a rectangular-shaped region in space, and each of its children represent a subregion of that rectangle. \n",
    "As the name suggests, each node in a quad-tree has up to four children.\n",
    "Usually these children are given names like \"upper-left\" or \"northwest\" to specify which subregion they represent.\n",
    "There are many ways to implement a quad tree, but one way would be to define that each child of a quad-tree can be one of three things:\n",
    "\n",
    "1. Another quad tree, or \"branch\" node, if that region contains multiple data points. \n",
    "2. A leaf node, which contains a a single data point inside that child node's region, called the \"value\" of the node.\n",
    "3. The python value of `None`, which signifies that the child node's region is empty. \n",
    "\n",
    "Each node must also keep track of the coordinates of its left, right, upper, and lower boundaries so that the tree knows where to store each point.\n",
    "\n",
    "When building a quadtree based on a set of data points, our goal is to divide up space so that each leaf-node's region contains at most one data point.\n",
    "For efficiency's sake, we don't further divide up any region that contains only zero or one point.\n",
    "\n",
    "Suppose we wanted to construct the tree in the diagram above to store the data points `A=(40,45)`, `B=(15,70)`, `C=(70,10)` , `D=(69,50)`, `E=(55,80)`, and `F=(80,90)`.\n",
    "Just to get the ball rolling, we'll start off with a root node consisting of a quad-tree containing four `None` children.  \n",
    "The root node represents the rectangular region bounded by 0 from below, 127 from above, 0 from the left, and 127 from the right.\n",
    "The root node will also use those boundaries to calculate vertical and horizontal lines $x=63.5$ and $y=63.5$, which are used to subdivide the rectangle into four congruent subrectangles, each belonging one of the root node's children.\n",
    "\n",
    "**NOTE:** Here we arbitrarily chose that each dividing line will split the region in half geometrically. For datasets with non-uniform distributions in space, this can be inefficient. You could alternatively set each dividing line to be the median x or y coordinate of all the data points in the region. While this choice improves efficiency, it is not able to handle a dynamic dataset with points being added or removed over time."
   ]
  },
  {
   "cell_type": "markdown",
   "metadata": {},
   "source": [
    "With the empty tree in place, we'll start by inserting the point `A=(40,50)` into the tree. \n",
    "Since our root node is a quad-tree, our insert process begins by deciding which of the root's four children the point should go into. \n",
    "We observe that $x_A = 40 < 63.5$, so the point should go in the left half of the rectangle.\n",
    "We also see that $y_A = 50 < 63.5$, so the point should go in the bottom half of the rectangle.\n",
    "Thus, $A$ will belong to the lower-left child of the root node. \n",
    "Since this child is currently `None`, we will create a leaf node with the tuple `(40,50)` as its value, and make this leaf node the lower-left child of the root.\n",
    "\n",
    "On your own, try to describe the process by which `B=(15,70)` and `C=(70,10)` are inserted into the tree, since these follow similar flow to `A`."
   ]
  },
  {
   "cell_type": "markdown",
   "metadata": {},
   "source": [
    "At this point our tree is comprised of a root node with 3 leaf children in the lower-left, lower-right, and upper-left spots, and a `None` child in the upper-right spot.\n",
    "When we try to insert `D=(69,50)` into the tree, we run into a new situation.\n",
    "`D`'s coordinates put it in the lower-right child of the root, which is currently occupied by a leaf node containing  `C`'s coordinates as its value.\n",
    "Since a leaf node can only contain a single value, we are forced to replace this leaf node with a new quad-tree, and then insert points `C` and `D` into that tree.\n",
    "The new tree will be bounded from below by $y=0$, from above by $y=63.5$, from the left by $x=63.5$, and from the right by $x=127$.\n",
    "From these boundaries, we calculate the new tree's dividing lines given by: \n",
    "\n",
    "$\\displaystyle y=\\frac{0+63.5}2 = 31.75$, \n",
    "\n",
    "and\n",
    "\n",
    "$\\displaystyle x= \\frac{63.4 + 127}2 = 95.25$.\n",
    "These lines divide the node's region into four rectangles.\n"
   ]
  },
  {
   "cell_type": "markdown",
   "metadata": {},
   "source": [
    "Now when we insert `C` into the new tree, we see that $x_C = 70 < 95.25$ and $y_C = 10 < 31.75$, so `C` should go in the lower-left child of the tree.\n",
    "Since this child is currently `None`, we create a new leaf node with `C` as its value, and then set this leaf node to be the lower-left child of the tree.\n",
    "\n",
    "Similarly, when we insert `D` into the new tree, its coordinates put it inside the upper-left child. Thus, we create a new leaf node with `D` as its value and set that leaf to be the upper-left child of the tree.\n",
    "\n",
    "Since we have resolved the collision between `C` and `D`, we can continue inserting new points into the tree.\n",
    "We run into a similar collision issue when we try to insert `E` and `F` into the upper right child of the root. \n",
    "Try to walk through the insertion of these two points from start to finish on your own, paying close attention to how the structure of the tree changes at every step.\n",
    "\n",
    "**HINT:** If you look at the original diagram, you'll see that both of these points are 4 layers deep in the tree (counting up from the root as layer 1). This fact should give you a sanity check to make sure your logic is sound.\n",
    "\n",
    "----"
   ]
  },
  {
   "cell_type": "markdown",
   "metadata": {},
   "source": [
    "### KNN\n"
   ]
  },
  {
   "cell_type": "markdown",
   "metadata": {},
   "source": [
    "Let us briefly review what KNN accomplishes.\n",
    "We start with a set of data points, each consisting of coordinate tuples and an attached label. \n",
    "We would like to use these data points to predict the label of a new point $p$, based on the labels of the points around it.\n",
    "In KNN, we find the $k$ nearest neighbors of $p$, which each cast a vote saying that $p$'s label should be the same as their own.\n",
    "We simply tally up these votes to determine the predicted label of $p$.\n",
    "\n",
    "In general, there are several choices we must make about this algorithm, such as which notion of distance we use to decide the \"nearest\" neighbors of $p$, or the number $k$ of neighbors whose votes we would like to consider. \n",
    "We could also choose to weigh these votes according to some heuristic, perhaps giving more sway to the points that are closer to $p$. \n",
    "For simplicity, the following discussion will assume the usual euclidean metric, and that each point is equally weighted in the vote."
   ]
  },
  {
   "cell_type": "markdown",
   "metadata": {},
   "source": [
    "**WARNING:** As we start to implement KNN, it is important to leverage the quad-tree's structure to determine which $k$ points in the tree are closest to a specified point, $p=(x,y)$. Otherwise, we'll be forced to check every point in our dataset, which would be computationally expensive ($\\mathcal{O}(n)$ time)."
   ]
  },
  {
   "cell_type": "markdown",
   "metadata": {},
   "source": [
    "\n",
    "We accomplish this goal in several steps, outlined as follows:\n",
    "\n",
    "1. Draw a small circle around point $p$ of radius $r$. \n",
    "2. Make a (hopefully small) list of all the points in the tree that lie inside the circle.\n",
    "3. Check how many points are in the list.\n",
    "    - If there are at least $k$ such points, loop through this list to find the $k$ points nearest to $p$, similar to the naive KNN method. \n",
    "    - If there are fewer than $k$ points in the list, pick a bigger value for $r$ and start over at step 1.\n"
   ]
  },
  {
   "cell_type": "markdown",
   "metadata": {},
   "source": [
    "The quad-tree comes into play in step 2, when we're actually determining which points are inside the circle. \n",
    "Remember that each node in the quad-tree keeps track of the boundaries of the region it encodes. \n",
    "Hopefully it is obvious that if the circle around $p$ doesn't intersect that region, then it cannot contain any points from that node.\n",
    "Thus, if we are able to check if a circle with a specified center $p=(x,y)$ and radius $r$ intersects a rectangle with specified boundaries (top $t$, bottom $b$, left $l$, and right $r$), we'll know which nodes we have to search through.\n",
    "There are several cases we have to check to determine if these regions intersect:"
   ]
  },
  {
   "cell_type": "markdown",
   "metadata": {},
   "source": [
    "**CASE 1**\n",
    "\n",
    "If the $p$ lies within the rectangle (i.e. $l \\leq x \\leq r$ and $b \\leq y \\leq t$) there is nothing else to check.\n",
    "The circle obviously intersects the rectangle:\n",
    "\n",
    "![P is inside the rectangle](KNN_inside.jpg)"
   ]
  },
  {
   "cell_type": "markdown",
   "metadata": {},
   "source": [
    "**CASE 2**\n",
    "\n",
    "If, $p$ is directly above or below the rectangle (i.e. $l \\leq x \\leq r$ and either $y < b$ or $y > t$) then the vertical projection of $p$ onto the nearest horizontal boundary line is the nearest rectangle point to $p$. \n",
    "\n",
    "If this projection is within distance $r$ of the point $p$, then the rectangle intersects the circle.\n",
    "Otherwise, the two regions do not intersect.\n",
    "\n",
    "![P is directly below the rectangle](KNN_under.jpg)"
   ]
  },
  {
   "cell_type": "markdown",
   "metadata": {},
   "source": [
    "**Case 3**\n",
    "\n",
    "Similarly, if $p$ is directly to the left or right of the rectangle (i.e. $b \\leq y \\leq t$ and either $x < l$ or $x > r$) then the horizontal projection of $p$ onto the nearest vertical boundary line is the closest rectangle point to $p$. \n",
    "\n",
    "\n",
    "If this projection is within distance $r$ of the point $p$, then the rectangle intersects the circle.\n",
    "Otherwise, the two regions do not intersect.\n",
    "\n",
    "![P is to the right of the rectangle](KNN_right.jpg)"
   ]
  },
  {
   "cell_type": "markdown",
   "metadata": {},
   "source": [
    "**CASE 4**\n",
    "\n",
    "Lastly, if one of the none of the above cases apply (i.e. $x < l$ or $x >r$ and $y < b$ or $ y > t$) then the nearest rectangle point to $p$ is one of its corners.\n",
    "\n",
    "If the nearest corner is within distance $r$ of $p$, then the circle and rectangle intersect.\n",
    "Otherwise, the two regions do not intersect.\n",
    "\n",
    "![P below and to the right of the rectangle](KNN_right%26under.jpg)"
   ]
  },
  {
   "cell_type": "markdown",
   "metadata": {},
   "source": [
    "If the rectangle and circle do not intersect, then we exclude that rectangle from our search, as none of its data points can lie inside the circle.\n",
    "\n",
    "If the two regions *do* intersect, then what are we to do? \n",
    "We simply run the above intersection algorithm on the circle with each of the rectangle's four children.\n",
    "This process continues recursively until we get to `None` or a leaf node.\n",
    "Obviously `None` will not contain any points inside the circle, so we ignore these nodes.\n",
    "When we encounter a leaf node, we only need to check if the single point it contains is inside the circle."
   ]
  },
  {
   "cell_type": "markdown",
   "metadata": {},
   "source": []
  }
 ],
 "metadata": {
  "kernelspec": {
   "display_name": "Python 3.9.12 ('base')",
   "language": "python",
   "name": "python3"
  },
  "language_info": {
   "codemirror_mode": {
    "name": "ipython",
    "version": 3
   },
   "file_extension": ".py",
   "mimetype": "text/x-python",
   "name": "python",
   "nbconvert_exporter": "python",
   "pygments_lexer": "ipython3",
   "version": "3.9.12"
  },
  "orig_nbformat": 4,
  "vscode": {
   "interpreter": {
    "hash": "2c38b1a90b4a59b23948fb218e1da4d1184e9b46ea8636c2b479a765f3725745"
   }
  }
 },
 "nbformat": 4,
 "nbformat_minor": 2
}
