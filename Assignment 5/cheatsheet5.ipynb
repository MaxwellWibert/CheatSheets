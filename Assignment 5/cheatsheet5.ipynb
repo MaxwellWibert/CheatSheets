{
 "cells": [
  {
   "cell_type": "code",
   "execution_count": null,
   "metadata": {},
   "outputs": [],
   "source": []
  },
  {
   "cell_type": "markdown",
   "metadata": {},
   "source": [
    "# CheatSheet 5"
   ]
  },
  {
   "cell_type": "markdown",
   "metadata": {},
   "source": [
    "## Exercise 1"
   ]
  },
  {
   "cell_type": "markdown",
   "metadata": {},
   "source": [
    "In this exercise, you are asked to pull some data from an API, clean it, and then use it to construct your own server/API in flask. We have already covered how to get and clean data, so consult previous cheatsheets if you need a refresher. The only novel part of this exercise is the Flask server, so let's go over the basics of Flask together. It is generally easier to run a Flask app using a .py file from the console, so for this exercise, we'll also be using some other files in this folder. The explanations will stay in this notebook, but please consult the .py files as we move forward."
   ]
  },
  {
   "cell_type": "markdown",
   "metadata": {},
   "source": [
    "### Building Your First Flask Server"
   ]
  },
  {
   "cell_type": "markdown",
   "metadata": {},
   "source": [
    "Start by installing Flask if you haven't already done so:"
   ]
  },
  {
   "cell_type": "code",
   "execution_count": 1,
   "metadata": {},
   "outputs": [
    {
     "name": "stdout",
     "output_type": "stream",
     "text": [
      "Collecting package metadata (current_repodata.json): done\n",
      "Solving environment: done\n",
      "\n",
      "# All requested packages already installed.\n",
      "\n",
      "\n",
      "Note: you may need to restart the kernel to use updated packages.\n"
     ]
    }
   ],
   "source": [
    "%conda install -c anaconda flask -y"
   ]
  },
  {
   "cell_type": "markdown",
   "metadata": {},
   "source": [
    "Now let's build with a very basic Flask server, which is found in the `helloworld.py` file.\n"
   ]
  },
  {
   "cell_type": "markdown",
   "metadata": {},
   "source": [
    "In the first line we import the Flask class:\n",
    "\n",
    "```python\n",
    "from flask import Flask\n",
    "\n",
    "```"
   ]
  },
  {
   "cell_type": "markdown",
   "metadata": {},
   "source": [
    "Next we need to create a Flask object by calling the Flask class's constructor function. This object, also known as an app, is responsible for much receiving, parsing, and responding to http requests.\n",
    "\n",
    "```python\n",
    "app = Flask(__name__)\n",
    "\n",
    "```\n",
    "\n",
    " The Flask constructor takes a single argument, which specifies the module our app will live and operate in. For our purposes, we only ever need to pass in python's special built in `__name__` variable, which has the value of whatever module we're currently in. "
   ]
  },
  {
   "cell_type": "markdown",
   "metadata": {},
   "source": [
    "Now we will specify how the app handles an http request by defining functions that are tagged with the `@app.route()` decorator. \n",
    "\n",
    "```python\n",
    "@app.route(\"/\")\n",
    "def hello_world():\n",
    "    return \"<p>Hello, World!</p>\"\n",
    "```\n",
    "Here, the decorator is modifying the `hello_world` function so that it is called everytime the app receives an http request to the root path, \"/\". Whatever value the `hello_world` function returns is passed back to the app to be sent as a response to the browser. Let's try running the server. Open up a terminal, navigate to this folder, and run the following commands:\n"
   ]
  },
  {
   "cell_type": "markdown",
   "metadata": {},
   "source": [
    "\n",
    "```bash\n",
    "$ export FLASK_APP=helloworld\n",
    "$ flask run\n",
    "\n",
    "```\n",
    "The terminal should spit something out that looks like this:\n",
    "\n",
    "```console\n",
    "* Serving Flask app \"helloworld\"\n",
    "* Environment: production\n",
    "  WARNING: This is a development server. Do not use it in a production deployment.\n",
    "  Use a production WSGI server instead.\n",
    "* Debug mode: off\n",
    "* Running on http://127.0.0.1:5000/ (Press CTRL+C to quit)\n",
    "```\n",
    "Notice that the terminal is hanging/not offering you a new prompt. This is because the server app is running until we tell it to quit. `http://127.0.0.1` is the IP address of your computer, AKA \"localhost\". This is followed by the port where the server will accept requests, shown above as `5000`.\n"
   ]
  },
  {
   "cell_type": "markdown",
   "metadata": {},
   "source": [
    "\n",
    "Open up a browser and go to the url `http://localhost:5000`. You should now see a page that displays \"Hello, World!\". Additionally, the terminal should have logged some data about the http request it received when you opened up this page:\n",
    "\n",
    "```console\n",
    "127.0.0.1 - - [05/Jul/2022 02:36:03] \"GET / HTTP/1.1\" 200 -\n",
    "```"
   ]
  },
  {
   "cell_type": "markdown",
   "metadata": {},
   "source": [
    "Isn't that neat? Still, the internet would be pretty boring if every site was a single plaintext page, so let's ramp it up a little and make a more complex server. Go to the terminal and close the app with `CTRL + C` (Windows/Linux) or `Command + C`  (Mac)."
   ]
  },
  {
   "cell_type": "markdown",
   "metadata": {},
   "source": [
    "### Routing with Flask"
   ]
  },
  {
   "cell_type": "markdown",
   "metadata": {},
   "source": []
  },
  {
   "cell_type": "markdown",
   "metadata": {},
   "source": []
  },
  {
   "cell_type": "markdown",
   "metadata": {},
   "source": []
  },
  {
   "cell_type": "markdown",
   "metadata": {},
   "source": [
    "## Exercise 2 "
   ]
  },
  {
   "cell_type": "markdown",
   "metadata": {},
   "source": []
  },
  {
   "cell_type": "code",
   "execution_count": null,
   "metadata": {},
   "outputs": [],
   "source": []
  },
  {
   "cell_type": "markdown",
   "metadata": {},
   "source": [
    "## Exercise 3"
   ]
  },
  {
   "cell_type": "markdown",
   "metadata": {},
   "source": []
  },
  {
   "cell_type": "markdown",
   "metadata": {},
   "source": []
  }
 ],
 "metadata": {
  "kernelspec": {
   "display_name": "Python 3.9.12 ('base')",
   "language": "python",
   "name": "python3"
  },
  "language_info": {
   "codemirror_mode": {
    "name": "ipython",
    "version": 3
   },
   "file_extension": ".py",
   "mimetype": "text/x-python",
   "name": "python",
   "nbconvert_exporter": "python",
   "pygments_lexer": "ipython3",
   "version": "3.9.12"
  },
  "orig_nbformat": 4,
  "vscode": {
   "interpreter": {
    "hash": "2c38b1a90b4a59b23948fb218e1da4d1184e9b46ea8636c2b479a765f3725745"
   }
  }
 },
 "nbformat": 4,
 "nbformat_minor": 2
}
