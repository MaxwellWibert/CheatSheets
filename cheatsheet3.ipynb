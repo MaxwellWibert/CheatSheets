{
 "cells": [
  {
   "cell_type": "markdown",
   "id": "9fb98094-1407-4114-acca-f844de08c5f8",
   "metadata": {},
   "source": [
    "# Cheat Sheet 3"
   ]
  },
  {
   "cell_type": "markdown",
   "id": "783d73e9-c495-47a3-9765-006efc87fffc",
   "metadata": {},
   "source": [
    "## Exercise 1\n",
    "In this first exercise, we're tasked with using the request module to find some papers on PubMed through the Entrez API. This process will require that we use several modules, so let's start by importing them:"
   ]
  },
  {
   "cell_type": "code",
   "execution_count": 26,
   "id": "b928de33-ec45-48da-8cc1-e0f0cb261014",
   "metadata": {},
   "outputs": [],
   "source": [
    "import requests\n",
    "import xml.etree.ElementTree as ET\n",
    "import time\n",
    "import itertools"
   ]
  },
  {
   "cell_type": "markdown",
   "id": "c8aee485-908c-456a-9484-bfc1216a6341",
   "metadata": {},
   "source": [
    "Let's find and parse some data about covid-19 articles in this way. First we have to build our URL according to the Entrez API specifications:"
   ]
  },
  {
   "cell_type": "code",
   "execution_count": 20,
   "id": "deb5c94d-cf3b-4e69-be44-f500447cd270",
   "metadata": {},
   "outputs": [],
   "source": [
    "search_term = \"Coronavirus\"\n",
    "year = 2020\n",
    "retmax = 20\n",
    "base_url = \"https://eutils.ncbi.nlm.nih.gov/entrez/eutils/esearch.fcgi\"\n",
    "parameters = f\"?db=pubmed&retmax={retmax}&term={search_term}+AND+{year}[pdat]\"\n",
    "url = base_url + parameters"
   ]
  },
  {
   "cell_type": "markdown",
   "id": "64cb98aa-8d83-4cce-b725-15ef087de3fd",
   "metadata": {},
   "source": [
    "The base URL specificies the website and endpoint we would like to request our data from. The parameters allow us to tell this endpoint exactly what we're looking for, including what database we'd like to access (db=pubmed), how many articles we'd like to see (redmax=20), what and articles we'd like to search for (term=Coronavirus+AND+2019). "
   ]
  },
  {
   "cell_type": "code",
   "execution_count": 21,
   "id": "2e8f37db-00e0-4581-a324-44490c0295c9",
   "metadata": {},
   "outputs": [],
   "source": [
    "r = requests.get(url)"
   ]
  },
  {
   "cell_type": "markdown",
   "id": "839d5801-d6a3-4ba8-8449-64680fcbcfed",
   "metadata": {},
   "source": [
    "The function requests.get() should return the server's response to your request.\n",
    "Let's have a look at what this response is"
   ]
  },
  {
   "cell_type": "code",
   "execution_count": 22,
   "id": "83941eee-af69-4d1c-8d2a-d23a8fce84f1",
   "metadata": {},
   "outputs": [
    {
     "name": "stdout",
     "output_type": "stream",
     "text": [
      "<Response [200]>\n"
     ]
    }
   ],
   "source": [
    "print(r)"
   ]
  },
  {
   "cell_type": "markdown",
   "id": "d85d729c-8f39-40ff-b9d8-1cc63dc246bc",
   "metadata": {},
   "source": [
    "Printing r directly to the console gives us some vague description of a response object with code 200. This is an HTTP response status code, which tells us whether or not our request was succesful. The code 200 means \"OK\", which is a good sign that our request went through. You can find what other codes mean [here](https://developer.mozilla.org/en-US/docs/Web/HTTP/Status), just in case you get something else.\n",
    "\n",
    "Now that we have a response object, we can start extracting information. For example, we can get the status code from the object's properties:"
   ]
  },
  {
   "cell_type": "code",
   "execution_count": 23,
   "id": "c958bc35-be33-474b-ba66-3d8478d87c71",
   "metadata": {},
   "outputs": [
    {
     "data": {
      "text/plain": [
       "200"
      ]
     },
     "execution_count": 23,
     "metadata": {},
     "output_type": "execute_result"
    }
   ],
   "source": [
    "r.status_code"
   ]
  },
  {
   "cell_type": "markdown",
   "id": "d5c0a37b-7965-4032-88df-ef996728224b",
   "metadata": {},
   "source": [
    "We can also get the content of the response using the following:"
   ]
  },
  {
   "cell_type": "code",
   "execution_count": 24,
   "id": "f8e2000f-4333-44db-9ca2-e91fcd1c599e",
   "metadata": {},
   "outputs": [
    {
     "name": "stdout",
     "output_type": "stream",
     "text": [
      "<?xml version=\"1.0\" encoding=\"UTF-8\" ?>\n",
      "<!DOCTYPE eSearchResult PUBLIC \"-//NLM//DTD esearch 20060628//EN\" \"https://eutils.ncbi.nlm.nih.gov/eutils/dtd/20060628/esearch.dtd\">\n",
      "<eSearchResult><Count>71924</Count><RetMax>20</RetMax><RetStart>0</RetStart><IdList>\n",
      "<Id>35516164</Id>\n",
      "<Id>35512053</Id>\n",
      "<Id>35512041</Id>\n",
      "<Id>35512040</Id>\n",
      "<Id>35512038</Id>\n",
      "<Id>35484870</Id>\n",
      "<Id>33117894</Id>\n",
      "<Id>35349206</Id>\n",
      "<Id>35330938</Id>\n",
      "<Id>35169637</Id>\n",
      "<Id>35154373</Id>\n",
      "<Id>35145562</Id>\n",
      "<Id>35141720</Id>\n",
      "<Id>35141430</Id>\n",
      "<Id>35137816</Id>\n",
      "<Id>35126007</Id>\n",
      "<Id>35125998</Id>\n",
      "<Id>35097224</Id>\n",
      "<Id>35097223</Id>\n",
      "<Id>35090689</Id>\n",
      "</IdList><TranslationSet><Translation>     <From>Coronavirus</From>     <To>\"coronavirus\"[MeSH Terms] OR \"coronavirus\"[All Fields]</To>    </Translation></TranslationSet><TranslationStack>   <TermSet>    <Term>\"coronavirus\"[MeSH Terms]</Term>    <Field>MeSH Terms</Field>    <Count>137184</Count>    <Explode>Y</Explode>   </TermSet>   <TermSet>    <Term>\"coronavirus\"[All Fields]</Term>    <Field>All Fields</Field>    <Count>128896</Count>    <Explode>N</Explode>   </TermSet>   <OP>OR</OP>   <OP>GROUP</OP>   <TermSet>    <Term>2020[pdat]</Term>    <Field>pdat</Field>    <Count>1631785</Count>    <Explode>N</Explode>   </TermSet>   <OP>AND</OP>  </TranslationStack><QueryTranslation>(\"coronavirus\"[MeSH Terms] OR \"coronavirus\"[All Fields]) AND 2020[pdat]</QueryTranslation></eSearchResult>\n",
      "\n"
     ]
    }
   ],
   "source": [
    "content = r.text\n",
    "print(content)"
   ]
  },
  {
   "cell_type": "markdown",
   "id": "9cfeb518-54ee-4f6b-8367-0d570472f0b2",
   "metadata": {},
   "source": [
    "The above printout statement clearly indicates that our data is formatted as an XML string. We can use the xml.etree.ElementTree module to parse this XML string into a DOM and extract our desired pubmed ID's (see Cheat Sheet 2, if you need a refresher on parsing XML):"
   ]
  },
  {
   "cell_type": "code",
   "execution_count": 34,
   "id": "c454a2ee-adfa-4876-be11-c044c06cf842",
   "metadata": {},
   "outputs": [],
   "source": [
    "tree = ET.ElementTree(ET.fromstring(content))\n",
    "root = tree.getroot()\n",
    "ids = [Id.text for Id in root.iter('Id')]"
   ]
  },
  {
   "cell_type": "code",
   "execution_count": 35,
   "id": "b80a1264-f4a6-481c-a0f8-87f7a1f36c4c",
   "metadata": {},
   "outputs": [
    {
     "name": "stdout",
     "output_type": "stream",
     "text": [
      "['35516164', '35512053', '35512041', '35512040', '35512038', '35484870', '33117894', '35349206', '35330938', '35169637', '35154373', '35145562', '35141720', '35141430', '35137816', '35126007', '35125998', '35097224', '35097223', '35090689']\n"
     ]
    }
   ],
   "source": [
    "print(ids)"
   ]
  },
  {
   "cell_type": "markdown",
   "id": "cc932431-0053-44ac-ab00-a588d72726de",
   "metadata": {},
   "source": [
    "You may find it useful to adapt the code above into a function that returns some pubmed ID's based on search parameters. This will help in case you have to search for several different topics."
   ]
  },
  {
   "cell_type": "markdown",
   "id": "70459bc3-9978-48bd-95f1-72b072ea5a9b",
   "metadata": {},
   "source": [
    "Now that we have our paper ID's, we will need to make another request to **a different endpoint** to get some metadata back. We can ask for the metadata from multiple papers at once by specifiying setting id search parameter to be a collection of pubmed ID's separated by commas. The Entrez API only allows a limited length of URL, so you may have to request papers in smaller batches. If this is the case, you **absolutely must** space out the requests you send to the server using the time module, or else they will revoke your IP address's access to data."
   ]
  },
  {
   "cell_type": "code",
   "execution_count": 37,
   "id": "83ee7b7c-8566-4798-ad13-ae9b9dbe9fae",
   "metadata": {},
   "outputs": [],
   "source": [
    "id_string = \",\".join(ids)\n",
    "\n",
    "base_url = \"https://eutils.ncbi.nlm.nih.gov/entrez/eutils/efetch.fcgi\"\n",
    "parameters =f\"?db=pubmed&retmode=xml&id={id_string}\"\n",
    "\n",
    "url = base_url + parameters"
   ]
  },
  {
   "cell_type": "code",
   "execution_count": 40,
   "id": "91331f89-3f05-4501-bdb3-7fd796ac74e8",
   "metadata": {},
   "outputs": [],
   "source": [
    "r = requests.get(url)"
   ]
  },
  {
   "cell_type": "code",
   "execution_count": 44,
   "id": "8da7da84-8667-47ce-8576-670c1a28a7a7",
   "metadata": {},
   "outputs": [
    {
     "name": "stdout",
     "output_type": "stream",
     "text": [
      "<?xml version=\"1.0\" ?>\n",
      "<!DOCTYPE PubmedArticleSet PUBLIC \"-//NLM//DTD PubMedArticle, 1st January 2019//EN\" \"https://dtd.nlm.nih.gov/ncbi/pubmed/out/pubmed_190101.dtd\">\n",
      "<PubmedArticleSet><PubmedArticle><MedlineCitation Status=\"MEDLINE\" IndexingMethod=\"Automated\" Owner=\"NLM\"><PMID Version=\"1\">35516164</PMID><DateCompleted><Year>2022</Year><Month>05</Month><Day>09</Day></DateCompleted><DateRevised><Year>2022</Year><Month>05</Month><Day>09</Day></DateRevised><Article PubModel=\"Electronic-eCollection\"><Journal><ISSN IssnType=\"Electronic\">2399-4908</ISSN><JournalIssue CitedMedium=\"Internet\"><Volume>5</Volume><Issue>4</Issue><PubDate><Year>2020</Year></PubDate></JournalIssue><Title>International journal of population data science</Title><ISOAbbreviation>Int J Popul Data Sci</ISOAbbreviation></Journal><ArticleTitle>Estimating surge in COVID-19 cases, hospital resources and PPE demand with the interactive and locally-informed <i>COVID-19 Health System Capacity Planning Tool</i>.</ArticleTitle><\n"
     ]
    }
   ],
   "source": [
    "print(r.text[0:1000])"
   ]
  },
  {
   "cell_type": "markdown",
   "id": "2fb2763f-eeeb-4f3d-a120-fe5db703138d",
   "metadata": {},
   "source": [
    "Now it's up to us to "
   ]
  },
  {
   "cell_type": "code",
   "execution_count": null,
   "id": "ca762f5a-ff3e-491f-94d8-6c0b45c67574",
   "metadata": {},
   "outputs": [],
   "source": []
  },
  {
   "cell_type": "code",
   "execution_count": null,
   "id": "3a515dfb-27d7-4d30-b42f-b4b1b502a472",
   "metadata": {},
   "outputs": [],
   "source": []
  },
  {
   "cell_type": "markdown",
   "id": "dd28b2d4-7017-4d15-ab0e-3f6dca17d086",
   "metadata": {},
   "source": []
  },
  {
   "cell_type": "markdown",
   "id": "2132aefa-8edb-45d1-8d9e-01a60407a474",
   "metadata": {},
   "source": []
  },
  {
   "cell_type": "markdown",
   "id": "e6a8602e-ebea-4007-8a01-4d6f540db808",
   "metadata": {},
   "source": [
    "## Exercise 2"
   ]
  },
  {
   "cell_type": "markdown",
   "id": "ab53a19c-0a1f-48fe-8f48-6b9463538cde",
   "metadata": {},
   "source": []
  },
  {
   "cell_type": "markdown",
   "id": "1991c3c9-1bc8-4a6f-b3cf-be9c98723fe0",
   "metadata": {},
   "source": [
    "## Exercise 3"
   ]
  },
  {
   "cell_type": "markdown",
   "id": "13046d33-6691-4cae-a710-a072f1729fdf",
   "metadata": {},
   "source": []
  },
  {
   "cell_type": "markdown",
   "id": "7bfaa834-3e46-4a59-a1c3-6cae9d1ce377",
   "metadata": {},
   "source": [
    "## Exercise 4"
   ]
  },
  {
   "cell_type": "markdown",
   "id": "6ece5e3d-4b4a-403c-8d0a-4016e0ecacdd",
   "metadata": {},
   "source": []
  },
  {
   "cell_type": "markdown",
   "id": "201b12f9-36a6-445b-8f73-4a0d53ec6112",
   "metadata": {},
   "source": [
    "## Exercise 5"
   ]
  },
  {
   "cell_type": "markdown",
   "id": "79247bd4-3aef-4456-aa6b-e6b69df5dab2",
   "metadata": {},
   "source": []
  },
  {
   "cell_type": "code",
   "execution_count": null,
   "id": "b228d02e-3f65-4e45-9ed7-34af88673c26",
   "metadata": {},
   "outputs": [],
   "source": []
  }
 ],
 "metadata": {
  "kernelspec": {
   "display_name": "Python 3 (ipykernel)",
   "language": "python",
   "name": "python3"
  },
  "language_info": {
   "codemirror_mode": {
    "name": "ipython",
    "version": 3
   },
   "file_extension": ".py",
   "mimetype": "text/x-python",
   "name": "python",
   "nbconvert_exporter": "python",
   "pygments_lexer": "ipython3",
   "version": "3.9.7"
  }
 },
 "nbformat": 4,
 "nbformat_minor": 5
}
