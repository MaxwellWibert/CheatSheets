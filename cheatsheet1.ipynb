{
 "cells": [
  {
   "cell_type": "markdown",
   "id": "cb9d35b2-88c0-4813-9caa-cc25072ef897",
   "metadata": {},
   "source": [
    "# Assignment 1 Cheat Sheet"
   ]
  },
  {
   "cell_type": "markdown",
   "id": "83d60387-4628-48fb-ae6d-2da0f69e2aa4",
   "metadata": {},
   "source": [
    "Welcome to Computational Methods for Informatics!\n",
    "We'll be providing a \"cheat sheet\" to help you complete each assignment. Please contact Professor McDougal (robert.mcdougal@yale.edu) or your TA if you have any further questions. If you get stuck, office hours are a great resource. Without further ado, let's dive in to some tools that will help you with assigment 1"
   ]
  },
  {
   "cell_type": "markdown",
   "id": "5316bb30-44e1-4e3a-8750-9ac2f30909d3",
   "metadata": {},
   "source": [
    "## Exercise 1"
   ]
  },
  {
   "cell_type": "markdown",
   "id": "26b1f554-2484-4d87-846c-0ec7c3f4f154",
   "metadata": {},
   "source": [
    "For assignment 1, we're tasked with writing a function that returns **another function**. This are sometimes called a factory function. Writing factory functions is a very useful skill, since it allows us to create a bunch of related functions whose behavior can be tailored to different situations based on input parameters. This can be a bit confusing the first time you see it, so let's take a look at a couple of examples."
   ]
  },
  {
   "cell_type": "markdown",
   "id": "3bec6d89-1c46-4642-a3b5-76e5dc7aac53",
   "metadata": {},
   "source": [
    "### Example 1"
   ]
  },
  {
   "cell_type": "markdown",
   "id": "84fd2fe2-b318-4dda-bf00-326740e495ab",
   "metadata": {},
   "source": [
    "Here we have a very simple example of a factory function that doesn't have any parameters. The outer function's only purpose is to create and return an inner function which we can run later."
   ]
  },
  {
   "cell_type": "code",
   "execution_count": 13,
   "id": "8bd691ef-40a1-4c15-be24-48186167124f",
   "metadata": {},
   "outputs": [],
   "source": [
    "def outer_function():\n",
    "    \n",
    "    def inner_function():\n",
    "        print(\"Hello World\")\n",
    "    \n",
    "    return inner_function"
   ]
  },
  {
   "cell_type": "markdown",
   "id": "d243d077-4574-424d-bfd2-bfa65b323540",
   "metadata": {},
   "source": [
    "Now that we have created our factory function, we use it to create the inner function, which we will store in the variable \"new_function\" so we can access it later. Notice that when we call the outer function, nothing prints to the console because the inner function hasn't been run yet."
   ]
  },
  {
   "cell_type": "code",
   "execution_count": 14,
   "id": "a51cfedc-fecb-4d23-b341-cf2d0d4c8e98",
   "metadata": {},
   "outputs": [],
   "source": [
    "new_function = outer_function()"
   ]
  },
  {
   "cell_type": "markdown",
   "id": "3f7b21f4-7dee-41c5-a2b7-679b1c259aa0",
   "metadata": {},
   "source": [
    "\"Hello World\" is only printed out when we call \"new_function\", as shown below"
   ]
  },
  {
   "cell_type": "code",
   "execution_count": 15,
   "id": "fa32f3a8-13f5-44e4-9c15-e0b3a93b735e",
   "metadata": {},
   "outputs": [
    {
     "name": "stdout",
     "output_type": "stream",
     "text": [
      "Hello World\n"
     ]
    }
   ],
   "source": [
    "new_function()"
   ]
  },
  {
   "cell_type": "markdown",
   "id": "c5282058-f99e-4f27-b73f-19b14d64213f",
   "metadata": {},
   "source": [
    "Let's take a look at a slightly more general example that uses parameters to change the behavior of our inner function"
   ]
  },
  {
   "cell_type": "markdown",
   "id": "84da104f-7b91-457f-bc62-7f6686da91ec",
   "metadata": {},
   "source": [
    "### Example 2"
   ]
  },
  {
   "cell_type": "markdown",
   "id": "449c2743-d27b-4146-8d56-4c882cea53db",
   "metadata": {},
   "source": [
    "Here we will write a factory function that can create different greeter functions based off of an input parameter. A greeter will just stitch together a greeting with a recipient and return the result as a string"
   ]
  },
  {
   "cell_type": "code",
   "execution_count": 26,
   "id": "541369d4-beea-4d9e-a2da-3ab698d1559d",
   "metadata": {},
   "outputs": [],
   "source": [
    "def create_greeter(greeting):    \n",
    "    \n",
    "    def greeter(recipient):\n",
    "        return greeting + \" \" + recipient\n",
    "    \n",
    "    return greeter"
   ]
  },
  {
   "cell_type": "markdown",
   "id": "e01df438-2438-4d68-b111-26e74af383f1",
   "metadata": {},
   "source": [
    "Notice that there are two return statements in the cell above. The inner return statement belongs to the greeter function. The outer return statement belongs to the create_greeter function. Only the outer value is actually returned when we call create_greeter.\n",
    "\n",
    "Let's use our new factory function to create some greeter functions:"
   ]
  },
  {
   "cell_type": "code",
   "execution_count": 27,
   "id": "ae94a729-8663-459b-ba6b-d626ab008554",
   "metadata": {},
   "outputs": [],
   "source": [
    "hello_greeter = create_greeter(\"Hello\")\n",
    "welcome_greeter = create_greeter(\"Welcome\")"
   ]
  },
  {
   "cell_type": "markdown",
   "id": "467e8037-5f0a-49a6-9aec-6d0d82015439",
   "metadata": {},
   "source": [
    "Our greeter functions are now ready to be called."
   ]
  },
  {
   "cell_type": "code",
   "execution_count": 31,
   "id": "3a7154b4-20bf-44d1-ada5-b1181eabd582",
   "metadata": {},
   "outputs": [
    {
     "name": "stdout",
     "output_type": "stream",
     "text": [
      "Hello World\n"
     ]
    }
   ],
   "source": [
    "hello_world = hello_greeter(\"World\")\n",
    "print(hello_world)"
   ]
  },
  {
   "cell_type": "code",
   "execution_count": 30,
   "id": "4a9fb7db-dbe1-443d-ba40-3de6d9a25508",
   "metadata": {},
   "outputs": [
    {
     "name": "stdout",
     "output_type": "stream",
     "text": [
      "Hello Professor\n"
     ]
    }
   ],
   "source": [
    "hello_professor = hello_greeter(\"Professor\")\n",
    "print(hello_professor)"
   ]
  },
  {
   "cell_type": "code",
   "execution_count": 32,
   "id": "7ff1bf93-ced6-46cb-8774-6e573c71c7a5",
   "metadata": {},
   "outputs": [
    {
     "name": "stdout",
     "output_type": "stream",
     "text": [
      "Welcome Lady Grantham\n",
      "Welcome Your Majesty\n"
     ]
    }
   ],
   "source": [
    "print(welcome_greeter(\"Lady Grantham\"))\n",
    "print(welcome_greeter(\"Your Majesty\"))"
   ]
  },
  {
   "cell_type": "markdown",
   "id": "5d7e532e-c1f6-46e9-8232-94c46dbf49f8",
   "metadata": {},
   "source": [
    "Try creating and running your own greeter function below:"
   ]
  },
  {
   "cell_type": "code",
   "execution_count": null,
   "id": "9425cd23-e136-4d06-9c84-2439966c906c",
   "metadata": {},
   "outputs": [],
   "source": []
  },
  {
   "cell_type": "code",
   "execution_count": null,
   "id": "94a832b5-773e-4ba8-9170-3ce9469441f2",
   "metadata": {},
   "outputs": [],
   "source": []
  },
  {
   "cell_type": "markdown",
   "id": "0aa51b8a-c3ad-48d1-b4ed-c017a944ec0a",
   "metadata": {},
   "source": [
    "## Exercise 2"
   ]
  },
  {
   "cell_type": "markdown",
   "id": "bd846106-e602-4d54-b0de-81c1d2c0551d",
   "metadata": {},
   "source": [
    "In this exercise, we are using pandas to do some basic statistics and visualization on data, which can be loaded into pandas' main data structure, a \"DataFrame\". Dataframes essentially act like tables, but they have many built in features that make your life easier. For starters, we always need to import pandas whenever we want to use dataframes:"
   ]
  },
  {
   "cell_type": "code",
   "execution_count": 33,
   "id": "aa0f4395-55a5-4f32-b81e-a1f3dbbd725c",
   "metadata": {},
   "outputs": [],
   "source": [
    "import pandas as pd"
   ]
  },
  {
   "cell_type": "markdown",
   "id": "7197af39-a402-46c9-9754-f57986809b5d",
   "metadata": {},
   "source": [
    "Pandas can build dataframes from many kinds of data sources, including files (json, csv, xml), databases, and data that already exists in python. Let's try manually creating a DataFrame. We'll start by creating some lists of values. These lists must be the same length, since pandas is going to combine them into a table-like dataframe.\n",
    "\n",
    "Each of these lists will become a single column in our dataframe. We will put these lists in a dictionary so that pandas knows what to call each column."
   ]
  },
  {
   "cell_type": "code",
   "execution_count": 63,
   "id": "74e59282-75c9-40a9-8d16-6d356836f148",
   "metadata": {},
   "outputs": [],
   "source": [
    "data = {\n",
    "    \"name\": [\"Spongebob\", \"Squidward\", \"Patrick\", \"Eugene\"],\n",
    "    \"job\": [\"Cook\", \"Cashier\", \"Freeloader\", \"Owner\"],\n",
    "    \"salary\": [20, 10, 0, 100],\n",
    "    \"bonus\": [100, 20, 1, 0]\n",
    "}"
   ]
  },
  {
   "cell_type": "markdown",
   "id": "7d24a16b-abb9-4891-afd7-73ef9209fb1e",
   "metadata": {},
   "source": [
    "Now we will load our data into pandas and create a dataframe"
   ]
  },
  {
   "cell_type": "code",
   "execution_count": 64,
   "id": "a81fc482-54da-404e-8eeb-52c5a817725f",
   "metadata": {},
   "outputs": [],
   "source": [
    "df = pd.DataFrame(data)"
   ]
  },
  {
   "cell_type": "markdown",
   "id": "eed0098f-1e87-430c-9cc7-da8238ac6f12",
   "metadata": {},
   "source": [
    "Let's take a closer look at our DataFrame. In an ipynb file (aka jupyter notebook) we can just run a cell with \"df\" by itself, and pandas will print out a nicely formatted table for us, complete with column labels and indices."
   ]
  },
  {
   "cell_type": "code",
   "execution_count": 41,
   "id": "094b64f0-a034-43bd-bcb9-b5e135899104",
   "metadata": {},
   "outputs": [
    {
     "data": {
      "text/html": [
       "<div>\n",
       "<style scoped>\n",
       "    .dataframe tbody tr th:only-of-type {\n",
       "        vertical-align: middle;\n",
       "    }\n",
       "\n",
       "    .dataframe tbody tr th {\n",
       "        vertical-align: top;\n",
       "    }\n",
       "\n",
       "    .dataframe thead th {\n",
       "        text-align: right;\n",
       "    }\n",
       "</style>\n",
       "<table border=\"1\" class=\"dataframe\">\n",
       "  <thead>\n",
       "    <tr style=\"text-align: right;\">\n",
       "      <th></th>\n",
       "      <th>name</th>\n",
       "      <th>job</th>\n",
       "      <th>salary</th>\n",
       "    </tr>\n",
       "  </thead>\n",
       "  <tbody>\n",
       "    <tr>\n",
       "      <th>0</th>\n",
       "      <td>Spongebob</td>\n",
       "      <td>Cook</td>\n",
       "      <td>20</td>\n",
       "    </tr>\n",
       "    <tr>\n",
       "      <th>1</th>\n",
       "      <td>Squidward</td>\n",
       "      <td>Cashier</td>\n",
       "      <td>10</td>\n",
       "    </tr>\n",
       "    <tr>\n",
       "      <th>2</th>\n",
       "      <td>Patrick</td>\n",
       "      <td>Freeloader</td>\n",
       "      <td>0</td>\n",
       "    </tr>\n",
       "    <tr>\n",
       "      <th>3</th>\n",
       "      <td>Eugene</td>\n",
       "      <td>Owner</td>\n",
       "      <td>100</td>\n",
       "    </tr>\n",
       "  </tbody>\n",
       "</table>\n",
       "</div>"
      ],
      "text/plain": [
       "        name         job  salary\n",
       "0  Spongebob        Cook      20\n",
       "1  Squidward     Cashier      10\n",
       "2    Patrick  Freeloader       0\n",
       "3     Eugene       Owner     100"
      ]
     },
     "execution_count": 41,
     "metadata": {},
     "output_type": "execute_result"
    }
   ],
   "source": [
    "df"
   ]
  },
  {
   "cell_type": "markdown",
   "id": "97289d4a-efbf-4cdd-a9a9-fb1a23d97315",
   "metadata": {},
   "source": [
    "If you have a very large data frame, and you'd like to take a closer look without printing out thousands of rows, just call df.head(number_of_rows), and pandas will print out a truncated table"
   ]
  },
  {
   "cell_type": "code",
   "execution_count": 42,
   "id": "997dbd0e-bfaa-411a-9e95-ec2ea38b04fb",
   "metadata": {},
   "outputs": [
    {
     "data": {
      "text/html": [
       "<div>\n",
       "<style scoped>\n",
       "    .dataframe tbody tr th:only-of-type {\n",
       "        vertical-align: middle;\n",
       "    }\n",
       "\n",
       "    .dataframe tbody tr th {\n",
       "        vertical-align: top;\n",
       "    }\n",
       "\n",
       "    .dataframe thead th {\n",
       "        text-align: right;\n",
       "    }\n",
       "</style>\n",
       "<table border=\"1\" class=\"dataframe\">\n",
       "  <thead>\n",
       "    <tr style=\"text-align: right;\">\n",
       "      <th></th>\n",
       "      <th>name</th>\n",
       "      <th>job</th>\n",
       "      <th>salary</th>\n",
       "    </tr>\n",
       "  </thead>\n",
       "  <tbody>\n",
       "    <tr>\n",
       "      <th>0</th>\n",
       "      <td>Spongebob</td>\n",
       "      <td>Cook</td>\n",
       "      <td>20</td>\n",
       "    </tr>\n",
       "    <tr>\n",
       "      <th>1</th>\n",
       "      <td>Squidward</td>\n",
       "      <td>Cashier</td>\n",
       "      <td>10</td>\n",
       "    </tr>\n",
       "  </tbody>\n",
       "</table>\n",
       "</div>"
      ],
      "text/plain": [
       "        name      job  salary\n",
       "0  Spongebob     Cook      20\n",
       "1  Squidward  Cashier      10"
      ]
     },
     "execution_count": 42,
     "metadata": {},
     "output_type": "execute_result"
    }
   ],
   "source": [
    "df.head(2)"
   ]
  },
  {
   "cell_type": "markdown",
   "id": "ef5cb7d3-8a93-463b-91b2-5d926946e4b7",
   "metadata": {},
   "source": [
    "Suppose we want to do some math on the salary column. We can isolate this column as a \"Pandas Series\" structure in two equivalent ways:"
   ]
  },
  {
   "cell_type": "code",
   "execution_count": 47,
   "id": "aed05fc9-3cf5-40de-9d32-1bce3e7b84a5",
   "metadata": {},
   "outputs": [
    {
     "name": "stdout",
     "output_type": "stream",
     "text": [
      "0     20\n",
      "1     10\n",
      "2      0\n",
      "3    100\n",
      "Name: salary, dtype: int64\n",
      "0     20\n",
      "1     10\n",
      "2      0\n",
      "3    100\n",
      "Name: salary, dtype: int64\n"
     ]
    }
   ],
   "source": [
    "salaries1 = df.salary #treating salary as an object property\n",
    "salaries2 = df['salary'] #or by using 'salary' as a key, similar to a dictionary\n",
    "print(salaries1)\n",
    "print(salaries2)"
   ]
  },
  {
   "cell_type": "markdown",
   "id": "ce7ce093-3fed-481c-b3b9-8ac7934b3122",
   "metadata": {},
   "source": [
    "Series are good for restricting your analysis to a single column. They have many built in math and stats functions:"
   ]
  },
  {
   "cell_type": "code",
   "execution_count": 71,
   "id": "ce2b3a0d-698d-42c4-91e6-ab62306e661a",
   "metadata": {},
   "outputs": [
    {
     "name": "stdout",
     "output_type": "stream",
     "text": [
      "Sum: 130\n",
      "Product: 0\n"
     ]
    }
   ],
   "source": [
    "salaries_sum = salaries1.sum()\n",
    "salaries_product = salaries1.prod()\n",
    "print(f'Sum: {salaries_sum}')\n",
    "print(f'Product: {salaries_product}')"
   ]
  },
  {
   "cell_type": "markdown",
   "id": "c8724314-5f60-4ece-8b75-186aa7c48089",
   "metadata": {},
   "source": [
    "There are similar functions for max, min, standard deviation, mean, median, mode, and many many others. There are too many functions to cover here, so when in doubt, google it."
   ]
  },
  {
   "cell_type": "markdown",
   "id": "8b8566f6-e90a-43e7-8681-0a13a6c52c8c",
   "metadata": {},
   "source": [
    "We can also perform operations on whole dataframes, though some results might be junk if the data type doesn't match the operation"
   ]
  },
  {
   "cell_type": "code",
   "execution_count": 67,
   "id": "993b3e0e-50d4-4413-b1f1-776b58af9e4e",
   "metadata": {},
   "outputs": [
    {
     "data": {
      "text/plain": [
       "name      Squidward\n",
       "job           Owner\n",
       "salary          100\n",
       "bonus           100\n",
       "dtype: object"
      ]
     },
     "execution_count": 67,
     "metadata": {},
     "output_type": "execute_result"
    }
   ],
   "source": [
    "df.max()"
   ]
  },
  {
   "cell_type": "markdown",
   "id": "236a79c9-71e9-4686-9929-b61fd0edf1ec",
   "metadata": {},
   "source": [
    "### Plotting with pandas\n",
    "Python has lots of graphing libraries, so you might want to look around and see which one you like best. Some of the most popular ones are Matplotlib, Seaborn, Plotly, and GGPlot. Pandas is built to make plots from dataframes using Matplotlib under the hood. Let's try a basic plot with pandas."
   ]
  },
  {
   "cell_type": "code",
   "execution_count": 70,
   "id": "45fc11fb-bc9e-432d-91df-a3f3513a4e87",
   "metadata": {},
   "outputs": [
    {
     "data": {
      "image/png": "[encoded data removed]",
      "text/plain": [
       "<Figure size 432x288 with 1 Axes>"
      ]
     },
     "metadata": {
      "needs_background": "light"
     },
     "output_type": "display_data"
    }
   ],
   "source": [
    "ax = df.plot(\n",
    "    kind='bar', #specify type of plot\n",
    "    title= 'Krusty Krab Budget', #Specify plot title\n",
    "    x='name', #Specify column for x axis\n",
    "    y=['salary', 'bonus'], #Specify column(s) for y axis\n",
    "    xlabel='Name', #label x axis\n",
    "    ylabel='Salary (Bakini Bottom Dollars)', #label y axis\n",
    "    rot = 45 #rotate labels for each bar\n",
    "    )"
   ]
  },
  {
   "cell_type": "markdown",
   "id": "8f1e2ae3-f39d-4599-b390-915c600583ff",
   "metadata": {},
   "source": [
    "As you can see, we can specify the look of of the graph by passing in various keyword arguments into our bar function. The process is quite similar for building line graphs, scatter plots, histograms, and pie charts. Check out [this tutorial](https://www.w3schools.com/python/pandas/pandas_plotting.asp) for more in-depth guidance"
   ]
  },
  {
   "cell_type": "code",
   "execution_count": null,
   "id": "11ab9dd9-f7b4-4df1-a656-3587190af464",
   "metadata": {},
   "outputs": [],
   "source": []
  }
 ],
 "metadata": {
  "kernelspec": {
   "display_name": "Python 3 (ipykernel)",
   "language": "python",
   "name": "python3"
  },
  "language_info": {
   "codemirror_mode": {
    "name": "ipython",
    "version": 3
   },
   "file_extension": ".py",
   "mimetype": "text/x-python",
   "name": "python",
   "nbconvert_exporter": "python",
   "pygments_lexer": "ipython3",
   "version": "3.9.7"
  }
 },
 "nbformat": 4,
 "nbformat_minor": 5
}
