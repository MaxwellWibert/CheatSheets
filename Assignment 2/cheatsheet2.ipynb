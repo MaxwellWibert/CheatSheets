{
 "cells": [
  {
   "cell_type": "markdown",
   "id": "9c7d729d-a15a-4ca0-9058-ec73841f0070",
   "metadata": {},
   "source": [
    "# Assignment 2 Cheat Sheet"
   ]
  },
  {
   "cell_type": "markdown",
   "id": "4cb0e958-596f-4068-8853-3a6e24d350cf",
   "metadata": {},
   "source": [
    "## Problem 1\n",
    "### Extensible Markup Language (XML)"
   ]
  },
  {
   "cell_type": "markdown",
   "id": "fb3f51ce-8cd9-4690-bf1e-0d3b6c948e84",
   "metadata": {},
   "source": [
    "Our first problem will require us to parse lots of data from an XML file. Let's start importing a tool from the xml module and loading some dummy data so we can practice parsing XML"
   ]
  },
  {
   "cell_type": "code",
   "execution_count": 3,
   "id": "92a91a6c-2429-4811-84c1-6715e538aaf4",
   "metadata": {},
   "outputs": [],
   "source": [
    "import xml.etree.ElementTree as ET\n",
    "from pprint import pprint as pp \n",
    "tree = ET.parse('./books.xml')\n",
    "root = tree.getroot()"
   ]
  },
  {
   "cell_type": "markdown",
   "id": "1282b286-6a61-4175-9314-65cdabeb8b5d",
   "metadata": {},
   "source": [
    "The first line in the cell above just imports the ElementTree module and saves it under the shortened alias, \"ET\". \n",
    "\n",
    "The second line imports the pretty print module as pp. This simply prints things in a more readable format than python's built in print function\n",
    "\n",
    "The third line will look for a file called \"books.xml\" in the same folder where this cheatsheet2.ipynb file is stored. If it finds such a file, the ET module will use that file to construct a document object model (DOM) that mirrors the structure of the XML file inside python. \n",
    "\n",
    "Often to navigate a DOM tree, it is easiest to start from the tree's root element and iteratively move to our current element's children until we find what we're looking for. Our fourth line just selects the root element of the DOM tree for this purpose. Let's poke around until we understand the basics of navigating our DOM tree. It helps to have the XML file open on the side as a roadmap"
   ]
  },
  {
   "cell_type": "code",
   "execution_count": 4,
   "id": "2adcd46c-5f08-4730-af89-20a0bdf1fa76",
   "metadata": {},
   "outputs": [
    {
     "name": "stdout",
     "output_type": "stream",
     "text": [
      "<Element 'catalog' at 0x7fa9a26930b0>\n"
     ]
    }
   ],
   "source": [
    "pp(root)"
   ]
  },
  {
   "cell_type": "markdown",
   "id": "38348e33-722f-43f5-b111-9a5f1adf9a60",
   "metadata": {},
   "source": [
    "As evidenced by the above cell, the root of our DOM tree corresponds to the catalog element. Referring to the xml file, we should expect that it has several chidren book elements, each with a unique id property. Each of those book elements has its own children corresponding to information related to that specific book. We can iterate over all the children of our root node (i.e. each book element) using a for loop:"
   ]
  },
  {
   "cell_type": "code",
   "execution_count": 5,
   "id": "6c325227-12ea-4ba8-b6e5-31ab49b5123b",
   "metadata": {},
   "outputs": [
    {
     "name": "stdout",
     "output_type": "stream",
     "text": [
      "<Element 'book' at 0x7fa9a26cc450>\n",
      "<Element 'book' at 0x7fa9a26cc6d0>\n",
      "<Element 'book' at 0x7fa9a26cca90>\n",
      "<Element 'book' at 0x7fa9a26ccc70>\n",
      "<Element 'book' at 0x7fa9a26cd080>\n",
      "<Element 'book' at 0x7fa9a26cd350>\n",
      "<Element 'book' at 0x7fa9a26cd5d0>\n",
      "<Element 'book' at 0x7fa9a26cd800>\n",
      "<Element 'book' at 0x7fa9a26cda30>\n",
      "<Element 'book' at 0x7fa9a26cdcb0>\n",
      "<Element 'book' at 0x7fa9a26cdee0>\n",
      "<Element 'book' at 0x7fa9a26ce1b0>\n"
     ]
    }
   ],
   "source": [
    "for child in root:\n",
    "    pp(child)"
   ]
  },
  {
   "cell_type": "markdown",
   "id": "2d008a24-8516-4815-9454-2295eb57d2c5",
   "metadata": {},
   "source": [
    "Notice that every time we have tried to print an element of the DOM directly, the output is just a description of an object of type \"Element\", with a name (e.g. \"catalog\" or \"book\"), together with a description of the location of that object in memory. If we would instead like to print out a the XML string of subtree of the DOM starting at a given element, we would use the ET.tostring() function to get that text"
   ]
  },
  {
   "cell_type": "code",
   "execution_count": 6,
   "id": "158bd9a4-5d55-4b47-87c2-33a42b71eb7b",
   "metadata": {},
   "outputs": [
    {
     "name": "stdout",
     "output_type": "stream",
     "text": [
      "b'<book id=\"bk102\">\\n      <author>Ralls, Kim</author>\\n      <title>Midnight Rain</title>\\n      <genre>Fantasy</genre>\\n      <price>5.95</price>\\n      <publish_date>2000-12-16</publish_date>\\n      <description>A former architect battles corporate zombies, \\n      an evil sorceress, and her own childhood to become queen \\n      of the world.</description>\\n   </book>\\n   '\n"
     ]
    }
   ],
   "source": [
    "book1 = root[0]\n",
    "book1_xml = ET.tostring(book1)\n",
    "print(book1_xml)"
   ]
  },
  {
   "cell_type": "markdown",
   "id": "3f6803e6-56d3-4764-b4cb-9a390d6fa301",
   "metadata": {},
   "source": [
    "Why does this look so funky? Observe that there is a \"b\" before the quotation marks in the output of the cell above. This indicates that book1_xml is not a regular Python string, but is in fact a \"bytestring\". We can confirm the type of book1_xml with the built-in Python function \"type\"."
   ]
  },
  {
   "cell_type": "code",
   "execution_count": 7,
   "id": "933f1811-cb86-4577-ad50-9ff292e8ed2e",
   "metadata": {},
   "outputs": [
    {
     "data": {
      "text/plain": [
       "bytes"
      ]
     },
     "execution_count": 7,
     "metadata": {},
     "output_type": "execute_result"
    }
   ],
   "source": [
    "type(book1_xml)"
   ]
  },
  {
   "cell_type": "markdown",
   "id": "cdb3a7c5-4b8c-4b9a-8a1d-d42c35fe76f6",
   "metadata": {},
   "source": [
    "Although Python's print function does an okay job at printing bytestrings, and pp does just a little bit better, the result will be much prettier if we decode the bytes into a proper string:"
   ]
  },
  {
   "cell_type": "code",
   "execution_count": 8,
   "id": "cd6f16f6-4445-4fe5-b219-dcfeecfa5735",
   "metadata": {},
   "outputs": [
    {
     "name": "stdout",
     "output_type": "stream",
     "text": [
      "<book id=\"bk102\">\n",
      "      <author>Ralls, Kim</author>\n",
      "      <title>Midnight Rain</title>\n",
      "      <genre>Fantasy</genre>\n",
      "      <price>5.95</price>\n",
      "      <publish_date>2000-12-16</publish_date>\n",
      "      <description>A former architect battles corporate zombies, \n",
      "      an evil sorceress, and her own childhood to become queen \n",
      "      of the world.</description>\n",
      "   </book>\n",
      "   \n"
     ]
    }
   ],
   "source": [
    "book1_string = book1_xml.decode('utf-8')\n",
    "print(book1_string)"
   ]
  },
  {
   "cell_type": "markdown",
   "id": "2262e162-28e9-4040-b8e2-50b04b0e931a",
   "metadata": {},
   "source": [
    "Much better, although the end tag for the book element is misaligned. If the strange indentation bothers you, you can fix it by using the ET.indent() function:"
   ]
  },
  {
   "cell_type": "code",
   "execution_count": 9,
   "id": "41557c5a-5345-4e3c-b0d0-39bb7b9db0fa",
   "metadata": {},
   "outputs": [
    {
     "name": "stdout",
     "output_type": "stream",
     "text": [
      "<book id=\"bk102\">\n",
      "  <author>Ralls, Kim</author>\n",
      "  <title>Midnight Rain</title>\n",
      "  <genre>Fantasy</genre>\n",
      "  <price>5.95</price>\n",
      "  <publish_date>2000-12-16</publish_date>\n",
      "  <description>A former architect battles corporate zombies, \n",
      "      an evil sorceress, and her own childhood to become queen \n",
      "      of the world.</description>\n",
      "</book>\n",
      "   \n"
     ]
    }
   ],
   "source": [
    "ET.indent(book1)\n",
    "print(ET.tostring(book1).decode('utf-8'))"
   ]
  },
  {
   "cell_type": "markdown",
   "id": "1cd91b13-4a06-4b51-9f17-e1770fee91bc",
   "metadata": {},
   "source": [
    "This is sometimes easier to read with a bit of syntax highlighting:\n",
    "```xml\n",
    "<book id=\"bk101\">\n",
    "  <author>Gambardella, Matthew</author>\n",
    "  <title>XML Developer's Guide</title>\n",
    "  <genre>Computer</genre>\n",
    "  <price>44.95</price>\n",
    "  <publish_date>2000-10-01</publish_date>\n",
    "  <description>An in-depth look at creating applications \n",
    "      with XML.</description>\n",
    "</book>\n",
    "```\n",
    "\n",
    "\n",
    "We can access an individual child of a given element in several different ways:"
   ]
  },
  {
   "cell_type": "code",
   "execution_count": 10,
   "id": "70b7de90-9383-4342-98c5-6ffe895ef421",
   "metadata": {},
   "outputs": [
    {
     "name": "stdout",
     "output_type": "stream",
     "text": [
      "<Element 'book' at 0x7fa9a26cc450>\n"
     ]
    }
   ],
   "source": [
    "#Select the child by its index, similar to a python list\n",
    "book1 = root[0]\n",
    "pp(book1)"
   ]
  },
  {
   "cell_type": "code",
   "execution_count": 11,
   "id": "e91df408-663a-42b2-adc3-d891d1fe64fc",
   "metadata": {},
   "outputs": [
    {
     "name": "stdout",
     "output_type": "stream",
     "text": [
      "<Element 'author' at 0x7fa9a26cc360>\n"
     ]
    }
   ],
   "source": [
    "#Select the child by using its tag name\n",
    "author1 = book1.find(\"author\") \n",
    "pp(author1)"
   ]
  },
  {
   "cell_type": "markdown",
   "id": "8fa6ddb1-d9cf-4d07-b134-390de9057ef8",
   "metadata": {},
   "source": [
    "Note that if book1 had multiple author tags inside it, the find method would only select the first matching tag amongst its children.\n",
    "We can also pull the text out from the inside of an element:"
   ]
  },
  {
   "cell_type": "code",
   "execution_count": 12,
   "id": "54d17fd8-1995-4f54-95e4-33894b6baa4a",
   "metadata": {},
   "outputs": [
    {
     "name": "stdout",
     "output_type": "stream",
     "text": [
      "'Ralls, Kim'\n"
     ]
    }
   ],
   "source": [
    "text1 = author1.text\n",
    "pp(text1)"
   ]
  },
  {
   "cell_type": "markdown",
   "id": "2ad49cf1-2a81-4e3e-918d-46536d1fd5d3",
   "metadata": {},
   "source": [
    "We can directly select grandchildren, great-grandchildren, etc. of a given element by specifying the path of that element relative to our current element:"
   ]
  },
  {
   "cell_type": "code",
   "execution_count": 13,
   "id": "3f37f7d9-2407-4321-8b24-ed7e3da43ac6",
   "metadata": {},
   "outputs": [
    {
     "name": "stdout",
     "output_type": "stream",
     "text": [
      "'Midnight Rain'\n"
     ]
    }
   ],
   "source": [
    "title1 = root.find('book/title')#finds a title element inside a book element inside root\n",
    "pp(title1.text)"
   ]
  },
  {
   "cell_type": "markdown",
   "id": "eeff66b0-53f6-40e8-8360-14bb39f6dc60",
   "metadata": {},
   "source": [
    "Suppose we'd like to get all the matching children from a search, rather than just the first one. We simply use the findall method instead:"
   ]
  },
  {
   "cell_type": "code",
   "execution_count": 14,
   "id": "f4d4b3f0-3fe3-479a-9b70-48f3d24496b1",
   "metadata": {},
   "outputs": [
    {
     "name": "stdout",
     "output_type": "stream",
     "text": [
      "[<Element 'book' at 0x7fa9a26cc450>,\n",
      " <Element 'book' at 0x7fa9a26cc6d0>,\n",
      " <Element 'book' at 0x7fa9a26cca90>,\n",
      " <Element 'book' at 0x7fa9a26ccc70>,\n",
      " <Element 'book' at 0x7fa9a26cd080>,\n",
      " <Element 'book' at 0x7fa9a26cd350>,\n",
      " <Element 'book' at 0x7fa9a26cd5d0>,\n",
      " <Element 'book' at 0x7fa9a26cd800>,\n",
      " <Element 'book' at 0x7fa9a26cda30>,\n",
      " <Element 'book' at 0x7fa9a26cdcb0>,\n",
      " <Element 'book' at 0x7fa9a26cdee0>,\n",
      " <Element 'book' at 0x7fa9a26ce1b0>]\n"
     ]
    }
   ],
   "source": [
    "books = root.findall('book')\n",
    "pp(books)"
   ]
  },
  {
   "cell_type": "markdown",
   "id": "53bf8b5c-744d-418b-b7ec-d7da99d82450",
   "metadata": {},
   "source": [
    "In just the same fashion, we can get all the descendents of an element with a given relationship to the current element using a path as our search query:"
   ]
  },
  {
   "cell_type": "code",
   "execution_count": 15,
   "id": "a34192d9-81bc-4952-9679-69b5ab3b9f8e",
   "metadata": {},
   "outputs": [
    {
     "name": "stdout",
     "output_type": "stream",
     "text": [
      "'Midnight Rain'\n",
      "\"XML Developer's Guide\"\n",
      "'Maeve Ascendant'\n",
      "\"Oberon's Legacy\"\n",
      "'The Sundered Grail'\n",
      "'Lover Birds'\n",
      "'Splish Splash'\n",
      "'Creepy Crawlies'\n",
      "'Paradox Lost'\n",
      "'Microsoft .NET: The Programming Bible'\n",
      "'MSXML3: A Comprehensive Guide'\n",
      "'Visual Studio 7: A Comprehensive Guide'\n"
     ]
    }
   ],
   "source": [
    "titles = root.findall('book/title')\n",
    "for title in titles:\n",
    "    pp(title.text)"
   ]
  },
  {
   "cell_type": "markdown",
   "id": "6658d237-356d-4971-be95-845e4651cfec",
   "metadata": {},
   "source": [
    "If our DOM is very large and complicated, it may not be practical to manually search through the whole tree. In such cases, it is useful to recursively search through all the subtrees under an element. This is handled automatically by the iter method, which will search for matches among an element's children, grandchildren, and so on:"
   ]
  },
  {
   "cell_type": "code",
   "execution_count": 16,
   "id": "8d0593f3-763e-466d-b8bc-135d3c8ab8b3",
   "metadata": {},
   "outputs": [
    {
     "name": "stdout",
     "output_type": "stream",
     "text": [
      "'5.95'\n",
      "'44.95'\n",
      "'5.95'\n",
      "'5.95'\n",
      "'5.95'\n",
      "'4.95'\n",
      "'4.95'\n",
      "'4.95'\n",
      "'6.95'\n",
      "'36.95'\n",
      "'36.95'\n",
      "'49.95'\n"
     ]
    }
   ],
   "source": [
    "for price in root.iter('price'):\n",
    "    pp(price.text)"
   ]
  },
  {
   "cell_type": "markdown",
   "id": "23a44c5f-7fa8-438d-b86e-c4e9b15a0f28",
   "metadata": {},
   "source": [
    "Now that we know how to extract data from an XML file, we can load this information into a pandas dataframe for analysis:"
   ]
  },
  {
   "cell_type": "code",
   "execution_count": 17,
   "id": "84e120ae-db6b-4a78-affd-404b8de7d3dc",
   "metadata": {},
   "outputs": [],
   "source": [
    "import pandas as pd"
   ]
  },
  {
   "cell_type": "code",
   "execution_count": 18,
   "id": "95edcb4f-d359-4104-ac54-89e0e96c0381",
   "metadata": {},
   "outputs": [],
   "source": [
    "book_data = []\n",
    "\n",
    "for book in root:\n",
    "    book_dict = {\n",
    "        'title': book.find('title').text,\n",
    "        'author': book.find('author').text,\n",
    "        'price': float(book.find('price').text)\n",
    "    }\n",
    "    book_data.append(book_dict)\n",
    "\n",
    "book_df = pd.DataFrame(book_data)"
   ]
  },
  {
   "cell_type": "code",
   "execution_count": 19,
   "id": "8888385b-14d1-4128-beb0-eb6f0fc19d2b",
   "metadata": {},
   "outputs": [
    {
     "data": {
      "text/html": [
       "<div>\n",
       "<style scoped>\n",
       "    .dataframe tbody tr th:only-of-type {\n",
       "        vertical-align: middle;\n",
       "    }\n",
       "\n",
       "    .dataframe tbody tr th {\n",
       "        vertical-align: top;\n",
       "    }\n",
       "\n",
       "    .dataframe thead th {\n",
       "        text-align: right;\n",
       "    }\n",
       "</style>\n",
       "<table border=\"1\" class=\"dataframe\">\n",
       "  <thead>\n",
       "    <tr style=\"text-align: right;\">\n",
       "      <th></th>\n",
       "      <th>title</th>\n",
       "      <th>author</th>\n",
       "      <th>price</th>\n",
       "    </tr>\n",
       "  </thead>\n",
       "  <tbody>\n",
       "    <tr>\n",
       "      <th>0</th>\n",
       "      <td>Midnight Rain</td>\n",
       "      <td>Ralls, Kim</td>\n",
       "      <td>5.95</td>\n",
       "    </tr>\n",
       "    <tr>\n",
       "      <th>1</th>\n",
       "      <td>XML Developer's Guide</td>\n",
       "      <td>Gambardella, Matthew</td>\n",
       "      <td>44.95</td>\n",
       "    </tr>\n",
       "    <tr>\n",
       "      <th>2</th>\n",
       "      <td>Maeve Ascendant</td>\n",
       "      <td>Corets, Eva</td>\n",
       "      <td>5.95</td>\n",
       "    </tr>\n",
       "    <tr>\n",
       "      <th>3</th>\n",
       "      <td>Oberon's Legacy</td>\n",
       "      <td>Corets, Eva</td>\n",
       "      <td>5.95</td>\n",
       "    </tr>\n",
       "    <tr>\n",
       "      <th>4</th>\n",
       "      <td>The Sundered Grail</td>\n",
       "      <td>Corets, Eva</td>\n",
       "      <td>5.95</td>\n",
       "    </tr>\n",
       "  </tbody>\n",
       "</table>\n",
       "</div>"
      ],
      "text/plain": [
       "                   title                author  price\n",
       "0          Midnight Rain            Ralls, Kim   5.95\n",
       "1  XML Developer's Guide  Gambardella, Matthew  44.95\n",
       "2        Maeve Ascendant           Corets, Eva   5.95\n",
       "3        Oberon's Legacy           Corets, Eva   5.95\n",
       "4     The Sundered Grail           Corets, Eva   5.95"
      ]
     },
     "execution_count": 19,
     "metadata": {},
     "output_type": "execute_result"
    }
   ],
   "source": [
    "book_df.head()"
   ]
  },
  {
   "cell_type": "markdown",
   "id": "d39e07f1-721e-4596-ae3b-b23b77615573",
   "metadata": {},
   "source": [
    "### Bisection (Binary) Search Review"
   ]
  },
  {
   "cell_type": "markdown",
   "id": "af9433e5-7f73-4936-a713-a1b986e9375e",
   "metadata": {},
   "source": [
    "You are also tasked with writing an algorithm that searches for a given value in a sorted list in $O(\\log n)$ time by using bisection. Let us quickly review how this algorithm works to help you on your way. "
   ]
  },
  {
   "cell_type": "markdown",
   "id": "7232b09d-d064-44ce-8eb8-d86e41bd0104",
   "metadata": {},
   "source": [
    "| index   | 0 | 1 | 2 | 3 | 4 | 5 | 6  | 7  | 8  | 9  | 10 |\n",
    "|---------|---|---|---|---|---|---|----|----|----|----|----|\n",
    "| value   | 1 | 1 | 2 | 3 | 5 | 8 | 13 | 21 | 34 | 55 | 89 |"
   ]
  },
  {
   "cell_type": "markdown",
   "id": "ad7eaf19-5868-43da-9ab1-7342e1ba709f",
   "metadata": {},
   "source": [
    "Suppose we have the above ordered list of natural numbers, and we'd like to find the location of the value 13. We can start by specifying the outer left and right indices, $L$ and $R$. Now take the midpoint between those two indices $M = \\big[\\frac{L + R}2\\big]$. These square brackets indicate you will have to round M to a whole number if $(L+R)$ is odd."
   ]
  },
  {
   "cell_type": "markdown",
   "id": "7572bef9-d5ba-4507-a293-b0d2b4ecf65c",
   "metadata": {},
   "source": [
    "| index   | 0 | 1 | 2 | 3 | 4 | 5 | 6  | 7  | 8  | 9  | 10 |\n",
    "|---------|---|---|---|---|---|---|----|----|----|----|----|\n",
    "| value   | 1 | 1 | 2 | 3 | 5 | 8 | 13 | 21 | 34 | 55 | 89 |\n",
    "| markers | L |   |   |   |   | M  |    |    |    |    | R  |"
   ]
  },
  {
   "cell_type": "markdown",
   "id": "226f5ce8-8239-46f8-83f9-23cbfc0c1b0b",
   "metadata": {},
   "source": [
    "As shown above, we calculate that $M=5$. We now compare the value at this midpoint, $8$, against our search value, $13$. Clearly $8 < 13$. Since the list is sorted, we know that all the values to the left of our midpoint index is smaller than $13$. Therefore, we exclude these values our future search by moving our left index $L$ to our current midpoint, $M$. Notice that we have just cut our search space **in half**. "
   ]
  },
  {
   "cell_type": "markdown",
   "id": "5425d65c-171b-4780-acab-e4ac37a22284",
   "metadata": {},
   "source": [
    "| index   | 0 | 1 | 2 | 3 | 4 | 5 | 6  | 7  | 8  | 9  | 10 |\n",
    "|---------|---|---|---|---|---|---|----|----|----|----|----|\n",
    "| value   | 1 | 1 | 2 | 3 | 5 | 8 | 13 | 21 | 34 | 55 | 89 |\n",
    "| markers |   |   |   |   |   | L  |    |    | M   |    | R  |"
   ]
  },
  {
   "cell_type": "markdown",
   "id": "9ccf3419-ed08-49ab-a4ae-3754b6fbe79e",
   "metadata": {},
   "source": [
    "Repeating the process above, we set the new $M$ to [$\\frac{L+R}2$]$=8$, rounding as necessary. The value at index $8$ is $34$, which is greater than our search value $13$. Again, since the list is sorted, we know all values to the right of $M$ are greater than $13$, so we will exclude them from our future search by moving $R$ to our current $M$."
   ]
  },
  {
   "cell_type": "markdown",
   "id": "d3a81adc-aebf-4cfa-8dd2-e29d5886172d",
   "metadata": {},
   "source": [
    "| index   | 0 | 1 | 2 | 3 | 4 | 5 | 6  | 7  | 8  | 9  | 10 |\n",
    "|---------|---|---|---|---|---|---|----|----|----|----|----|\n",
    "| value   | 1 | 1 | 2 | 3 | 5 | 8 | 13 | 21 | 34 | 55 | 89 |\n",
    "| markers |   |   |   |   |   | L  |    |  M  | R   |    |  |"
   ]
  },
  {
   "cell_type": "markdown",
   "id": "9591e09d-919c-41e4-98af-fe665e3c2ee2",
   "metadata": {},
   "source": [
    "Again, we repeat from above. We set the new $M$ to $\\big[\\frac{L+R}2\\big]=7$. The value at index $M=7$ is $21$, which is greater than $13$, so we exclude all values to the right of $M$ by moving $R$ to the current $M$."
   ]
  },
  {
   "cell_type": "markdown",
   "id": "6d6ed07c-b24d-45b3-bc2b-f5d2e7704331",
   "metadata": {},
   "source": [
    "| index   | 0 | 1 | 2 | 3 | 4 | 5 | 6  | 7  | 8  | 9  | 10 |\n",
    "|---------|---|---|---|---|---|---|----|----|----|----|----|\n",
    "| value   | 1 | 1 | 2 | 3 | 5 | 8 | 13 | 21 | 34 | 55 | 89 |\n",
    "| markers |   |   |   |   |   | L  |  M  |  R |    |    |  |"
   ]
  },
  {
   "cell_type": "markdown",
   "id": "4ababd85-dc98-4c32-b923-d713e645fe8f",
   "metadata": {},
   "source": [
    "Finally, we find that $M = \\big[\\frac{(L+R)}2\\big]=6$. The value at the index $6$ is $13$, which matches our search value, so our search is done, and our algorithm should output the index $6$."
   ]
  },
  {
   "cell_type": "markdown",
   "id": "6c8af2a6-a584-4380-a68a-fa0d30ec7a1d",
   "metadata": {},
   "source": [
    "What do you do if the search value is nowhere to be found in the list? For example, if we had tried to find $15$ in the list above, the steps I have described would result in a neverending loop, so we must put in a safeguard that terminates the algorithm in case $L$ and $R$ are adjacent. For our purposes, it may be useful for the algorithm to output the final value of $\\frac{L+R}2$ (which is not an integer) to indicate that our search was unsuccessful, as well as to divide the list into values below and above our search value.\n",
    "\n",
    "Ask yourself, why does the above process only take $O(\\log n)$ time?"
   ]
  },
  {
   "cell_type": "markdown",
   "id": "479250f3-56b8-4cb6-a649-caee8cfffa1f",
   "metadata": {},
   "source": [
    "## Problem 2"
   ]
  },
  {
   "cell_type": "markdown",
   "id": "5b4080c5-8534-4ab2-bc4f-d3a0211827a6",
   "metadata": {},
   "source": [
    "### Biopython and SeqIO"
   ]
  },
  {
   "cell_type": "markdown",
   "id": "8af2d110-d84b-4b99-8801-bf699e74b534",
   "metadata": {},
   "source": [
    "For this problem, you're going to need access to the biopython library. We'll start by downloading the library using anaconda in the terminal, and importing some of its tools into the project:"
   ]
  },
  {
   "cell_type": "code",
   "execution_count": 20,
   "id": "91281b6a-b357-4ccf-8c2b-d8967dc85bf8",
   "metadata": {},
   "outputs": [
    {
     "name": "stdout",
     "output_type": "stream",
     "text": [
      "Collecting package metadata (current_repodata.json): done\n",
      "Solving environment: / \n",
      "Warning: 2 possible package resolutions (only showing differing packages):\n",
      "  - anaconda/linux-64::openssl-1.1.1q-h7f8727e_0\n",
      "  - defaults/linux-64::openssl-1.1.1q-h7f8727edone\n",
      "\n",
      "\n",
      "==> WARNING: A newer version of conda exists. <==\n",
      "  current version: 4.12.0\n",
      "  latest version: 4.14.0\n",
      "\n",
      "Please update conda by running\n",
      "\n",
      "    $ conda update -n base -c defaults conda\n",
      "\n",
      "\n",
      "\n",
      "## Package Plan ##\n",
      "\n",
      "  environment location: /home/max/.conda/envs/py310\n",
      "\n",
      "  added / updated specs:\n",
      "    - biopython\n",
      "\n",
      "\n",
      "The following packages will be downloaded:\n",
      "\n",
      "    package                    |            build\n",
      "    ---------------------------|-----------------\n",
      "    biopython-1.79             |  py310h6acc77f_1         3.0 MB  conda-forge\n",
      "    ca-certificates-2022.9.14  |       ha878542_0         152 KB  conda-forge\n",
      "    certifi-2022.9.14          |     pyhd8ed1ab_0         156 KB  conda-forge\n",
      "    python_abi-3.10            |          2_cp310           4 KB  conda-forge\n",
      "    ------------------------------------------------------------\n",
      "                                           Total:         3.3 MB\n",
      "\n",
      "The following NEW packages will be INSTALLED:\n",
      "\n",
      "  biopython          conda-forge/linux-64::biopython-1.79-py310h6acc77f_1\n",
      "  python_abi         conda-forge/linux-64::python_abi-3.10-2_cp310\n",
      "\n",
      "The following packages will be UPDATED:\n",
      "\n",
      "  ca-certificates    anaconda::ca-certificates-2022.07.19-~ --> conda-forge::ca-certificates-2022.9.14-ha878542_0\n",
      "  certifi            anaconda/linux-64::certifi-2022.6.15-~ --> conda-forge/noarch::certifi-2022.9.14-pyhd8ed1ab_0\n",
      "\n",
      "\n",
      "\n",
      "Downloading and Extracting Packages\n",
      "python_abi-3.10      | 4 KB      | ##################################### | 100% \n",
      "certifi-2022.9.14    | 156 KB    | ##################################### | 100% \n",
      "biopython-1.79       | 3.0 MB    | ##################################### | 100% \n",
      "ca-certificates-2022 | 152 KB    | ##################################### | 100% \n",
      "Preparing transaction: done\n",
      "Verifying transaction: done\n",
      "Executing transaction: done\n"
     ]
    }
   ],
   "source": [
    "! conda install -c conda-forge biopython -y"
   ]
  },
  {
   "cell_type": "code",
   "execution_count": 52,
   "id": "084c6788-6b39-4f62-b8a6-12f8d26758f5",
   "metadata": {},
   "outputs": [],
   "source": [
    "from Bio import SeqIO\n",
    "from Bio.SeqRecord import SeqRecord\n",
    "from Bio.Seq import Seq\n",
    "import re\n"
   ]
  },
  {
   "cell_type": "markdown",
   "id": "5f3adad1-2698-4b24-8c96-a86a3daa8c8e",
   "metadata": {},
   "source": [
    "Now that we have the SeqIO module ready, let's use it to read some data into python. Here we read in a simple data set containing a Coronavirus spike protein trimer sequence from [this site](https://www.rcsb.org/structure/3JCL). We can just as easily read in data from"
   ]
  },
  {
   "cell_type": "code",
   "execution_count": 22,
   "id": "08789556-2457-4af3-9ba5-eef4e643e4ac",
   "metadata": {},
   "outputs": [],
   "source": [
    "proteins = SeqIO.parse(\"./query_sequences.fasta\", \"fasta\")"
   ]
  },
  {
   "cell_type": "markdown",
   "id": "5549bf1c-d8f9-458f-be1b-326ca05e58ee",
   "metadata": {},
   "source": [
    "Let's take a look at the output of this parsing function, how to navigate it, and how to extract the info from it that we might need."
   ]
  },
  {
   "cell_type": "code",
   "execution_count": 23,
   "id": "59c80e01-9933-4316-8714-51a7a2bdedda",
   "metadata": {},
   "outputs": [
    {
     "name": "stdout",
     "output_type": "stream",
     "text": [
      "<Bio.SeqIO.FastaIO.FastaIterator object at 0x7fa9d8587490>\n"
     ]
    }
   ],
   "source": [
    "print(proteins)"
   ]
  },
  {
   "cell_type": "markdown",
   "id": "96af7e47-ee28-4360-bcb2-f8d45c7d1acb",
   "metadata": {},
   "source": [
    "From this print statement, we see that the proteins object is some kind of iterator. This suggests that we are able to iterate over it using a for-loop, or to load the contents of the iterator into a list, as shown below:"
   ]
  },
  {
   "cell_type": "code",
   "execution_count": 24,
   "id": "ab9245cb-be6e-4b7a-ae2a-f38a3108bed6",
   "metadata": {},
   "outputs": [],
   "source": [
    "#list of all elements iterated over by protein\n",
    "protein_list = list(proteins)"
   ]
  },
  {
   "cell_type": "code",
   "execution_count": 25,
   "id": "d40d13f7-eefd-4f81-b45e-e3701247912f",
   "metadata": {},
   "outputs": [
    {
     "name": "stdout",
     "output_type": "stream",
     "text": [
      "[SeqRecord(seq=Seq('YIGDFRCIQLVNSNGANVSAPSISTETVEVSQGLGTYYVLDRVYLNATLLLTGY...FEK'), id='3JCL_1|Chains', name='3JCL_1|Chains', description='3JCL_1|Chains A, B, C|Spike glycoprotein|Murine hepatitis virus strain A59 (11142)', dbxrefs=[])]\n"
     ]
    }
   ],
   "source": [
    "print(protein_list)"
   ]
  },
  {
   "cell_type": "markdown",
   "id": "a38909fb-d235-4ac8-bbb3-a51b9d603008",
   "metadata": {},
   "source": [
    "Since our FASTA file only encoded a single protein, this list has only one element. Let's take a look at it:"
   ]
  },
  {
   "cell_type": "code",
   "execution_count": 26,
   "id": "cd07d124-0ef3-464c-9f71-61ebbd6254b7",
   "metadata": {},
   "outputs": [
    {
     "name": "stdout",
     "output_type": "stream",
     "text": [
      "ID: 3JCL_1|Chains\n",
      "Name: 3JCL_1|Chains\n",
      "Description: 3JCL_1|Chains A, B, C|Spike glycoprotein|Murine hepatitis virus strain A59 (11142)\n",
      "Number of features: 0\n",
      "Seq('YIGDFRCIQLVNSNGANVSAPSISTETVEVSQGLGTYYVLDRVYLNATLLLTGY...FEK')\n"
     ]
    }
   ],
   "source": [
    "protein = protein_list[0]\n",
    "print(protein)"
   ]
  },
  {
   "cell_type": "markdown",
   "id": "77adb396-5eb1-4daa-9c77-1c5ba8a10435",
   "metadata": {},
   "source": [
    "As we see above, this protein object has several attributes we might care about: ID, Name, Description, and Sequence. We can access each of these attributes individually:"
   ]
  },
  {
   "cell_type": "code",
   "execution_count": 27,
   "id": "e009f4cf-d790-4df9-88db-94e70abdfabc",
   "metadata": {},
   "outputs": [
    {
     "name": "stdout",
     "output_type": "stream",
     "text": [
      "Protein ID: 3JCL_1|Chains\n"
     ]
    }
   ],
   "source": [
    "print(f\"Protein ID: {protein.id}\")"
   ]
  },
  {
   "cell_type": "code",
   "execution_count": 28,
   "id": "b80661c0-3ed1-42dc-8c35-832ae12eadc9",
   "metadata": {},
   "outputs": [
    {
     "name": "stdout",
     "output_type": "stream",
     "text": [
      "Protein Name: 3JCL_1|Chains\n"
     ]
    }
   ],
   "source": [
    "print(f\"Protein Name: {protein.name}\")"
   ]
  },
  {
   "cell_type": "code",
   "execution_count": 29,
   "id": "48d0c45a-723c-48d3-8c61-9ba8a7e2f3f2",
   "metadata": {},
   "outputs": [
    {
     "name": "stdout",
     "output_type": "stream",
     "text": [
      "Protein Description: 3JCL_1|Chains A, B, C|Spike glycoprotein|Murine hepatitis virus strain A59 (11142)\n"
     ]
    }
   ],
   "source": [
    "print(f\"Protein Description: {protein.description}\")"
   ]
  },
  {
   "cell_type": "code",
   "execution_count": 30,
   "id": "1801e46a-36c1-4c3b-bc24-e1eb37e64410",
   "metadata": {},
   "outputs": [
    {
     "name": "stdout",
     "output_type": "stream",
     "text": [
      "Protein Sequence: YIGDFRCIQLVNSNGANVSAPSISTETVEVSQGLGTYYVLDRVYLNATLLLTGYYPVDGSKFRNLALRGTNSVSLSWFQPPYLNQFNDGIFAKVQNLKTSTPSGATAYFPTIVIGSLFGYTSYTVVIEPYNGVIMASVCQYTICQLPYTDCKPNTNGNKLIGFWHTDVKPPICVLKRNFTLNVNADAFYFHFYQHGGTFYAYYADKPSATTFLFSVYIGDILTQYYVLPFICNPTAGSTFAPRYWVTPLVKRQYLFNFNQKGVITSAVDCASSYTSEIKCKTQSMLPSTGVYELSGYTVQPVGVVYRRVANLPACNIEEWLTARSVPSPLNWERKTFQNCNFNLSSLLRYVQAESLFCNNIDASKVYGRCFGSISVDKFAVPRSRQVDLQLGNSGFLQTANYKIDTAATSCQLHYTLPKNNVTINNHNPSSWNRRYGFNDAGVFGKNQHDVVYAQQCFTVRSSYCPCAQPDIVSPCTTQTKPKSAFVNVGDHCEGLGVLEDNCGNADPHKGCICANNSFIGWSHDTCLVNDRCQIFANILLNGINSGTTCSTDLQLPNTEVVTGICVKYDLYGITGQGVFKEVKADYYNSWQTLLYDVNGNLNGFRDLTTNKTYTIRSCYSGRVSAAFHKDAPEPALLYRNINCSYVFSNNISREENPLNYFDSYLGCVVNADNRTDEALPNCDLRMGAGLCVDYSKSRRAHSSVSTGYRLTTFEPYTPMLVNDSVQSVDGLYEMQIPTNFTIGHHEEFIQTRSPKVTIDCAAFVCGDNTACRQQLVEYGSFCVNVNAILNEVNNLLDNMQLQVASALMQGVTISSRLPDGISGPIDDINFSPLLGCIGSTCAEDGNGPSAIRGRSAIEDLLFDKVKLSDVGFVEAYNNCTGGQEVRDLLCVQSFNGIKVLPPVLSESQISGYTTGATAAAMFPPWSAAAGVPFSLSVQYRINGLGVTMNVLSENQKMIASAFNNALGAIQDGFDATNSALGKIQSVVNANAEALNNLLNQLSNRFGAISASLQEILTRLEAVEAKAQIDRLINGRLTALNAYISKQLSDSTLIKVSAAQAIEKVNECVKSQTTRINFCGNGNHILSLVQNAPYGLYFIHFSYVPISFTTANVSPGLCISGDRGLAPKAGYFVQDDGEWKFTGSSYYYPEPITDKNSVIMSSCAVNYTKAPEVFLNTSIPNPPDFKEELDKWFKNQTSIAPDLSLDFEKLNVTLLDLIKRMKQIEDKIEEIESKQKKIENEIARIKKIKLVPRGSLEWSHPQFEK\n"
     ]
    }
   ],
   "source": [
    "print(f\"Protein Sequence: {protein.seq}\")"
   ]
  },
  {
   "cell_type": "markdown",
   "id": "810faf9b-b430-4a58-bc56-9e646246a943",
   "metadata": {},
   "source": [
    "Each of the letters in the above sequence represents an Amino acid in the spike protein. This is similar to the way in which each letter in a DNA sequence represents a single nucleotide. If you want to feed such a sequence into a hash function, you may need to encode it as a bytestring using the following method:"
   ]
  },
  {
   "cell_type": "code",
   "execution_count": 31,
   "id": "230c0609-b71b-4a57-95d2-06ffe4b8edc0",
   "metadata": {},
   "outputs": [
    {
     "name": "stdout",
     "output_type": "stream",
     "text": [
      "b'yigdfrciqlvnsnganvsapsistetvevsqglgtyyvldrvylnatllltgyypvdgskfrnlalrgtnsvslswfqppylnqfndgifakvqnlktstpsgatayfptivigslfgytsytvviepyngvimasvcqyticqlpytdckpntngnkligfwhtdvkppicvlkrnftlnvnadafyfhfyqhggtfyayyadkpsattflfsvyigdiltqyyvlpficnptagstfaprywvtplvkrqylfnfnqkgvitsavdcassytseikcktqsmlpstgvyelsgytvqpvgvvyrrvanlpacnieewltarsvpsplnwerktfqncnfnlssllryvqaeslfcnnidaskvygrcfgsisvdkfavprsrqvdlqlgnsgflqtanykidtaatscqlhytlpknnvtinnhnpsswnrrygfndagvfgknqhdvvyaqqcftvrssycpcaqpdivspcttqtkpksafvnvgdhceglgvledncgnadphkgcicannsfigwshdtclvndrcqifanillnginsgttcstdlqlpntevvtgicvkydlygitgqgvfkevkadyynswqtllydvngnlngfrdlttnktytirscysgrvsaafhkdapepallyrnincsyvfsnnisreenplnyfdsylgcvvnadnrtdealpncdlrmgaglcvdysksrrahssvstgyrlttfepytpmlvndsvqsvdglyemqiptnftighheefiqtrspkvtidcaafvcgdntacrqqlveygsfcvnvnailnevnnlldnmqlqvasalmqgvtissrlpdgisgpiddinfspllgcigstcaedgngpsairgrsaiedllfdkvklsdvgfveaynnctggqevrdllcvqsfngikvlppvlsesqisgyttgataaamfppwsaaagvpfslsvqyringlgvtmnvlsenqkmiasafnnalgaiqdgfdatnsalgkiqsvvnanaealnnllnqlsnrfgaisaslqeiltrleaveakaqidrlingrltalnayiskqlsdstlikvsaaqaiekvnecvksqttrinfcgngnhilslvqnapyglyfihfsyvpisfttanvspglcisgdrglapkagyfvqddgewkftgssyyypepitdknsvimsscavnytkapevflntsipnppdfkeeldkwfknqtsiapdlsldfeklnvtlldlikrmkqiedkieeieskqkkieneiarikkiklvprgslewshpqfek'\n"
     ]
    }
   ],
   "source": [
    "sequence_bytes = str(protein.seq).lower().encode('utf8')\n",
    "print(sequence_bytes)"
   ]
  },
  {
   "cell_type": "markdown",
   "id": "2ee45942-737d-46c6-ad8a-58c319d22c51",
   "metadata": {},
   "source": [
    "We can likewise decode a bytestring back into a string, if we like:"
   ]
  },
  {
   "cell_type": "code",
   "execution_count": 32,
   "id": "d48998e6-cf78-48db-b635-b6c435663e47",
   "metadata": {},
   "outputs": [
    {
     "name": "stdout",
     "output_type": "stream",
     "text": [
      "YIGDFRCIQLVNSNGANVSAPSISTETVEVSQGLGTYYVLDRVYLNATLLLTGYYPVDGSKFRNLALRGTNSVSLSWFQPPYLNQFNDGIFAKVQNLKTSTPSGATAYFPTIVIGSLFGYTSYTVVIEPYNGVIMASVCQYTICQLPYTDCKPNTNGNKLIGFWHTDVKPPICVLKRNFTLNVNADAFYFHFYQHGGTFYAYYADKPSATTFLFSVYIGDILTQYYVLPFICNPTAGSTFAPRYWVTPLVKRQYLFNFNQKGVITSAVDCASSYTSEIKCKTQSMLPSTGVYELSGYTVQPVGVVYRRVANLPACNIEEWLTARSVPSPLNWERKTFQNCNFNLSSLLRYVQAESLFCNNIDASKVYGRCFGSISVDKFAVPRSRQVDLQLGNSGFLQTANYKIDTAATSCQLHYTLPKNNVTINNHNPSSWNRRYGFNDAGVFGKNQHDVVYAQQCFTVRSSYCPCAQPDIVSPCTTQTKPKSAFVNVGDHCEGLGVLEDNCGNADPHKGCICANNSFIGWSHDTCLVNDRCQIFANILLNGINSGTTCSTDLQLPNTEVVTGICVKYDLYGITGQGVFKEVKADYYNSWQTLLYDVNGNLNGFRDLTTNKTYTIRSCYSGRVSAAFHKDAPEPALLYRNINCSYVFSNNISREENPLNYFDSYLGCVVNADNRTDEALPNCDLRMGAGLCVDYSKSRRAHSSVSTGYRLTTFEPYTPMLVNDSVQSVDGLYEMQIPTNFTIGHHEEFIQTRSPKVTIDCAAFVCGDNTACRQQLVEYGSFCVNVNAILNEVNNLLDNMQLQVASALMQGVTISSRLPDGISGPIDDINFSPLLGCIGSTCAEDGNGPSAIRGRSAIEDLLFDKVKLSDVGFVEAYNNCTGGQEVRDLLCVQSFNGIKVLPPVLSESQISGYTTGATAAAMFPPWSAAAGVPFSLSVQYRINGLGVTMNVLSENQKMIASAFNNALGAIQDGFDATNSALGKIQSVVNANAEALNNLLNQLSNRFGAISASLQEILTRLEAVEAKAQIDRLINGRLTALNAYISKQLSDSTLIKVSAAQAIEKVNECVKSQTTRINFCGNGNHILSLVQNAPYGLYFIHFSYVPISFTTANVSPGLCISGDRGLAPKAGYFVQDDGEWKFTGSSYYYPEPITDKNSVIMSSCAVNYTKAPEVFLNTSIPNPPDFKEELDKWFKNQTSIAPDLSLDFEKLNVTLLDLIKRMKQIEDKIEEIESKQKKIENEIARIKKIKLVPRGSLEWSHPQFEK\n"
     ]
    }
   ],
   "source": [
    "sequence_string = sequence_bytes.decode('utf8').upper()\n",
    "print(sequence_string)"
   ]
  },
  {
   "cell_type": "markdown",
   "id": "feda044b-3192-48ad-b4c1-90fa0a05a70b",
   "metadata": {},
   "source": [
    "Suppose we want to look at small chunks of this sequence, i.e. a $k$-mer. We can take \"slices\" of the sequence by specifying the start and end indices of the slice:"
   ]
  },
  {
   "cell_type": "code",
   "execution_count": 33,
   "id": "9053317c-2a13-4fb2-8a9f-7862bb4ef9e3",
   "metadata": {},
   "outputs": [
    {
     "name": "stdout",
     "output_type": "stream",
     "text": [
      "b'yigdfrciqlvnsnganvsa'\n"
     ]
    }
   ],
   "source": [
    "smallseq =  sequence_bytes[0:20] #all elements from 0 to 19\n",
    "print(smallseq)"
   ]
  },
  {
   "cell_type": "markdown",
   "id": "a752bf5d-a5d6-4bb0-9ec5-d27ba00584f0",
   "metadata": {},
   "source": [
    "We will often want to scan across a large sequence to look at all its $k$-mers of a given size. This can be accomplished by taking slices in a loop:"
   ]
  },
  {
   "cell_type": "code",
   "execution_count": 35,
   "id": "78725a3e-1828-40cf-8731-9e0dda7af4aa",
   "metadata": {},
   "outputs": [],
   "source": [
    "index = 0\n",
    "k = 10\n",
    "n = len(smallseq)\n",
    "\n",
    "kmers = []\n",
    "for index in range(0, n-k+1):\n",
    "    kmer = smallseq[index:index+k]\n",
    "    kmers.append(kmer)"
   ]
  },
  {
   "cell_type": "code",
   "execution_count": 36,
   "id": "98dec937-319b-4ed9-9721-155aec428850",
   "metadata": {},
   "outputs": [
    {
     "name": "stdout",
     "output_type": "stream",
     "text": [
      "[b'yigdfrciql', b'igdfrciqlv', b'gdfrciqlvn', b'dfrciqlvns', b'frciqlvnsn', b'rciqlvnsng', b'ciqlvnsnga', b'iqlvnsngan', b'qlvnsnganv', b'lvnsnganvs', b'vnsnganvsa']\n"
     ]
    }
   ],
   "source": [
    "print(kmers)"
   ]
  },
  {
   "cell_type": "markdown",
   "id": "4da3ead7-9b95-46f5-ac50-ab02022fa7ef",
   "metadata": {},
   "source": [
    "If we would like to save these new sequences for a later date, we can use SeqIO to write them to a file"
   ]
  },
  {
   "cell_type": "code",
   "execution_count": 57,
   "id": "0ba9ef6c-d17b-4ea4-89d6-f7a72df9f9fa",
   "metadata": {},
   "outputs": [
    {
     "data": {
      "text/plain": [
       "11"
      ]
     },
     "execution_count": 57,
     "metadata": {},
     "output_type": "execute_result"
    }
   ],
   "source": [
    "#decode kmers to strings\n",
    "records = []\n",
    "for index, kmer in enumerate(kmers):\n",
    "    kmer_string = kmer.decode('utf8').upper()\n",
    "    kmer_seq = Seq(kmer_string)\n",
    "    record = SeqRecord(kmer_seq, f\"Record #{index + 1}\")\n",
    "    records.append(record)\n",
    "\n",
    "SeqIO.write(records, \"./output.fasta\", \"fasta\")"
   ]
  },
  {
   "cell_type": "markdown",
   "id": "e6585fe4-1a6e-4da5-9707-56f884119790",
   "metadata": {},
   "source": [
    "### Hashing"
   ]
  },
  {
   "cell_type": "markdown",
   "id": "135a106f-e4ff-4e73-9b66-dcd78246ab93",
   "metadata": {},
   "source": [
    "This problem also asks us to approximate how many distinct elements there are in a list by using a family of hash functions. Recall that a hash function takes some key value (e.g., the bytestring representation of an n-mer) and outputs some numerical value in a given range."
   ]
  },
  {
   "cell_type": "markdown",
   "id": "7004523b-50ef-4236-bcd9-4a1f294854c6",
   "metadata": {},
   "source": [
    "For example, each hash function in the family Professor McDougal gave us in the assignment will take a $15$-mer string and output an integer value between $0$ and $3,587,798,434,663$, which he represents as a hexadecimal number, scale=0x07ffffffff. For our purposes, we don't need to understand the internal workings of these hash functions, we only need to assume that the output distributions of these hash functions are uniform on the range $[0, \\textit{scale}-1]$. "
   ]
  },
  {
   "cell_type": "markdown",
   "id": "34ea2f64-0ce0-4ca9-921f-0176c3744958",
   "metadata": {},
   "source": [
    "Suppose that we have a set of distinct values $\\{x_1,...,x_n\\}$, and we'd like to approximate the size of this set, $n$, using a hash function, $h$. $h$ should then map our input set to output values $\\{h_1,...,h_m\\}$, where $m\\leq n$. "
   ]
  },
  {
   "cell_type": "markdown",
   "id": "49058d20-6ff1-45da-8103-43115f0f655b",
   "metadata": {},
   "source": [
    "In principle, we're hoping that $h$ maps any two distinct input values to two distinct output values so that our input and output sets are the same size. In practice, $h$ may map two or more distinct inputs to the same output. We call such an event a \"hash collision\"."
   ]
  },
  {
   "cell_type": "markdown",
   "id": "43f523d3-3466-4eea-a9f4-209317a70303",
   "metadata": {},
   "source": [
    "The more hash collisions we have, the farther $m$ will be from $n$, and thus the less accurate our approximation will be. Therefore want to generate as few collisions as possible. Generally speaking, the more possible output values that a hash function has, the less likely that a collision will occur. This is why we have set our scale value to such a large number."
   ]
  },
  {
   "cell_type": "markdown",
   "id": "ca66ee5b-66dd-4d13-a33c-21d01111f23e",
   "metadata": {},
   "source": [
    "Once we have our sample of uniformly distributed hash values, it's time to do a little statistics. We discussed in lecture that if $\\{y_1,...,y_m\\}$ are uniformly distributed across the unit interval of real numbers $[0,1]$, then the expected minimum value of this set is calculated as follows:"
   ]
  },
  {
   "cell_type": "markdown",
   "id": "b50c2760-da93-442e-bd5b-e912dae0cf6c",
   "metadata": {},
   "source": [
    "$\\mathbb{E}[\\min y_i] = \\frac 1{m+1}$. \n",
    "\n",
    "Bonus: the math behind this fact is explained [here](https://danieltakeshi.github.io/2016/09/25/the-expectation-of-the-minimum-of-iid-uniform-random-variables/) for those of you who wish to know"
   ]
  },
  {
   "cell_type": "markdown",
   "id": "a386ce38-d1f2-40e0-8df9-3dfcb50c4f82",
   "metadata": {},
   "source": [
    "Since our hash values $\\{h_1,...,h_m\\}$ are uniformly distributed across the interval $[0,\\textit{scale}-1]$, we should then expect that the minimum hash value is computed as follows"
   ]
  },
  {
   "cell_type": "markdown",
   "id": "41038dc3-2d98-41e6-9f94-29da69bcc179",
   "metadata": {},
   "source": [
    "$\\mathbb{E}[\\min h_i] = \\frac {\\textit{scale}-1}{m+1}$."
   ]
  },
  {
   "cell_type": "markdown",
   "id": "5c7ce69b-cf60-4bee-8137-9a75c4be3cd8",
   "metadata": {},
   "source": [
    "From this equation, we then solve for $m$ with a bit of algebra to get the following:"
   ]
  },
  {
   "cell_type": "markdown",
   "id": "793b5adc-ebec-48fb-964d-a9c849deb581",
   "metadata": {},
   "source": [
    "$m = \\frac{\\textit{scale}-1}{\\mathbb E [\\min h_i]} - 1$"
   ]
  },
  {
   "cell_type": "markdown",
   "id": "1283e8e8-6163-4ef6-b457-593afba3e8db",
   "metadata": {},
   "source": [
    "Since we are only able to directly measure the actual value of $\\min h_i$, instead of the expected value, we can only use the following approximation:"
   ]
  },
  {
   "cell_type": "markdown",
   "id": "0f2b2969-ca7a-4c84-af91-47494d2c9ced",
   "metadata": {},
   "source": [
    "$m \\approx \\frac {scale -1}{\\min h_i} - 1$"
   ]
  },
  {
   "cell_type": "markdown",
   "id": "4a17f49c-f8c4-45a0-bff5-c069fbbd568c",
   "metadata": {},
   "source": [
    "To get a more accurate approximation of $m$, we can run this computation many times, each time using a different hash function, then take our final value of $m$ to be the median of these approximate values. This is why the professor gave us a whole family of hash functions."
   ]
  },
  {
   "cell_type": "markdown",
   "id": "ef56b863-e195-4026-a00b-49ce59230a8c",
   "metadata": {},
   "source": [
    "## Problem 3"
   ]
  },
  {
   "cell_type": "markdown",
   "id": "b23024b8-365a-49eb-b014-ec58bf01e67f",
   "metadata": {},
   "source": [
    "Your friend is running out of memory. What kind of data structure is your friend using? Can you think of any less memory-intensive alternatives?"
   ]
  },
  {
   "cell_type": "markdown",
   "id": "1ecb7116-a2a9-4221-b7c2-2204027847bb",
   "metadata": {},
   "source": [
    "## Problem 4"
   ]
  },
  {
   "cell_type": "markdown",
   "id": "b97c099f-4c11-41be-b355-31eec6352d05",
   "metadata": {},
   "source": [
    "Now you get to look for an interesting dataset. Here are several good sites where you can find free data, but feel free to look elsewhere if you prefer:\n",
    "1. [Kaggle](https://www.kaggle.com/)\n",
    "2. [data.gov](https://data.gov/)\n",
    "3. [data.ct.gov](https://data.ct.gov/)"
   ]
  }
 ],
 "metadata": {
  "kernelspec": {
   "display_name": "Python 3.10.4 ('py310')",
   "language": "python",
   "name": "python3"
  },
  "language_info": {
   "codemirror_mode": {
    "name": "ipython",
    "version": 3
   },
   "file_extension": ".py",
   "mimetype": "text/x-python",
   "name": "python",
   "nbconvert_exporter": "python",
   "pygments_lexer": "ipython3",
   "version": "3.10.4"
  },
  "vscode": {
   "interpreter": {
    "hash": "ca74be6b167dbe912167896b2282f4a13c8d0f2de6efa02e772f8f846e4d15da"
   }
  }
 },
 "nbformat": 4,
 "nbformat_minor": 5
}
