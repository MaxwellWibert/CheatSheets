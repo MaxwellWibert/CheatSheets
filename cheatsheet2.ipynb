{
 "cells": [
  {
   "cell_type": "markdown",
   "id": "9c7d729d-a15a-4ca0-9058-ec73841f0070",
   "metadata": {},
   "source": [
    "# Assignment 2 Cheat Sheet"
   ]
  },
  {
   "cell_type": "markdown",
   "id": "4cb0e958-596f-4068-8853-3a6e24d350cf",
   "metadata": {},
   "source": [
    "## Problem 1\n",
    "### Parsing XML"
   ]
  },
  {
   "cell_type": "markdown",
   "id": "fb3f51ce-8cd9-4690-bf1e-0d3b6c948e84",
   "metadata": {},
   "source": [
    "Our first problem will require us to parse lots of data from an XML file. Let's start importing a tool from the xml module and loading some dummy data so we can practice parsing XML"
   ]
  },
  {
   "cell_type": "code",
   "execution_count": 28,
   "id": "92a91a6c-2429-4811-84c1-6715e538aaf4",
   "metadata": {},
   "outputs": [],
   "source": [
    "import xml.etree.ElementTree as ET\n",
    "from pprint import pprint as pp \n",
    "tree = ET.parse('./books.xml')\n",
    "root = tree.getroot()"
   ]
  },
  {
   "cell_type": "markdown",
   "id": "1282b286-6a61-4175-9314-65cdabeb8b5d",
   "metadata": {},
   "source": [
    "The first line in the cell above just imports the ElementTree module and saves it under the shortened alias, \"ET\". \n",
    "\n",
    "The second line imports the pretty print module as pp. This simply prints things in a more readable format than python's built in print function\n",
    "\n",
    "The third line will look for a file called \"books.xml\" in the same folder where this cheatsheet2.ipynb file is stored. If it finds such a file, the ET module will use that file to construct a document object model (DOM) that mirrors the structure of the XML file inside python. \n",
    "\n",
    "Often to navigate a DOM tree, it is easiest to start from the tree's root element and iteratively move to our current element's children until we find what we're looking for. Our fourth line just selects the root element of the DOM tree for this purpose. Let's poke around until we understand the basics of navigating our DOM tree. It helps to have the XML file open on the side as a roadmap"
   ]
  },
  {
   "cell_type": "code",
   "execution_count": 29,
   "id": "2adcd46c-5f08-4730-af89-20a0bdf1fa76",
   "metadata": {},
   "outputs": [
    {
     "name": "stdout",
     "output_type": "stream",
     "text": [
      "<Element 'catalog' at 0x7ff6b83e7590>\n"
     ]
    }
   ],
   "source": [
    "pp(root)"
   ]
  },
  {
   "cell_type": "markdown",
   "id": "38348e33-722f-43f5-b111-9a5f1adf9a60",
   "metadata": {},
   "source": [
    "As evidenced by the above cell, the root of our DOM tree corresponds to the catalog element. Referring to the xml file, we should expect that it has several chidren book elements, each with a unique id property. Each of those book elements has its own children corresponding to information related to that specific book. We can iterate over all the children of our root node (i.e. each book element) using a for loop:"
   ]
  },
  {
   "cell_type": "code",
   "execution_count": 30,
   "id": "6c325227-12ea-4ba8-b6e5-31ab49b5123b",
   "metadata": {},
   "outputs": [
    {
     "name": "stdout",
     "output_type": "stream",
     "text": [
      "<Element 'book' at 0x7ff6b8366e50>\n",
      "<Element 'book' at 0x7ff6b836a180>\n",
      "<Element 'book' at 0x7ff6b836a400>\n",
      "<Element 'book' at 0x7ff6b836a630>\n",
      "<Element 'book' at 0x7ff6b836a8b0>\n",
      "<Element 'book' at 0x7ff6b836ab80>\n",
      "<Element 'book' at 0x7ff6b836ae00>\n",
      "<Element 'book' at 0x7ff6b836e090>\n",
      "<Element 'book' at 0x7ff6b836e2c0>\n",
      "<Element 'book' at 0x7ff6b836e540>\n",
      "<Element 'book' at 0x7ff6b836e770>\n",
      "<Element 'book' at 0x7ff6b836ea40>\n"
     ]
    }
   ],
   "source": [
    "for child in root:\n",
    "    pp(child)"
   ]
  },
  {
   "cell_type": "markdown",
   "id": "1cd91b13-4a06-4b51-9f17-e1770fee91bc",
   "metadata": {},
   "source": [
    "We can access an individual child of a given element in several different ways:"
   ]
  },
  {
   "cell_type": "code",
   "execution_count": 31,
   "id": "bcb1f8f2-1f2c-4128-b629-81ea09260dbc",
   "metadata": {},
   "outputs": [
    {
     "name": "stdout",
     "output_type": "stream",
     "text": [
      "<Element 'book' at 0x7ff6b8366e50>\n"
     ]
    }
   ],
   "source": [
    "#Select the child by its index, similar to a python list\n",
    "book1 = root[0]\n",
    "pp(book1)"
   ]
  },
  {
   "cell_type": "code",
   "execution_count": 32,
   "id": "e91df408-663a-42b2-adc3-d891d1fe64fc",
   "metadata": {},
   "outputs": [
    {
     "name": "stdout",
     "output_type": "stream",
     "text": [
      "<Element 'author' at 0x7ff6b8366ea0>\n"
     ]
    }
   ],
   "source": [
    "#Select the child by using its tag name\n",
    "author1 = book1.find(\"author\") \n",
    "pp(author1)"
   ]
  },
  {
   "cell_type": "markdown",
   "id": "8fa6ddb1-d9cf-4d07-b134-390de9057ef8",
   "metadata": {},
   "source": [
    "Note that if book1 had multiple author tags inside it, the find method would only select the first matching tag amongst its children.\n",
    "We can also pull the text out from the inside of an element:"
   ]
  },
  {
   "cell_type": "code",
   "execution_count": 33,
   "id": "54d17fd8-1995-4f54-95e4-33894b6baa4a",
   "metadata": {},
   "outputs": [
    {
     "name": "stdout",
     "output_type": "stream",
     "text": [
      "'Gambardella, Matthew'\n"
     ]
    }
   ],
   "source": [
    "text1 = author1.text\n",
    "pp(text1)"
   ]
  },
  {
   "cell_type": "markdown",
   "id": "2ad49cf1-2a81-4e3e-918d-46536d1fd5d3",
   "metadata": {},
   "source": [
    "We can directly select grandchildren, great-grandchildren, etc. of a given element by specifying the path of that element relative to our current element:"
   ]
  },
  {
   "cell_type": "code",
   "execution_count": 34,
   "id": "3f37f7d9-2407-4321-8b24-ed7e3da43ac6",
   "metadata": {},
   "outputs": [
    {
     "name": "stdout",
     "output_type": "stream",
     "text": [
      "\"XML Developer's Guide\"\n"
     ]
    }
   ],
   "source": [
    "title1 = root.find('book/title')#finds a title element inside a book element inside root\n",
    "pp(title1.text)"
   ]
  },
  {
   "cell_type": "markdown",
   "id": "eeff66b0-53f6-40e8-8360-14bb39f6dc60",
   "metadata": {},
   "source": [
    "Suppose we'd like to get all the matching children from a search, rather than just the first one. We simply use the findall method instead:"
   ]
  },
  {
   "cell_type": "code",
   "execution_count": 35,
   "id": "f4d4b3f0-3fe3-479a-9b70-48f3d24496b1",
   "metadata": {},
   "outputs": [
    {
     "name": "stdout",
     "output_type": "stream",
     "text": [
      "[<Element 'book' at 0x7ff6b8366e50>,\n",
      " <Element 'book' at 0x7ff6b836a180>,\n",
      " <Element 'book' at 0x7ff6b836a400>,\n",
      " <Element 'book' at 0x7ff6b836a630>,\n",
      " <Element 'book' at 0x7ff6b836a8b0>,\n",
      " <Element 'book' at 0x7ff6b836ab80>,\n",
      " <Element 'book' at 0x7ff6b836ae00>,\n",
      " <Element 'book' at 0x7ff6b836e090>,\n",
      " <Element 'book' at 0x7ff6b836e2c0>,\n",
      " <Element 'book' at 0x7ff6b836e540>,\n",
      " <Element 'book' at 0x7ff6b836e770>,\n",
      " <Element 'book' at 0x7ff6b836ea40>]\n"
     ]
    }
   ],
   "source": [
    "books = root.findall('book')\n",
    "pp(books)"
   ]
  },
  {
   "cell_type": "markdown",
   "id": "53bf8b5c-744d-418b-b7ec-d7da99d82450",
   "metadata": {},
   "source": [
    "In just the same fashion, we can get all the descendents of an element with a given relationship to the current element using a path as our search query:"
   ]
  },
  {
   "cell_type": "code",
   "execution_count": 38,
   "id": "a34192d9-81bc-4952-9679-69b5ab3b9f8e",
   "metadata": {},
   "outputs": [
    {
     "name": "stdout",
     "output_type": "stream",
     "text": [
      "\"XML Developer's Guide\"\n",
      "'Midnight Rain'\n",
      "'Maeve Ascendant'\n",
      "\"Oberon's Legacy\"\n",
      "'The Sundered Grail'\n",
      "'Lover Birds'\n",
      "'Splish Splash'\n",
      "'Creepy Crawlies'\n",
      "'Paradox Lost'\n",
      "'Microsoft .NET: The Programming Bible'\n",
      "'MSXML3: A Comprehensive Guide'\n",
      "'Visual Studio 7: A Comprehensive Guide'\n"
     ]
    }
   ],
   "source": [
    "titles = root.findall('book/title')\n",
    "for title in titles:\n",
    "    pp(title.text)"
   ]
  },
  {
   "cell_type": "markdown",
   "id": "6658d237-356d-4971-be95-845e4651cfec",
   "metadata": {},
   "source": [
    "If our DOM is very large and complicated, it may not be practical to manually search through the whole tree. In such cases, it is useful to recursively search through all the subtrees under an element. This is handled automatically by the iter method, which will search for matches among an element's children, grandchildren, and so on:"
   ]
  },
  {
   "cell_type": "code",
   "execution_count": 39,
   "id": "8d0593f3-763e-466d-b8bc-135d3c8ab8b3",
   "metadata": {},
   "outputs": [
    {
     "name": "stdout",
     "output_type": "stream",
     "text": [
      "'44.95'\n",
      "'5.95'\n",
      "'5.95'\n",
      "'5.95'\n",
      "'5.95'\n",
      "'4.95'\n",
      "'4.95'\n",
      "'4.95'\n",
      "'6.95'\n",
      "'36.95'\n",
      "'36.95'\n",
      "'49.95'\n"
     ]
    }
   ],
   "source": [
    "for price in root.iter('price'):\n",
    "    pp(price.text)"
   ]
  },
  {
   "cell_type": "markdown",
   "id": "23a44c5f-7fa8-438d-b86e-c4e9b15a0f28",
   "metadata": {},
   "source": [
    "Now that we know how to extract data from an XML file, we can load this information into a pandas dataframe for analysis:"
   ]
  },
  {
   "cell_type": "code",
   "execution_count": 40,
   "id": "84e120ae-db6b-4a78-affd-404b8de7d3dc",
   "metadata": {},
   "outputs": [],
   "source": [
    "import pandas as pd"
   ]
  },
  {
   "cell_type": "code",
   "execution_count": 42,
   "id": "95edcb4f-d359-4104-ac54-89e0e96c0381",
   "metadata": {},
   "outputs": [],
   "source": [
    "book_data = []\n",
    "\n",
    "for book in root:\n",
    "    book_dict = {\n",
    "        'title': book.find('title').text,\n",
    "        'author': book.find('author').text,\n",
    "        'price': float(book.find('price').text)\n",
    "    }\n",
    "    book_data.append(book_dict)\n",
    "\n",
    "book_df = pd.DataFrame(book_data)"
   ]
  },
  {
   "cell_type": "code",
   "execution_count": 43,
   "id": "8888385b-14d1-4128-beb0-eb6f0fc19d2b",
   "metadata": {},
   "outputs": [],
   "source": [
    "book_df.head()"
   ]
  },
  {
   "cell_type": "markdown",
   "id": "d39e07f1-721e-4596-ae3b-b23b77615573",
   "metadata": {},
   "source": [
    "### Bisection (Binary) Search Review"
   ]
  },
  {
   "cell_type": "markdown",
   "id": "af9433e5-7f73-4936-a713-a1b986e9375e",
   "metadata": {},
   "source": [
    "You are also tasked with writing an algorithm that searches for a given value in a sorted list in $O(\\log n)$ time by using bisection. Let us quickly review how this algorithm works to help you on your way. "
   ]
  },
  {
   "cell_type": "markdown",
   "id": "7232b09d-d064-44ce-8eb8-d86e41bd0104",
   "metadata": {},
   "source": [
    "| index   | 0 | 1 | 2 | 3 | 4 | 5 | 6  | 7  | 8  | 9  | 10 |\n",
    "|---------|---|---|---|---|---|---|----|----|----|----|----|\n",
    "| value   | 1 | 1 | 2 | 3 | 5 | 8 | 13 | 21 | 34 | 55 | 89 |"
   ]
  },
  {
   "cell_type": "markdown",
   "id": "ad7eaf19-5868-43da-9ab1-7342e1ba709f",
   "metadata": {},
   "source": [
    "Suppose we have the above ordered list of natural numbers, and we'd like to find the location of the value 13. We can start by specifying the outer left and right indices, $L$ and $R$. Now take the midpoint between those two indices $M = [\\frac{(L + R)}2]$. These square brackets indicate you will have to round M to a whole number if $(L+R)$ is odd."
   ]
  },
  {
   "cell_type": "markdown",
   "id": "7572bef9-d5ba-4507-a293-b0d2b4ecf65c",
   "metadata": {},
   "source": [
    "| index   | 0 | 1 | 2 | 3 | 4 | 5 | 6  | 7  | 8  | 9  | 10 |\n",
    "|---------|---|---|---|---|---|---|----|----|----|----|----|\n",
    "| value   | 1 | 1 | 2 | 3 | 5 | 8 | 13 | 21 | 34 | 55 | 89 |\n",
    "| markers | L |   |   |   |   | M  |    |    |    |    | R  |"
   ]
  },
  {
   "cell_type": "markdown",
   "id": "226f5ce8-8239-46f8-83f9-23cbfc0c1b0b",
   "metadata": {},
   "source": [
    "As shown above, we calculate that $M=5$. We now compare the value at this midpoint, $8$, against our search value, $13$. Clearly $8 < 13$. Since the list is sorted, we know that all the values to the left of our midpoint index is smaller than $13$. Therefore, we exclude these values our future search by moving our left index $L$ to our current midpoint, $M$. Notice that we have just cut our search space **in half**. "
   ]
  },
  {
   "cell_type": "markdown",
   "id": "5425d65c-171b-4780-acab-e4ac37a22284",
   "metadata": {},
   "source": [
    "| index   | 0 | 1 | 2 | 3 | 4 | 5 | 6  | 7  | 8  | 9  | 10 |\n",
    "|---------|---|---|---|---|---|---|----|----|----|----|----|\n",
    "| value   | 1 | 1 | 2 | 3 | 5 | 8 | 13 | 21 | 34 | 55 | 89 |\n",
    "| markers |   |   |   |   |   | L  |    |    | M   |    | R  |"
   ]
  },
  {
   "cell_type": "markdown",
   "id": "9ccf3419-ed08-49ab-a4ae-3754b6fbe79e",
   "metadata": {},
   "source": [
    "Repeating the process above, we set the new $M$ to [$\\frac{(L+R)}2$]$=8$, rounding as necessary. The value at index $8$ is $34$, which is greater than our search value $13$. Again, since the list is sorted, we know all values to the right of $M$ are greater than 13, so we will exclude them from our future search by moving $R$ to our current $M$."
   ]
  },
  {
   "cell_type": "markdown",
   "id": "d3a81adc-aebf-4cfa-8dd2-e29d5886172d",
   "metadata": {},
   "source": [
    "| index   | 0 | 1 | 2 | 3 | 4 | 5 | 6  | 7  | 8  | 9  | 10 |\n",
    "|---------|---|---|---|---|---|---|----|----|----|----|----|\n",
    "| value   | 1 | 1 | 2 | 3 | 5 | 8 | 13 | 21 | 34 | 55 | 89 |\n",
    "| markers |   |   |   |   |   | L  |    |  M  | R   |    |  |"
   ]
  },
  {
   "cell_type": "markdown",
   "id": "9591e09d-919c-41e4-98af-fe665e3c2ee2",
   "metadata": {},
   "source": [
    "Again, we repeat from above. We set the new $M$ to [$\\frac{(L+R)}2$]$=7$. The value at index $M=7$ is $21$, which is greater than 13, so we exclude all values to the right of $M$ by moving $R$ to the current $M$."
   ]
  },
  {
   "cell_type": "markdown",
   "id": "6d6ed07c-b24d-45b3-bc2b-f5d2e7704331",
   "metadata": {},
   "source": [
    "| index   | 0 | 1 | 2 | 3 | 4 | 5 | 6  | 7  | 8  | 9  | 10 |\n",
    "|---------|---|---|---|---|---|---|----|----|----|----|----|\n",
    "| value   | 1 | 1 | 2 | 3 | 5 | 8 | 13 | 21 | 34 | 55 | 89 |\n",
    "| markers |   |   |   |   |   | L  |  M  |  R |    |    |  |"
   ]
  },
  {
   "cell_type": "markdown",
   "id": "4ababd85-dc98-4c32-b923-d713e645fe8f",
   "metadata": {},
   "source": [
    "Finally, we find that $M =$ [$\\frac{(L+R)}2$]$=6$. The value at the index $6$ is $13$, which matches our search value, so our search is done, and our algorithm should output the index $6$."
   ]
  },
  {
   "cell_type": "markdown",
   "id": "6c8af2a6-a584-4380-a68a-fa0d30ec7a1d",
   "metadata": {},
   "source": [
    "What do you do if the search value is nowhere to be found in the list? For example, if we had tried to find $15$ in the list above, the steps I have described would result in a neverending loop, so we must put in a safeguard that terminates the algorithm in case $L$ and $R$ are adjacent. For our purposes, it may be useful for the algorithm to output the final value of $\\frac{(L+R)}2$ (which is not an integer) to indicate that our search was unsuccessful, as well as to divide the list into values below and above our search value.\n",
    "\n",
    "Ask yourself, why does the above process only take $O(\\log n)$ time?"
   ]
  },
  {
   "cell_type": "markdown",
   "id": "479250f3-56b8-4cb6-a649-caee8cfffa1f",
   "metadata": {},
   "source": [
    "## Problem 2"
   ]
  },
  {
   "cell_type": "code",
   "execution_count": 44,
   "id": "b9a07346-4d2d-42b0-9cb6-3c77c65e8259",
   "metadata": {},
   "outputs": [],
   "source": [
    "#explore  SEQIO & Biopython"
   ]
  },
  {
   "cell_type": "markdown",
   "id": "8af2d110-d84b-4b99-8801-bf699e74b534",
   "metadata": {},
   "source": []
  },
  {
   "cell_type": "markdown",
   "id": "66271c1a-c8d6-4158-8039-b2c25ab5dbe7",
   "metadata": {},
   "source": []
  },
  {
   "cell_type": "markdown",
   "id": "ae9a1765-f4b0-4bc0-a26a-e07a9dd359d8",
   "metadata": {},
   "source": []
  },
  {
   "cell_type": "markdown",
   "id": "071eda6a-2115-496e-aa09-c5bc770942ef",
   "metadata": {},
   "source": []
  },
  {
   "cell_type": "code",
   "execution_count": 45,
   "id": "80aeeae4-a47f-4c53-a007-45a3299e23e9",
   "metadata": {},
   "outputs": [],
   "source": [
    "#Conceptual refresher on universal hash families"
   ]
  },
  {
   "cell_type": "code",
   "execution_count": null,
   "id": "1882cc3f-180b-4fd1-9c34-aa159057dec9",
   "metadata": {},
   "outputs": [],
   "source": []
  },
  {
   "cell_type": "markdown",
   "id": "ef56b863-e195-4026-a00b-49ce59230a8c",
   "metadata": {},
   "source": [
    "## Problem 3"
   ]
  },
  {
   "cell_type": "markdown",
   "id": "b23024b8-365a-49eb-b014-ec58bf01e67f",
   "metadata": {},
   "source": [
    "Your friend is running out of memory. What kind of data structure is your friend using? Can you think of any less memory-intensive alternatives?"
   ]
  },
  {
   "cell_type": "markdown",
   "id": "1ecb7116-a2a9-4221-b7c2-2204027847bb",
   "metadata": {},
   "source": [
    "## Problem 4"
   ]
  },
  {
   "cell_type": "markdown",
   "id": "b97c099f-4c11-41be-b355-31eec6352d05",
   "metadata": {},
   "source": [
    "Now you get to look for an interesting dataset. Here are several good sites where you can find free data, but feel free to look elsewhere if you prefer:\n",
    "1. [Kaggle](https://www.kaggle.com/)\n",
    "2. [data.gov](https://data.gov/)\n",
    "3. [data.ct.gov](https://data.ct.gov/)"
   ]
  }
 ],
 "metadata": {
  "kernelspec": {
   "display_name": "Python 3 (ipykernel)",
   "language": "python",
   "name": "python3"
  },
  "language_info": {
   "codemirror_mode": {
    "name": "ipython",
    "version": 3
   },
   "file_extension": ".py",
   "mimetype": "text/x-python",
   "name": "python",
   "nbconvert_exporter": "python",
   "pygments_lexer": "ipython3",
   "version": "3.9.7"
  }
 },
 "nbformat": 4,
 "nbformat_minor": 5
}
