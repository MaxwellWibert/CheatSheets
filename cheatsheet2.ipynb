{
 "cells": [
  {
   "cell_type": "markdown",
   "id": "9c7d729d-a15a-4ca0-9058-ec73841f0070",
   "metadata": {},
   "source": [
    "# Assignment 2 Cheat Sheet"
   ]
  },
  {
   "cell_type": "markdown",
   "id": "4cb0e958-596f-4068-8853-3a6e24d350cf",
   "metadata": {},
   "source": [
    "## Problem 1"
   ]
  },
  {
   "cell_type": "markdown",
   "id": "fb3f51ce-8cd9-4690-bf1e-0d3b6c948e84",
   "metadata": {},
   "source": [
    "Our first problem will require us to parse lots of data from an XML file. Let's start importing a tool from the xml module and loading some dummy data so we can practice parsing XML"
   ]
  },
  {
   "cell_type": "code",
   "execution_count": 28,
   "id": "92a91a6c-2429-4811-84c1-6715e538aaf4",
   "metadata": {},
   "outputs": [],
   "source": [
    "import xml.etree.ElementTree as ET\n",
    "from pprint import pprint as pp \n",
    "tree = ET.parse('./books.xml')\n",
    "root = tree.getroot()"
   ]
  },
  {
   "cell_type": "markdown",
   "id": "1282b286-6a61-4175-9314-65cdabeb8b5d",
   "metadata": {},
   "source": [
    "The first line in the cell above just imports the ElementTree module and saves it under the shortened alias, \"ET\". \n",
    "\n",
    "The second line imports the pretty print module as pp. This simply prints things in a more readable format than python's built in print function\n",
    "\n",
    "The third line will look for a file called \"books.xml\" in the same folder where this cheatsheet2.ipynb file is stored. If it finds such a file, the ET module will use that file to construct a document object model (DOM) that mirrors the structure of the XML file inside python. \n",
    "\n",
    "Often to navigate a DOM tree, it is easiest to start from the tree's root element and iteratively move to our current element's children until we find what we're looking for. Our fourth line just selects the root element of the DOM tree for this purpose. Let's poke around until we understand the basics of navigating our DOM tree. It helps to have the XML file open on the side as a roadmap"
   ]
  },
  {
   "cell_type": "code",
   "execution_count": 29,
   "id": "2adcd46c-5f08-4730-af89-20a0bdf1fa76",
   "metadata": {},
   "outputs": [
    {
     "name": "stdout",
     "output_type": "stream",
     "text": [
      "<Element 'catalog' at 0x7ff6b83e7590>\n"
     ]
    }
   ],
   "source": [
    "pp(root)"
   ]
  },
  {
   "cell_type": "markdown",
   "id": "38348e33-722f-43f5-b111-9a5f1adf9a60",
   "metadata": {},
   "source": [
    "As evidenced by the above cell, the root of our DOM tree corresponds to the catalog element. Referring to the xml file, we should expect that it has several chidren book elements, each with a unique id property. Each of those book elements has its own children corresponding to information related to that specific book. We can iterate over all the children of our root node (i.e. each book element) using a for loop:"
   ]
  },
  {
   "cell_type": "code",
   "execution_count": 30,
   "id": "6c325227-12ea-4ba8-b6e5-31ab49b5123b",
   "metadata": {},
   "outputs": [
    {
     "name": "stdout",
     "output_type": "stream",
     "text": [
      "<Element 'book' at 0x7ff6b8366e50>\n",
      "<Element 'book' at 0x7ff6b836a180>\n",
      "<Element 'book' at 0x7ff6b836a400>\n",
      "<Element 'book' at 0x7ff6b836a630>\n",
      "<Element 'book' at 0x7ff6b836a8b0>\n",
      "<Element 'book' at 0x7ff6b836ab80>\n",
      "<Element 'book' at 0x7ff6b836ae00>\n",
      "<Element 'book' at 0x7ff6b836e090>\n",
      "<Element 'book' at 0x7ff6b836e2c0>\n",
      "<Element 'book' at 0x7ff6b836e540>\n",
      "<Element 'book' at 0x7ff6b836e770>\n",
      "<Element 'book' at 0x7ff6b836ea40>\n"
     ]
    }
   ],
   "source": [
    "for child in root:\n",
    "    pp(child)"
   ]
  },
  {
   "cell_type": "markdown",
   "id": "1cd91b13-4a06-4b51-9f17-e1770fee91bc",
   "metadata": {},
   "source": [
    "We can access an individual child of a given element in several different ways:"
   ]
  },
  {
   "cell_type": "code",
   "execution_count": 31,
   "id": "bcb1f8f2-1f2c-4128-b629-81ea09260dbc",
   "metadata": {},
   "outputs": [
    {
     "name": "stdout",
     "output_type": "stream",
     "text": [
      "<Element 'book' at 0x7ff6b8366e50>\n"
     ]
    }
   ],
   "source": [
    "#Select the child by its index, similar to a python list\n",
    "book1 = root[0]\n",
    "pp(book1)"
   ]
  },
  {
   "cell_type": "code",
   "execution_count": 32,
   "id": "e91df408-663a-42b2-adc3-d891d1fe64fc",
   "metadata": {},
   "outputs": [
    {
     "name": "stdout",
     "output_type": "stream",
     "text": [
      "<Element 'author' at 0x7ff6b8366ea0>\n"
     ]
    }
   ],
   "source": [
    "#Select the child by using its tag name\n",
    "author1 = book1.find(\"author\") \n",
    "pp(author1)"
   ]
  },
  {
   "cell_type": "markdown",
   "id": "8fa6ddb1-d9cf-4d07-b134-390de9057ef8",
   "metadata": {},
   "source": [
    "Note that if book1 had multiple author tags inside it, the find method would only select the first matching tag amongst its children.\n",
    "We can also pull the text out from the inside of an element:"
   ]
  },
  {
   "cell_type": "code",
   "execution_count": 33,
   "id": "54d17fd8-1995-4f54-95e4-33894b6baa4a",
   "metadata": {},
   "outputs": [
    {
     "name": "stdout",
     "output_type": "stream",
     "text": [
      "'Gambardella, Matthew'\n"
     ]
    }
   ],
   "source": [
    "text1 = author1.text\n",
    "pp(text1)"
   ]
  },
  {
   "cell_type": "markdown",
   "id": "2ad49cf1-2a81-4e3e-918d-46536d1fd5d3",
   "metadata": {},
   "source": [
    "We can directly select grandchildren, great-grandchildren, etc. of a given element by specifying the path of that element relative to our current element:"
   ]
  },
  {
   "cell_type": "code",
   "execution_count": 34,
   "id": "3f37f7d9-2407-4321-8b24-ed7e3da43ac6",
   "metadata": {},
   "outputs": [
    {
     "name": "stdout",
     "output_type": "stream",
     "text": [
      "\"XML Developer's Guide\"\n"
     ]
    }
   ],
   "source": [
    "title1 = root.find('book/title')#finds a title element inside a book element inside root\n",
    "pp(title1.text)"
   ]
  },
  {
   "cell_type": "markdown",
   "id": "eeff66b0-53f6-40e8-8360-14bb39f6dc60",
   "metadata": {},
   "source": [
    "Suppose we'd like to get all the matching children from a search, rather than just the first one. We simply use the findall method instead:"
   ]
  },
  {
   "cell_type": "code",
   "execution_count": 35,
   "id": "f4d4b3f0-3fe3-479a-9b70-48f3d24496b1",
   "metadata": {},
   "outputs": [
    {
     "name": "stdout",
     "output_type": "stream",
     "text": [
      "[<Element 'book' at 0x7ff6b8366e50>,\n",
      " <Element 'book' at 0x7ff6b836a180>,\n",
      " <Element 'book' at 0x7ff6b836a400>,\n",
      " <Element 'book' at 0x7ff6b836a630>,\n",
      " <Element 'book' at 0x7ff6b836a8b0>,\n",
      " <Element 'book' at 0x7ff6b836ab80>,\n",
      " <Element 'book' at 0x7ff6b836ae00>,\n",
      " <Element 'book' at 0x7ff6b836e090>,\n",
      " <Element 'book' at 0x7ff6b836e2c0>,\n",
      " <Element 'book' at 0x7ff6b836e540>,\n",
      " <Element 'book' at 0x7ff6b836e770>,\n",
      " <Element 'book' at 0x7ff6b836ea40>]\n"
     ]
    }
   ],
   "source": [
    "books = root.findall('book')\n",
    "pp(books)"
   ]
  },
  {
   "cell_type": "markdown",
   "id": "53bf8b5c-744d-418b-b7ec-d7da99d82450",
   "metadata": {},
   "source": [
    "In just the same fashion, we can get all the descendents of an element with a given relationship to the current element using a path as our search query:"
   ]
  },
  {
   "cell_type": "code",
   "execution_count": 38,
   "id": "a34192d9-81bc-4952-9679-69b5ab3b9f8e",
   "metadata": {},
   "outputs": [
    {
     "name": "stdout",
     "output_type": "stream",
     "text": [
      "\"XML Developer's Guide\"\n",
      "'Midnight Rain'\n",
      "'Maeve Ascendant'\n",
      "\"Oberon's Legacy\"\n",
      "'The Sundered Grail'\n",
      "'Lover Birds'\n",
      "'Splish Splash'\n",
      "'Creepy Crawlies'\n",
      "'Paradox Lost'\n",
      "'Microsoft .NET: The Programming Bible'\n",
      "'MSXML3: A Comprehensive Guide'\n",
      "'Visual Studio 7: A Comprehensive Guide'\n"
     ]
    }
   ],
   "source": [
    "titles = root.findall('book/title')\n",
    "for title in titles:\n",
    "    pp(title.text)"
   ]
  },
  {
   "cell_type": "markdown",
   "id": "6658d237-356d-4971-be95-845e4651cfec",
   "metadata": {},
   "source": [
    "If our DOM is very large and complicated, it may not be practical to manually search through the whole tree. In such cases, it is useful to recursively search through all the subtrees under an element. This is handled automatically by the iter method, which will search for matches among an element's children, grandchildren, and so on:"
   ]
  },
  {
   "cell_type": "code",
   "execution_count": 39,
   "id": "8d0593f3-763e-466d-b8bc-135d3c8ab8b3",
   "metadata": {},
   "outputs": [
    {
     "name": "stdout",
     "output_type": "stream",
     "text": [
      "'44.95'\n",
      "'5.95'\n",
      "'5.95'\n",
      "'5.95'\n",
      "'5.95'\n",
      "'4.95'\n",
      "'4.95'\n",
      "'4.95'\n",
      "'6.95'\n",
      "'36.95'\n",
      "'36.95'\n",
      "'49.95'\n"
     ]
    }
   ],
   "source": [
    "for price in root.iter('price'):\n",
    "    pp(price.text)"
   ]
  },
  {
   "cell_type": "markdown",
   "id": "23a44c5f-7fa8-438d-b86e-c4e9b15a0f28",
   "metadata": {},
   "source": [
    "Now that we know how to extract data from an XML file, we can load this information into a pandas dataframe for analysis:"
   ]
  },
  {
   "cell_type": "code",
   "execution_count": 40,
   "id": "84e120ae-db6b-4a78-affd-404b8de7d3dc",
   "metadata": {},
   "outputs": [],
   "source": [
    "import pandas as pd"
   ]
  },
  {
   "cell_type": "code",
   "execution_count": 42,
   "id": "95edcb4f-d359-4104-ac54-89e0e96c0381",
   "metadata": {},
   "outputs": [],
   "source": [
    "book_data = []\n",
    "\n",
    "for book in root:\n",
    "    book_dict = {\n",
    "        'title': book.find('title').text,\n",
    "        'author': book.find('author').text,\n",
    "        'price': float(book.find('price').text)\n",
    "    }\n",
    "    book_data.append(book_dict)\n",
    "\n",
    "book_df = pd.DataFrame(book_data)"
   ]
  },
  {
   "cell_type": "code",
   "execution_count": 43,
   "id": "2a16fa88-4303-40fa-b0af-9726fe7850ca",
   "metadata": {},
   "outputs": [
    {
     "data": {
      "text/html": [
       "<div>\n",
       "<style scoped>\n",
       "    .dataframe tbody tr th:only-of-type {\n",
       "        vertical-align: middle;\n",
       "    }\n",
       "\n",
       "    .dataframe tbody tr th {\n",
       "        vertical-align: top;\n",
       "    }\n",
       "\n",
       "    .dataframe thead th {\n",
       "        text-align: right;\n",
       "    }\n",
       "</style>\n",
       "<table border=\"1\" class=\"dataframe\">\n",
       "  <thead>\n",
       "    <tr style=\"text-align: right;\">\n",
       "      <th></th>\n",
       "      <th>title</th>\n",
       "      <th>author</th>\n",
       "      <th>price</th>\n",
       "    </tr>\n",
       "  </thead>\n",
       "  <tbody>\n",
       "    <tr>\n",
       "      <th>0</th>\n",
       "      <td>XML Developer's Guide</td>\n",
       "      <td>Gambardella, Matthew</td>\n",
       "      <td>44.95</td>\n",
       "    </tr>\n",
       "    <tr>\n",
       "      <th>1</th>\n",
       "      <td>Midnight Rain</td>\n",
       "      <td>Ralls, Kim</td>\n",
       "      <td>5.95</td>\n",
       "    </tr>\n",
       "    <tr>\n",
       "      <th>2</th>\n",
       "      <td>Maeve Ascendant</td>\n",
       "      <td>Corets, Eva</td>\n",
       "      <td>5.95</td>\n",
       "    </tr>\n",
       "    <tr>\n",
       "      <th>3</th>\n",
       "      <td>Oberon's Legacy</td>\n",
       "      <td>Corets, Eva</td>\n",
       "      <td>5.95</td>\n",
       "    </tr>\n",
       "    <tr>\n",
       "      <th>4</th>\n",
       "      <td>The Sundered Grail</td>\n",
       "      <td>Corets, Eva</td>\n",
       "      <td>5.95</td>\n",
       "    </tr>\n",
       "  </tbody>\n",
       "</table>\n",
       "</div>"
      ],
      "text/plain": [
       "                   title                author  price\n",
       "0  XML Developer's Guide  Gambardella, Matthew  44.95\n",
       "1          Midnight Rain            Ralls, Kim   5.95\n",
       "2        Maeve Ascendant           Corets, Eva   5.95\n",
       "3        Oberon's Legacy           Corets, Eva   5.95\n",
       "4     The Sundered Grail           Corets, Eva   5.95"
      ]
     },
     "execution_count": 43,
     "metadata": {},
     "output_type": "execute_result"
    }
   ],
   "source": [
    "book_df.head()"
   ]
  },
  {
   "cell_type": "markdown",
   "id": "479250f3-56b8-4cb6-a649-caee8cfffa1f",
   "metadata": {},
   "source": [
    "## Problem 2"
   ]
  },
  {
   "cell_type": "code",
   "execution_count": null,
   "id": "569ea349-ca08-4744-be43-018bac06ab11",
   "metadata": {},
   "outputs": [],
   "source": []
  }
 ],
 "metadata": {
  "kernelspec": {
   "display_name": "Python 3 (ipykernel)",
   "language": "python",
   "name": "python3"
  },
  "language_info": {
   "codemirror_mode": {
    "name": "ipython",
    "version": 3
   },
   "file_extension": ".py",
   "mimetype": "text/x-python",
   "name": "python",
   "nbconvert_exporter": "python",
   "pygments_lexer": "ipython3",
   "version": "3.9.7"
  }
 },
 "nbformat": 4,
 "nbformat_minor": 5
}
