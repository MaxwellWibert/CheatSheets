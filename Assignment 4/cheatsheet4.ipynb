{
 "cells": [
  {
   "cell_type": "markdown",
   "id": "49f0e16f-b3cb-483f-9347-537c78989c9c",
   "metadata": {},
   "source": [
    "# Cheat Sheet 4"
   ]
  },
  {
   "cell_type": "markdown",
   "id": "9b0225fa-f67d-4c6e-b675-e915c6259bd7",
   "metadata": {},
   "source": [
    "## Exercise 1\n",
    "In this exercise, you are tasked with implementing a 2-dimensional gradient descent algorithm where the loss function is not explicitly known Our loss function is a black box to us-- we are allowed to hand it some inputs as parameters to an API call, and it sends us back an output, but we are not privy to its internal mechanisms, so we cannot explictly take its gradient.\n",
    "\n"
   ]
  },
  {
   "cell_type": "markdown",
   "id": "b5b74bff-09d6-4647-bee5-41d1dad66097",
   "metadata": {},
   "source": [
    "Let us briefly review gradient descent on a conceptual level. Here is the gist of a 2-d gradient descent algorithm,\n",
    "1. Specify an initial set of input parameters: \n",
    "    - e.g. $(a,b) = (0.5, 0.5)$\n",
    "2. Caclulate the gradient (i.e. direction of steepest ascent) of the loss function at those input parameters\n",
    "    - Find the value of $\\nabla f(a,b)$\n",
    "3. Move (a,b) a small step in the opposite direction of the gradient, since this is the direction of steepest descent\n",
    "    - Replace $(a,b)$ with $(a,b) - \\varepsilon \\nabla f(a,b)$ for some small positive scalar $\\varepsilon$\n",
    "4. Rinse and repeat steps 2 & 3 until $f(a,b)$ converges."
   ]
  },
  {
   "cell_type": "markdown",
   "id": "440d3c5c-ed95-4317-bdb1-e95027265643",
   "metadata": {},
   "source": [
    "![Gradient Descent](./Gradient_descent.png)\n",
    "[image source](https://en.wikipedia.org/wiki/Gradient_descent#/media/File:Gradient_descent.svg)"
   ]
  },
  {
   "cell_type": "markdown",
   "id": "65838638-3756-41d9-bd8d-27cc5143440f",
   "metadata": {},
   "source": [
    "The only added difficulty we face is in step 2. We need to somehow approximate the gradient based on function values alone. A bit of math should be able to help us in this endeavor. Recall the following formula for the gradient:"
   ]
  },
  {
   "cell_type": "markdown",
   "id": "bc2aa91d-a64b-4703-8f2f-4e4d2fa22939",
   "metadata": {},
   "source": [
    "$\\displaystyle \\nabla f(a,b) = \\frac{\\partial f}{\\partial x} (a,b) \\hat i + \\frac{\\partial f}{\\partial y} (a,b) \\hat j$, where $\\hat i$ and $\\hat j$ are the unit vectors in the positive $x$ and $y$ directions respectively. "
   ]
  },
  {
   "cell_type": "markdown",
   "id": "c3feb5d5-eaf4-4dbf-9bc0-d580ef55f726",
   "metadata": {},
   "source": [
    "This formula tells us that the partial derivatives $\\displaystyle \\frac{\\partial f}{\\partial x} (a,b)$ and $\\displaystyle \\frac{\\partial f}{\\partial x} (a,b)$ in the x and y directions uniquely determine the direction of steepest ascent. These partial derivatives can be computed as follows:"
   ]
  },
  {
   "cell_type": "markdown",
   "id": "ee622329-69f1-446f-a3ae-c2f6edcd34e7",
   "metadata": {},
   "source": [
    "$\\displaystyle \\frac{\\partial f}{\\partial x} (a,b) := \\lim_{h\\to 0} \\frac{f(a+h,b) - f(a,b)}{h}$\n",
    "\n",
    "$\\displaystyle \\frac{\\partial f}{\\partial y} (a,b) := \\lim_{h\\to 0} \\frac{f(a,b+h) - f(a,b)}{h}$"
   ]
  },
  {
   "cell_type": "markdown",
   "id": "d5ffacc7-9c49-4a0a-aaba-a46800707453",
   "metadata": {},
   "source": [
    "Let us focus on the first definition, as the second one follows essentially the same logic.\n",
    "\n",
    "The numerator of the fraction inside the limit, $\\displaystyle f(a+h,b) - f(a,b)$, tells us how much the function $f$ increases or decreases when our input makes small step of size $h$ to the right (in the positive $x$ direction) from our input $(a,b)$. In other words, this is the **rise** as we take a step to the right.\n",
    "\n",
    "The denominator of that same fraction $h$ is simply the size of the step our input has taken. In other words, this is the **run** of that step to the right. \n",
    "\n",
    "As we all learned in basic algebra, slope = rise/run. So the fraction inside the limit is the slope of that small step. As $h\\to 0$, our step gets smaller and smaller, so the fraction becomes a better and better approximation of the slope in the $x$ direction at the point $(a,b)$. \n",
    "\n",
    "Thus, if we take a suffiently small value of $h$, we get the following approximation:\n",
    "\n",
    "$\\displaystyle \\frac{\\partial f}{\\partial x} (a,b) \\approx \\frac{f(a+h,b) - f(a,b)}{h}$"
   ]
  },
  {
   "cell_type": "markdown",
   "id": "dcadf5a5-6d12-4a6f-b525-f2a16d6cd482",
   "metadata": {},
   "source": [
    "By the same reasoning, for a sufficiently small value of $h$, we also get an approximation for the partial derivative in the $y$ direction \n",
    "\n",
    "$\\displaystyle \\frac{\\partial f}{\\partial y} (a,b) \\approx \\frac{f(a,b+h) - f(a,b)}{h}$."
   ]
  },
  {
   "cell_type": "markdown",
   "id": "28a1071e-ebca-4b5c-9435-c7c1bea1966e",
   "metadata": {},
   "source": [
    "Notice that both of these approximations only require us to know a few function values, which we can easily query from the API. Thus we can at last get an approximation of the gradient:\n",
    "\n",
    "$\\displaystyle \\nabla f(a,b) \\approx \\frac{f(a+h,b) - f(a,b)}{h} \\hat i + \\frac{f(a,b+h) - f(a,b)}{h} \\hat j$, for a small value of $h$."
   ]
  },
  {
   "cell_type": "markdown",
   "id": "ce6931a9-60d9-4109-9b66-24ae783ed18b",
   "metadata": {},
   "source": [
    "## Exercise 2"
   ]
  },
  {
   "cell_type": "markdown",
   "id": "8ee5115e-5476-436c-983d-9491f727a504",
   "metadata": {},
   "source": [
    "In this exercise, we are tasked with modifying Professor McDougal's implementation of the k-means clustering algorithm to work on geographical data (coordinates on a sphere, rather than a plane). Let's start by reviewing his original code to make sense of what's happening at each step."
   ]
  },
  {
   "cell_type": "markdown",
   "id": "0f8eccb5-bfba-4f68-82c0-5e7258632ba9",
   "metadata": {},
   "source": [
    "First, the we import the external tools that we need:"
   ]
  },
  {
   "cell_type": "code",
   "execution_count": 1,
   "id": "4472ce35-f70b-4d68-932f-bf0d63d9e383",
   "metadata": {},
   "outputs": [],
   "source": [
    "import pandas as pd\n",
    "import plotnine as p9\n",
    "import random\n",
    "import numpy as np"
   ]
  },
  {
   "cell_type": "markdown",
   "id": "e72ffa08-4bce-4629-ad55-5388e149794d",
   "metadata": {},
   "source": [
    "Then we get some data to run our algorithm on and load it into a dataframe:"
   ]
  },
  {
   "cell_type": "code",
   "execution_count": 2,
   "id": "bd8fe134-332b-46e2-bc65-6635ace4c0c6",
   "metadata": {},
   "outputs": [],
   "source": [
    "df = pd.read_csv('https://gist.githubusercontent.com/netj/8836201/raw/iris.csv')"
   ]
  },
  {
   "cell_type": "markdown",
   "id": "cef1ee36-f8ee-42d7-be4a-44bbedd74c45",
   "metadata": {},
   "source": [
    "The k-means algorithm works much better if the data is not stretched out in any particular direction, so we write a normalizing function:"
   ]
  },
  {
   "cell_type": "code",
   "execution_count": 3,
   "id": "011c11d3-9431-4ef2-bd8c-66662a8e9ffb",
   "metadata": {},
   "outputs": [],
   "source": [
    "def normalize(series):\n",
    "    return (series - series.mean()) / series.std()"
   ]
  },
  {
   "cell_type": "markdown",
   "id": "be346e5a-58a3-4620-ac43-c4ac395a8527",
   "metadata": {},
   "source": [
    "This function moves the series so that it is centered at 0, then scales each value in the series so that its standard deviation is 1.\n",
    "Using this function, we normalize two series from our dataframe:"
   ]
  },
  {
   "cell_type": "code",
   "execution_count": 4,
   "id": "50b987c0-fd6c-44d7-b93c-f00d527b0d00",
   "metadata": {},
   "outputs": [],
   "source": [
    "df['petal.length.normalized'] = normalize(df['petal.length'])\n",
    "df['petal.width.normalized'] = normalize(df['petal.width'])"
   ]
  },
  {
   "cell_type": "markdown",
   "id": "a11ef07e-d853-439f-a23b-32e44e4a59d2",
   "metadata": {},
   "source": [
    "Since we have normalized both of these series, we have effectively centered our dataset at the origin, then squished/stretched it so that it has unit standard deviation both horizontally and vertically."
   ]
  },
  {
   "cell_type": "markdown",
   "id": "799d48f3-4155-4973-8aa7-659c978b4e66",
   "metadata": {},
   "source": [
    "Our final step in preparation is to specify the inputs and parameters of our algorithm:"
   ]
  },
  {
   "cell_type": "code",
   "execution_count": 34,
   "id": "af5410ec-0687-4f52-9565-712688388097",
   "metadata": {},
   "outputs": [],
   "source": [
    "k = 3\n",
    "pts = [np.array(pt) for pt in zip(df['petal.length.normalized'], df['petal.width.normalized'])]"
   ]
  },
  {
   "cell_type": "markdown",
   "id": "f15e1c40-1750-4c54-a99d-f4083f51c297",
   "metadata": {},
   "source": [
    "Here, the parameter `k=3` is the number of clusters we have (arbitrarily) chosen to categorize our data into, and the input `pts` is a list of numpy arrays encoding the coordinates for each point."
   ]
  },
  {
   "cell_type": "markdown",
   "id": "ab9590b5-d275-4cfe-81b2-0acc74fe8794",
   "metadata": {},
   "source": [
    "Now our algorithm begins in earnest. We start by initializing our clusters to have random centers and to contain no points:"
   ]
  },
  {
   "cell_type": "code",
   "execution_count": 35,
   "id": "2f9f55ad-e6fa-4fbe-abf4-07157998e32f",
   "metadata": {},
   "outputs": [],
   "source": [
    "centers = random.sample(pts, k)\n",
    "old_cluster_ids, cluster_ids = None, [] # arbitrary but different"
   ]
  },
  {
   "cell_type": "markdown",
   "id": "53b2f574-bf4e-42cf-88b6-1ccb1a2156aa",
   "metadata": {},
   "source": [
    "In each run through the following loop, we will iteratively update these clusters by changing the location of their centers. The points will then be reclassified to whichever cluster has the closest center. The algorithm terminates when all the points fail to move between clusters in a single run through the loop:"
   ]
  },
  {
   "cell_type": "code",
   "execution_count": 71,
   "id": "bd09bbdb-17a2-4ffe-badb-e1afec2945f6",
   "metadata": {},
   "outputs": [],
   "source": [
    "while cluster_ids != old_cluster_ids: #### change to do while?\n",
    "    old_cluster_ids = list(cluster_ids)\n",
    "    cluster_ids = []\n",
    "    for pt in pts:\n",
    "        min_cluster = -1\n",
    "        min_dist = float('inf')\n",
    "        for i, center in enumerate(centers):\n",
    "            dist = np.linalg.norm(pt - center)\n",
    "            if dist < min_dist:\n",
    "                min_cluster = i\n",
    "                min_dist = dist\n",
    "        cluster_ids.append(min_cluster)\n",
    "    df['cluster'] = cluster_ids\n",
    "    df['cluster'] = df['cluster'].astype('category')\n",
    "    cluster_pts = [[pt for pt, cluster in zip(pts, cluster_ids) if cluster == match]\n",
    "                    for match in range(k)]\n",
    "    centers = [sum(pts)/len(pts) for pts in cluster_pts]\n",
    "    (p9.ggplot(df, p9.aes(x=\"petal.length.normalized\", y=\"petal.width.normalized\", color=\"cluster\")) + p9.geom_point()).draw()"
   ]
  },
  {
   "cell_type": "markdown",
   "id": "f36c3897-6330-4d2c-96a0-60e7f3f85631",
   "metadata": {},
   "source": [
    "Pay special attention to the following block of code:"
   ]
  },
  {
   "cell_type": "markdown",
   "id": "58bef85b-2a9b-4e90-bcc2-bb99c645755a",
   "metadata": {},
   "source": [
    "``` python\n",
    "for i, center in enumerate(centers):\n",
    "    dist = np.linalg.norm(pt - center)\n",
    "    if dist < min_dist:\n",
    "        min_cluster = i\n",
    "        min_dist = dist\n",
    "    cluster_ids.append(min_cluster)\n",
    "```"
   ]
  },
  {
   "cell_type": "markdown",
   "id": "b4c0d1b5-a09f-49d6-8b53-2418c56462b6",
   "metadata": {},
   "source": [
    "In the second line, we are using the euclidian norm of $pt - center$ to determine the distance between that point and that cluster's center. It is precisely this distance function that determines which cluster's center is closest, and therefore which cluster the point will end up in the next run through the loop. This works perfectly well when our points are in euclidian space, as is the case with the above dataset. If, however, our points are in some other type of space, we need to use a different metric to determine the distance between a given point and a given cluster center. In this exercise your data lives on a sphere, so you should use the haversine metric. You can find an implementation of the haversine metric in the accepted answer to this [stack overflow question](https://stackoverflow.com/questions/4913349/haversine-formula-in-python-bearing-and-distance-between-two-gps-points)."
   ]
  },
  {
   "cell_type": "markdown",
   "id": "d51e2e7b-f63c-43eb-9ea3-6a02f6b24232",
   "metadata": {},
   "source": [
    "Also pay attention to the following line of code from the algorithm:"
   ]
  },
  {
   "cell_type": "markdown",
   "id": "4817f80f-6d4e-4f92-aef9-14d43d6d9881",
   "metadata": {},
   "source": [
    "```python\n",
    "centers = [sum(pts)/len(pts) for pts in cluster_pts]\n",
    "```"
   ]
  },
  {
   "cell_type": "markdown",
   "id": "b383f007-8483-4962-ae0c-3091a27351af",
   "metadata": {},
   "source": [
    "This line of code updates the locations \"center\" of each cluster to be at the center of mass (or more formally, the centroid) of all that cluster's points. Again, this is applicable in euclidian space, but fails to apply for other types of spaces. To illustrate this, suppose we have 2 points, A & B, on the equator of the earth: one at longitude $160^{\\circ}$, and one at longitude $-160^{\\circ}$. We would intuitively expect that the \"center\" between these points will be the midpoint on the shortest between A & B arc $\\widehat{AB}$, but the euclidean centroid will give us the point D at $(lat,long)=(0,0)$, on the opposite side of the planet from our intuition."
   ]
  },
  {
   "cell_type": "code",
   "execution_count": 70,
   "id": "43a47d93-bbc4-4e34-ac37-6adf9581ab2b",
   "metadata": {},
   "outputs": [
    {
     "data": {
      "image/png": "[encoded data removed]",
      "text/plain": [
       "<Figure size 432x288 with 1 Axes>"
      ]
     },
     "metadata": {
      "needs_background": "light"
     },
     "output_type": "display_data"
    },
    {
     "data": {
      "text/plain": [
       "<Figure size 432x288 with 0 Axes>"
      ]
     },
     "metadata": {},
     "output_type": "display_data"
    }
   ],
   "source": [
    "import cartopy.crs as ccrs\n",
    "import matplotlib.pyplot as plt\n",
    "fig = plt.figure()\n",
    "ax = fig.add_subplot(1, 1, 1, projection=ccrs.Robinson())\n",
    "A = ['A', 0, -160]\n",
    "B = ['B', 0, 160]\n",
    "C = ['Center', 0, 175] #should be [0, 180], but plot cuts off at edges\n",
    "D = ['(A+B)/2', 0, 0]\n",
    "\n",
    "pt_data = [A, B, C, D]\n",
    "lats = [pt[1] for pt in pt_data]\n",
    "lngs = [pt[2] for pt in pt_data]\n",
    "\n",
    "\n",
    "\n",
    "for name, lng, lat in pt_data:\n",
    "    plt.plot(lng, lat, marker='o', markersize=7.0, markeredgewidth=2.5,\n",
    "                 markerfacecolor='red', markeredgecolor='white',\n",
    "                 transform=ccrs.Robinson())\n",
    "    at_x, at_y = ax.projection.transform_point(lng, lat, src_crs=ccrs.Robinson())\n",
    "    plt.annotate(\n",
    "        name, xy=(at_x, at_y), xytext=(30, 20), textcoords='offset points',\n",
    "        color='black', backgroundcolor='grey', size='medium',\n",
    "        arrowprops=dict(arrowstyle='->', color='black', linewidth=2.5))\n",
    "    at_x, at_y = ax.projection.transform_point(lng, lat, src_crs=ccrs.PlateCarree())\n",
    "    #ax.annotate(name, xy=(at_x, at_y), transform=ccrs.PlateCarree())\n",
    "ax.coastlines()\n",
    "ax.plot(lngs, lats, marker=\"o\", color=\"red\", transform=ccrs.PlateCarree(), linestyle='None')\n",
    "\n",
    "ax.set_extent([-180, 180, -90, 90], crs=ccrs.PlateCarree())\n",
    "\n",
    "plt.show()\n",
    "plt.savefig('euclidean_avg_sphere', format='png')\n",
    "#fix centroid https://stackoverflow.com/questions/37885798/how-to-calculate-the-midpoint-of-several-geolocations-in-python"
   ]
  },
  {
   "cell_type": "markdown",
   "id": "c9c1c61e-14aa-4f36-a0d8-0479d54204a1",
   "metadata": {},
   "source": [
    "How are we to fix this problem? Here's one solution:\n",
    "1. Embed our points into a unit sphere in 3-dimensional euclidean space using a coordinate transformation, $\\displaystyle v = (x,y,z) = T(lat,long)$.\n",
    "    - $\\displaystyle\\hat v_i = (x_i, y_i, z_i) = T(lat_i, long_i)$\n",
    "2. Treat each embedded data point as a vector, pointing from the origin $(0,0,0)$ to that embedded point.\n",
    "3. Add up all of these vectors using element-wise addition to get some total sum vector, $S$\n",
    "    - $\\displaystyle S = \\hat v_1 + \\hat v_2 + \\ldots + \\hat v_n$\n",
    "    - where the sum of $\\displaystyle v = (x, y, z)$ and $\\displaystyle u = (a, b, c)$ is given by $\\displaystyle v + u = (x+a, y+b, z + c)$\n",
    "4. Normalize this sum vector by dividing by its euclidean length to get a vector $\\displaystyle \\hat S$ that lies on the unit sphere:\n",
    "    - $\\displaystyle \\hat S = \\frac{S}{|S|}$\n"
   ]
  },
  {
   "cell_type": "markdown",
   "id": "03c23cde-a598-42db-8043-4eca65290fa5",
   "metadata": {},
   "source": [
    "5. Use the inverse $T^{-1}$ of the coordinate transformation from step 1 to take our normalized vector $\\hat S$ back to our original coordinate system:\n",
    "    - $\\displaystyle (lat_{center}, long_{center}) = T^{-1}(\\hat S)$"
   ]
  },
  {
   "cell_type": "markdown",
   "id": "55a53a0f-5ab1-4bd3-8214-ad29522a4fd2",
   "metadata": {},
   "source": [
    "|![Step 3 & 4 gets the center of these embedded points on our sphere in 3d space](./vector_avg.png)| \n",
    "|:--:|\n",
    "|Step 3 & 4 together compute the center of these embedded points on our sphere in 3d space, as seen in this image. [image source](https://www.ffi.no/en/research/n-vector/#example_7)|"
   ]
  },
  {
   "cell_type": "markdown",
   "id": "2d405a0a-0ce2-4f0c-9394-3f217a08b57c",
   "metadata": {},
   "source": [
    "The result of this final step gives us the values for the center coordinates in lattitude and longitude, which we can set as the new coordinates for the new center of a cluster in the k-means algorithm. Here's an implementation of this solution in python:"
   ]
  },
  {
   "cell_type": "code",
   "execution_count": 3,
   "id": "ad989f04-0f31-42d3-a8c8-75f853b7b972",
   "metadata": {},
   "outputs": [],
   "source": [
    "import numpy as np\n",
    "import numpy.linalg as lin\n",
    "from math import sin, cos, sqrt, atan2, acos, radians, degrees, pi"
   ]
  },
  {
   "cell_type": "code",
   "execution_count": 4,
   "id": "6dfc144a-002c-4155-a9f4-85e069a543c4",
   "metadata": {},
   "outputs": [],
   "source": [
    "#takes 2-d coords as numpy array, returns numpy array representing vector\n",
    "def T(geocoords):\n",
    "    #unpack coords from input\n",
    "    long, lat = geocoords\n",
    "    \n",
    "    #convert long and lat to spherical coords\n",
    "    theta = radians(long)\n",
    "    phi = pi/2 - radians(lat)\n",
    "    \n",
    "    #convert spherical coords to 3-d cartesian coords\n",
    "    x = sin(phi)*cos(theta)\n",
    "    y = sin(phi)*sin(theta)\n",
    "    z = cos(phi)\n",
    "    \n",
    "    return np.array([x,y,z])\n",
    "\n",
    "vT = np.vectorize(T)"
   ]
  },
  {
   "cell_type": "code",
   "execution_count": 46,
   "id": "0ae2c38b-0f99-4f33-a18b-a8311714c790",
   "metadata": {},
   "outputs": [
    {
     "data": {
      "text/plain": [
       "array([ 1.2246468e-16,  0.0000000e+00, -1.0000000e+00])"
      ]
     },
     "execution_count": 46,
     "metadata": {},
     "output_type": "execute_result"
    }
   ],
   "source": [
    "T(np.array([0,-90]))"
   ]
  },
  {
   "cell_type": "code",
   "execution_count": 8,
   "id": "816f7683-62d1-48d1-8b05-77ac7b690bc5",
   "metadata": {},
   "outputs": [],
   "source": [
    "# takes 3 x 1 numpy array representing unit vector, \n",
    "# returns numpy array representing long and lat coords\n",
    "def inverse_T(vec):\n",
    "    #unpack coords of input\n",
    "    x, y, z = vec\n",
    "    \n",
    "    theta = atan2(x,y)\n",
    "    phi = acos(z/sqrt(x * x + y * y + z * z))\n",
    "    \n",
    "    long = degrees(theta)\n",
    "    lat = degrees(pi/2 - phi)\n",
    "    \n",
    "    return np.array([long, lat])\n",
    "\n",
    "# vectorization of inverse T, takes a 3 x n numpy aray representing a list of n unit vectors\n",
    "# returns 2 x n numpy array representing list of n geocoord pairs\n",
    "vinverse_T = np.vectorize(inverseT)"
   ]
  },
  {
   "cell_type": "code",
   "execution_count": 57,
   "id": "df0067b6-c613-4d7a-b79d-5165257c44d6",
   "metadata": {},
   "outputs": [
    {
     "data": {
      "text/plain": [
       "array([45.,  0.])"
      ]
     },
     "execution_count": 57,
     "metadata": {},
     "output_type": "execute_result"
    }
   ],
   "source": [
    "inverse_T(np.array([sqrt(2)/2, sqrt(2)/2, 0]))"
   ]
  },
  {
   "cell_type": "code",
   "execution_count": 1,
   "id": "10cc57a0-69b3-412c-b631-e0cc9d02e729",
   "metadata": {},
   "outputs": [],
   "source": [
    "# takes a 3 x n numpy array representing a list of our 3d vectors, \n",
    "# returns their normalized sum\n",
    "def cartesian_centroid(vecs):\n",
    "    summed = np.sum(vecs, axis=0)\n",
    "    normalized = summed / lin.norm(summed)\n",
    "    return normalized"
   ]
  },
  {
   "cell_type": "code",
   "execution_count": 9,
   "id": "9293ab7a-c3a6-41c0-ab7c-13e5514e5c84",
   "metadata": {},
   "outputs": [],
   "source": [
    "# takes a 2 x n numpy array representing a list of our 2d geographical coordinate pairs, returns their centroid as a 2 x 1 numpy array.\n",
    "def centroid(vecs):\n",
    "    cart_vecs = vT(vecs)\n",
    "    cart_center = cartesian_centroid(cart_vecs)\n",
    "    return inverse_T(cart_center)"
   ]
  },
  {
   "cell_type": "code",
   "execution_count": 72,
   "id": "5f6fd651-df88-4731-8a6b-3205abb654d4",
   "metadata": {},
   "outputs": [
    {
     "data": {
      "text/plain": [
       "array([0.70710678, 0.        , 0.70710678])"
      ]
     },
     "execution_count": 72,
     "metadata": {},
     "output_type": "execute_result"
    }
   ],
   "source": [
    "vecs = np.array([[0, 0, 1], [1, 0, 0]])\n",
    "centroid(vecs)"
   ]
  },
  {
   "cell_type": "code",
   "execution_count": 9,
   "id": "b36835a0-6b06-47aa-b007-95575f1fd2a7",
   "metadata": {},
   "outputs": [
    {
     "name": "stdout",
     "output_type": "stream",
     "text": [
      "Collecting package metadata (current_repodata.json): done\n",
      "Solving environment: \\ \n",
      "Warning: 2 possible package resolutions (only showing differing packages):\n",
      "  - anaconda/linux-64::certifi-2021.10.8-py39h06a4308_0\n",
      "  - defaults/linux-64::certifi-2021.10.8-py39h06a4308done\n",
      "\n",
      "# All requested packages already installed.\n",
      "\n"
     ]
    }
   ],
   "source": [
    "#install cartopy in terminal\n",
    "!conda install -c conda-forge cartopy -y"
   ]
  },
  {
   "cell_type": "code",
   "execution_count": 10,
   "id": "92dd087a-9e78-424e-83f4-8b01a580228f",
   "metadata": {},
   "outputs": [],
   "source": [
    "from math import radians, cos, sin, asin, sqrt\n",
    "\n",
    "def haversine(lon1, lat1, lon2, lat2):\n",
    "    \"\"\"\n",
    "    Calculate the great circle distance in kilometers between two points \n",
    "    on the earth (specified in decimal degrees)\n",
    "    \"\"\"\n",
    "    # convert decimal degrees to radians \n",
    "    lon1, lat1, lon2, lat2 = map(radians, [lon1, lat1, lon2, lat2])\n",
    "\n",
    "    # haversine formula \n",
    "    dlon = lon2 - lon1 \n",
    "    dlat = lat2 - lat1 \n",
    "    a = sin(dlat/2)**2 + cos(lat1) * cos(lat2) * sin(dlon/2)**2\n",
    "    c = 2 * asin(sqrt(a)) \n",
    "    r = 6371 # Radius of earth in kilometers. Use 3956 for miles. Determines return value units.\n",
    "    return c * r"
   ]
  },
  {
   "cell_type": "code",
   "execution_count": 11,
   "id": "2eee6766-04a3-4aaf-a54f-fceb805d9669",
   "metadata": {},
   "outputs": [
    {
     "data": {
      "image/png": "[encoded data removed]",
      "text/plain": [
       "<Figure size 432x288 with 1 Axes>"
      ]
     },
     "metadata": {
      "needs_background": "light"
     },
     "output_type": "display_data"
    }
   ],
   "source": [
    "\n",
    "fig = plt.figure()\n",
    "ax = fig.add_subplot(1, 1, 1, projection=ccrs.Robinson())\n",
    "yale = [41.3083, -72.9279]\n",
    "oxford = [51.7520, -1.2577]\n",
    "melbourne = [-37.8136, 144.9631]\n",
    "lats = [school[0] for school in [yale, oxford, melbourne]]\n",
    "lngs = [school[1] for school in [yale, oxford, melbourne]]\n",
    "ax.coastlines()\n",
    "ax.plot(lngs, lats, \"o\", color=\"red\", transform=ccrs.PlateCarree())\n",
    "ax.set_extent([-180, 180, -90, 90], crs=ccrs.PlateCarree())\n",
    "plt.show()"
   ]
  },
  {
   "cell_type": "markdown",
   "id": "0fa75b8c-561f-4ac9-b0e0-95ff3d952c28",
   "metadata": {},
   "source": [
    "## Exercise 3"
   ]
  },
  {
   "cell_type": "markdown",
   "id": "c585e112-7858-4bb6-b173-5ecc8aa83047",
   "metadata": {},
   "source": [
    "This exercise is relatively straightforward, as long as you know how to use **function decorators.** Let's briefly review these nifty tools:"
   ]
  },
  {
   "cell_type": "markdown",
   "id": "79613327-0f46-4dc0-98a9-cb7d1386583d",
   "metadata": {},
   "source": [
    "### What is a function decorator:\n",
    "\n",
    "Put simply, a function decorator is a tag that we can put on our functions to modify their behavior. Under the hood, a function decorator is itself another function, which takes as an input the function we wish to modify, and outputs the modified version of the function. Python handles this without much help, so unless you're writing your own function decorators, you don't need to think about decorators too hard."
   ]
  },
  {
   "cell_type": "markdown",
   "id": "aa94bc51-ffa1-484c-b79d-81eee0f64fbe",
   "metadata": {},
   "source": [
    "For example, the LRU function decorator will add a cache to any function. Suppose we have a function `fact(n)` that computes the factorial of a natural number, $n$, sometimes written as $n!$\n",
    "\n",
    "The factorial of a natural number $n$ is just the product of all natural numbers from $1$ to $n$. \n",
    "\n",
    "e.g. $5! = 1 \\times 2 \\times 3 \\times 4 \\times 5 = 120$.\n",
    "\n",
    "By convention, we say that $0! = 1$. It is hopefully easy to see that for any natural number $n \\geq 1$ the following holds:\n",
    "\n",
    "$\\displaystyle n! = \\underbrace{1 \\times 2 \\times \\ldots \\times (n-1)}_{(n-1)!} \\times n = (n-1)! \\times n$.\n",
    "\n",
    "This property makes the factorial very easy to define recursively, as shown below:"
   ]
  },
  {
   "cell_type": "code",
   "execution_count": 14,
   "id": "613a5e1b-95d1-4e0e-acc0-c8f0945c8346",
   "metadata": {},
   "outputs": [],
   "source": [
    "def fact(n):\n",
    "    if(n > 0):\n",
    "        return fact(n-1) * n\n",
    "    else:\n",
    "        return 1"
   ]
  },
  {
   "cell_type": "markdown",
   "id": "d3258cd1-b4ee-4f0b-a394-ce4106d8bffe",
   "metadata": {},
   "source": [
    "Now suppose we wanted to print out the first 20 factorial numbers. We might reasonably try the following cell of code:"
   ]
  },
  {
   "cell_type": "code",
   "execution_count": 25,
   "id": "929f832b-2bd7-48dc-898d-210b9e97648f",
   "metadata": {},
   "outputs": [
    {
     "name": "stdout",
     "output_type": "stream",
     "text": [
      "1 -> 1\n",
      "2 -> 2\n",
      "3 -> 6\n",
      "4 -> 24\n",
      "5 -> 120\n",
      "6 -> 720\n",
      "7 -> 5040\n",
      "8 -> 40320\n",
      "9 -> 362880\n",
      "10 -> 3628800\n",
      "11 -> 39916800\n",
      "12 -> 479001600\n",
      "13 -> 6227020800\n",
      "14 -> 87178291200\n",
      "15 -> 1307674368000\n",
      "16 -> 20922789888000\n",
      "17 -> 355687428096000\n",
      "18 -> 6402373705728000\n",
      "19 -> 121645100408832000\n",
      "20 -> 2432902008176640000\n"
     ]
    }
   ],
   "source": [
    "for i in range(1, 21):\n",
    "    print(i, '->', fact(i))"
   ]
  },
  {
   "cell_type": "markdown",
   "id": "0c490d5a-9026-4bef-a8b6-813875368b00",
   "metadata": {},
   "source": [
    "This works well enough for small lists but this is extremely inefficient. Manually calculating the value of $i!$ takes $i$ steps. Doing this calculation manually for all the values of $i$ from $1$ to $n$ will then take $ 1 + 2 + \\ldots + n = \\frac{n(n+1)}{2} = \\mathcal{O}(n^2)$ steps.\n",
    "\n",
    "If however, we have already cached the value of $(i-1)!$, we can retrieve it to calculate $i!$ in just one step. Then calculating the factorial for all values $1, \\ldots, n$ will only take $\\underbrace{1 +  \\ldots + 1}_n = n$ steps. "
   ]
  },
  {
   "cell_type": "markdown",
   "id": "4fe60604-a5dc-4123-ac67-869ddae5dda5",
   "metadata": {},
   "source": [
    "This caching can be done easily with the aforementioned LRU function decorator. First we need to import the decorator from python's native functools library:"
   ]
  },
  {
   "cell_type": "code",
   "execution_count": 18,
   "id": "07f92f48-d2fd-48d6-bb38-5e83fcf585a7",
   "metadata": {},
   "outputs": [],
   "source": [
    "from functools import lru_cache"
   ]
  },
  {
   "cell_type": "markdown",
   "id": "4e7e933b-0ddf-4fd4-902e-21763edbd890",
   "metadata": {},
   "source": [
    "Now we simply decorate our factorial function with the lru_cache using the following syntax:"
   ]
  },
  {
   "cell_type": "code",
   "execution_count": 19,
   "id": "2fcd11e1-7fdc-4709-bc09-3e1aacec06f3",
   "metadata": {},
   "outputs": [],
   "source": [
    "@lru_cache\n",
    "def lru_fact(n):\n",
    "    if(n > 0):\n",
    "        return lru_fact(n-1) * n\n",
    "    else:\n",
    "        return 1"
   ]
  },
  {
   "cell_type": "markdown",
   "id": "2381eca7-ebcd-40e6-9207-e18d7997019b",
   "metadata": {},
   "source": [
    "Notice that the code for `lru_fact` is almost identical to that of `fact`, with the only differences being that we have changed the name of the function, and that we have added the `@lru_cache` decorator tag above the function declaration.\n",
    "However the behavior of `lru_fact` is quite different from `fact`. Everytime we call the function, `lru_fac(n)` will first check the cache to see if we've already computed that value. If so, we simply return that cached value. Only if the cache does not contain that value do we manually calculate it. As a sanity check, let's see if we still get the same outputs as before:"
   ]
  },
  {
   "cell_type": "code",
   "execution_count": 26,
   "id": "5c06d82a-0d27-4ea5-a23e-b3dddd3c844b",
   "metadata": {},
   "outputs": [
    {
     "name": "stdout",
     "output_type": "stream",
     "text": [
      "1 -> 1\n",
      "2 -> 2\n",
      "3 -> 6\n",
      "4 -> 24\n",
      "5 -> 120\n",
      "6 -> 720\n",
      "7 -> 5040\n",
      "8 -> 40320\n",
      "9 -> 362880\n",
      "10 -> 3628800\n",
      "11 -> 39916800\n",
      "12 -> 479001600\n",
      "13 -> 6227020800\n",
      "14 -> 87178291200\n",
      "15 -> 1307674368000\n",
      "16 -> 20922789888000\n",
      "17 -> 355687428096000\n",
      "18 -> 6402373705728000\n",
      "19 -> 121645100408832000\n",
      "20 -> 2432902008176640000\n"
     ]
    }
   ],
   "source": [
    "for i in range(1, 21):\n",
    "    print(i,'->', lru_fact(i))"
   ]
  },
  {
   "cell_type": "markdown",
   "id": "e4e182ba-f878-4bae-b377-0d65c70d1ce4",
   "metadata": {},
   "source": [
    "Now that we see the function has the same outputs, let's compare the performance of these two implementations of the factorial function by timing how long it takes to do a big job, like computing 20! a million times. Start by importing the pyton time module."
   ]
  },
  {
   "cell_type": "code",
   "execution_count": 27,
   "id": "90bc3203-004c-4e23-ae8c-c97f683fbe76",
   "metadata": {},
   "outputs": [],
   "source": [
    "import time"
   ]
  },
  {
   "cell_type": "markdown",
   "id": "08b4510c-6b95-41f1-9594-13afd208fdbb",
   "metadata": {},
   "source": [
    "Now we need to record the time before and after each job:"
   ]
  },
  {
   "cell_type": "code",
   "execution_count": 80,
   "id": "9cefd21a-13d2-4678-83ad-3cf3691d9d6e",
   "metadata": {},
   "outputs": [
    {
     "name": "stdout",
     "output_type": "stream",
     "text": [
      "The job took 5.121461629867554 seconds for the naive factorial function to complete\n"
     ]
    }
   ],
   "source": [
    "naive_start = time.time()\n",
    "for i in range(1_000_000):\n",
    "    fact(35)\n",
    "naive_end = time.time()\n",
    "print(f'The job took {naive_end - naive_start} seconds for the naive factorial function to complete')"
   ]
  },
  {
   "cell_type": "code",
   "execution_count": 79,
   "id": "517cc8af-24d2-40fc-8778-fcbd24ffd1a3",
   "metadata": {},
   "outputs": [
    {
     "name": "stdout",
     "output_type": "stream",
     "text": [
      "The job took 0.1585378646850586 seconds for the lru_cache factorial function to complete\n"
     ]
    }
   ],
   "source": [
    "cache_start = time.time()\n",
    "for i in range(1_000_000):\n",
    "    lru_fact(35)\n",
    "cache_end = time.time()\n",
    "print(f'The job took {cache_end - cache_start} seconds for the lru_cache factorial function to complete')"
   ]
  },
  {
   "cell_type": "markdown",
   "id": "1b361fc5-6ee2-4a86-92f1-72fce7df2cb9",
   "metadata": {},
   "source": [
    "// write decorator to do timing above"
   ]
  },
  {
   "cell_type": "code",
   "execution_count": null,
   "id": "216f293c-7df1-4a9c-95c5-0dd87d9c96ec",
   "metadata": {},
   "outputs": [],
   "source": [
    "def time_decorator(func):\n",
    "    def wrapper(*args, **kwargs):\n",
    "        start_time = time.time()\n",
    "        for i in range(1_000_000):\n",
    "            func("
   ]
  },
  {
   "cell_type": "markdown",
   "id": "ab520766-0264-4101-b8eb-f31e8bec8cad",
   "metadata": {},
   "source": [
    "That's over 25 times faster! For larger values of $n$, the improvements would be even more dramatic."
   ]
  },
  {
   "cell_type": "markdown",
   "id": "b69e6838-9480-4642-aa41-80600441ef99",
   "metadata": {},
   "source": [
    "We can accomplish all kinds of other things with function decorators. For example, there is a library called [Numba](https://numba.pydata.org/) that can speed up numerical calculations by compiling your functions into efficient machine code.\n",
    "\n",
    "// cache api calls too\n",
    "// slow down api calls to avoid getting booted"
   ]
  },
  {
   "cell_type": "markdown",
   "id": "be9853ba-d327-46be-81a8-e1e98bcebaef",
   "metadata": {},
   "source": [
    "## Exercise 4"
   ]
  },
  {
   "cell_type": "markdown",
   "id": "d0851fd2",
   "metadata": {},
   "source": [
    "In this exercise, you are asked to write a function which implements the Smith-Waterman algoritm, which finds the optimal local aligment of sequences. \n",
    "Let us review the algorithm on a conceptual level then do a basic example out by hand so you can get a feel for it."
   ]
  },
  {
   "cell_type": "markdown",
   "id": "3f3a19fb",
   "metadata": {},
   "source": [
    "Recall the dot diagram visualization for comparing two gene sequences.\n",
    "The basic idea of this diagram is simple.\n",
    "For two sequences, $s_1$ and $s_2$ of respective length $m$ and $n$, we make an $m$ by $n$ grid of squares. \n",
    "If the $i^{th}$ letter of $s_1$ and the $j^{th}$ letter of $s_2$ match, then we fill in the square with $i$ down and $j$ to the right from the top left corner. Otherwise, we leave that square blank.\n",
    "|Dot Diagram Example|\n",
    "|---|\n",
    "|![Small Dot Diagram](./dot_diagram.png)|"
   ]
  },
  {
   "cell_type": "markdown",
   "id": "63384e57",
   "metadata": {},
   "source": [
    "If you stare long enough, you'll realize that matching subsequences correspond to diagonal lines running from the the upper left to the lower right on the diagram. \n",
    "Why is that? \n",
    "Moving down one square corresponds to moving forward one letter in sequence $s_1$.\n",
    "Moving right one square corresponds to moving forward one letter in sequence $s_2$.\n",
    "Therefore moving down and to the right corresponds to moving forward one letter in both sequences.\n",
    "Thus moving down and to the right several times in a row and finding a black square each time just means we are moving forward in each sequence multiple times and finding a match each time.\n",
    "Thus, finding the longest matching subsequences of $s_1$ and $s_2$ is as simple as finding the longest diagonal line on the dot diagram."
   ]
  },
  {
   "cell_type": "markdown",
   "id": "6f639359",
   "metadata": {},
   "source": [
    "\n",
    "That's all fine and good, but there are several challenges we encounter when applying this technique in the real world.\n",
    "For one thing, since the sequences we care about are genetic sequences derived from the real world, they tend to mutate.\n",
    "Mutations can happen in multiple different ways.\n",
    "1. Insertion - one or more random letter is added somewhere in the middle of a sequence\n",
    "    - e.g. AGCT becomes AG**T**CT\n",
    "2. Deletion - one or more random letters is removed somewhere in one of a sequence\n",
    "    - e.g. AG**C**T becomes AGT\n",
    "3. Base substitutions - one or more letters get swapped out for other letters, but the length of the sequence does not change\n",
    "    - e.g. AG**C**T becomes AG**A**T \n"
   ]
  },
  {
   "cell_type": "markdown",
   "id": "b809da38",
   "metadata": {},
   "source": [
    "\n",
    "We may still be interested in finding almost-matching subsequences since they still tell us valuable information about the sequences we are comparing.\n",
    "How can we adapt our technique to handle these new mutations in order to find almost-matching subsequences?\n",
    "Insertion and deletion can result in either horizontal or vertical gaps that separate two diagonal lines on the diagram.\n",
    "Base substitutions can result in a diagonal line that has some missing (white) squares in the middle.\n",
    "\n",
    "Aside from mutations, we face another challenge when it comes to real world data: volume.\n",
    "The above dot diagram is just 18 by 21 in size, so our eye can pick out the longest matching subsequence in just a few tries.\n",
    "With a bit more effort we can pick out some long almost-matching subsequences.\n",
    "But what if we made our diagram based on some longer sequences?\n",
    "|Larger Dot Diagram Example|\n",
    "|--|\n",
    "|![Large Dot Diagram](./large_dot_diagram.png)|\n",
    "\n"
   ]
  },
  {
   "cell_type": "markdown",
   "id": "6549604f",
   "metadata": {},
   "source": [
    "It's already nearly impossible to eyeball the problem from this diagram, and each of these sequences is just a few hundred letters long.\n",
    "The average human gene is several thousand base-pairs long, and the human genome is about 6.4 billion base-pairs long.\n",
    "Thus, we arrive at the need to have an algorithm automate the eyeball work. \n",
    "This is essentially the goal that the Smith-Waterman algorithm aims to achieve using dynamic programming."
   ]
  },
  {
   "cell_type": "markdown",
   "id": "58d575b3",
   "metadata": {},
   "source": [
    "Much like the dot diagram method, Smith-Waterman starts by creating a regtangular grid, where the x and y coordinates of a square in the grid correspond to indices in our two sequences.\n",
    "This grid contains numerical values which keep a running score of how good our matching subsequences are. \n",
    "The longer a matching subsequence is, the better its score.\n",
    "We'd also like to penalize almost-matching subsequences for every mutation they contain.\n"
   ]
  },
  {
   "cell_type": "markdown",
   "id": "4718e288",
   "metadata": {},
   "source": [
    "\n",
    "Thus our algorithm has three parameters: \n",
    "1. match - the score we add to the total for each matching term in the sequence.\n",
    "2. gap_penalty - the score we subtract from the total for each horizontal or vertical gap in the subsequence corresponding to an insertion or deletion mutation.\n",
    "3. mismatch_penalty - the score we subtract from the total for each mismatching term in the subsequence.\n",
    "\n"
   ]
  },
  {
   "cell_type": "markdown",
   "id": "8a5128dc",
   "metadata": {},
   "source": [
    "#### Example"
   ]
  },
  {
   "cell_type": "markdown",
   "id": "06554c10",
   "metadata": {},
   "source": [
    "In this example, we'll choose match = gap_penalty = mismatch_penalty = 1.\n",
    "We'll start by initializing each score in the grid to zero, and then update these scores working from the top-left corner and working downwards and to the right.\n",
    "For illustration purposes, we'll show this numerical grid overlaid on a dot-diagram."
   ]
  },
  {
   "cell_type": "markdown",
   "id": "2919e7b0",
   "metadata": {},
   "source": [
    "| Initializing Score Grid to Zero|\n",
    "|---|\n",
    "|![initializing grid](./illustrations/initializing_grid.png)|"
   ]
  },
  {
   "cell_type": "markdown",
   "id": "698c3c44",
   "metadata": {},
   "source": [
    "Notice that there is one extra row at the top and one extra column on the left.\n",
    "This is because at every step in the algorithm, we rely on values above and to the left to determine the score for our current cell.\n",
    "Now that we've initialized the grid, it's time to start updating values:"
   ]
  },
  {
   "cell_type": "markdown",
   "id": "a0c2c404",
   "metadata": {},
   "source": [
    "![](illustrations/matrix-filling-(1%2C%201).png) \n",
    "\n",
    "The current cell can take one of four values. \n",
    "1. We can take the upper left value ($ul=0$) plus match ($=1$) for a total of $1$, \n",
    "2. We can take the left value ($l=0$) minus the gap penalty ($=1$) for a total of $-1$, \n",
    "3. We can take the upper value ($u=0$) minus the gap penalty for a total of $-1$. \n",
    "4. 0\n",
    "\n",
    "Of the four possibilities, the first is the largest, so $1$ is the current cell's new value.\n",
    "\n"
   ]
  },
  {
   "cell_type": "markdown",
   "id": "1e9f32bf",
   "metadata": {},
   "source": [
    "![](./illustrations/matrix-filling-(1%2C%202).png)\n",
    "\n",
    "Moving on, the current cell can take one of four values: \n",
    "1. $ul -$ mismatch_penalty $= 0 - 1 = -1$\n",
    "2. $l -$ gap_penalty $= 1 - 1 = 0$\n",
    "3. $u -$ gap_penalty $= 0 - 1 = -1$\n",
    "4. 0\n",
    "\n",
    "0 is the largest of these possibilities, so the new value for the current cell is 0."
   ]
  },
  {
   "cell_type": "markdown",
   "id": "cf897a30",
   "metadata": {},
   "source": [
    "![ ](./illustrations/matrix-filling-(1%2C%203).png)\n",
    "\n",
    "The current cell can take on one of three values:\n",
    "1. $ul -$ mismatch_penalty $= 0 - 1 = -1$\n",
    "2. $l -$ gap_penalty $= 0 - 1 = -1$\n",
    "3. $u -$ gap_penalty $= 0 - 1 = -1$\n",
    "4. 0\n",
    "\n",
    "The first 3 values are negative, so our new cell gets a value of zero"
   ]
  },
  {
   "cell_type": "markdown",
   "id": "d4b1866f",
   "metadata": {},
   "source": [
    "We continue in this way until the whole grid fills up, which should give us the following scores:\n",
    "\n",
    "![](./illustrations/matrix-filling-(6%2C%206).png))\n",
    "\n",
    "\n",
    "**NOTE:** When you're implementing the first half of this algorithm, you want to keep track of which square has the largest score you've seen so far, and update that value everytime you see a new max score.\n",
    "That way, you don't have to scan through the whole grid again to start find the maximum."
   ]
  },
  {
   "cell_type": "markdown",
   "id": "59d7b5c0",
   "metadata": {},
   "source": [
    "\n",
    "We can see that the square in the second to last row and the last column has the largest value, so we'll start the backtracking portion of the algorithm from that square."
   ]
  },
  {
   "cell_type": "markdown",
   "id": "e78a0691",
   "metadata": {},
   "source": [
    "![](./illustrations/backtracking-(5%2C%206).png) \n",
    "\n"
   ]
  },
  {
   "cell_type": "markdown",
   "id": "18bd028e",
   "metadata": {},
   "source": [
    "Starting from this square, we add the corresponding sequence element to each of our match sequence outputs.\n",
    "\n",
    "|`match_seq1 = \"C\"`|\n",
    "|---|\n",
    "| `match_seq2 = \"C\"`|\n",
    "\n",
    "That is match_sequence_1 and match_sequence_2 both end with C.\n",
    "Then we check to see if square up and to the left is a match. \n",
    "We see that the upper left square is a match because the upper left value is our current cell's value minus match\n",
    "\n",
    "- $ul = current - match$\n",
    "\n",
    "Thus we shift up and to the right for the next step."
   ]
  },
  {
   "cell_type": "markdown",
   "id": "f1978c99",
   "metadata": {},
   "source": [
    "![](./illustrations/backtracking-(4%2C%205).png)\n"
   ]
  },
  {
   "cell_type": "markdown",
   "id": "50f132f8",
   "metadata": {},
   "source": [
    "This square is also a match, so we add the corresponding sequence element \"A\" to the **beginning** of both match sequences. \n",
    "\n",
    "|`match_seq1 = \"AC\"`|\n",
    "|---|\n",
    "|`match_seq2 = \"AC\"`|\n",
    "\n",
    "From this square we still see that $ul = current - match$ so we can move up and to the left.\n"
   ]
  },
  {
   "cell_type": "markdown",
   "id": "f5f2dd7f",
   "metadata": {},
   "source": [
    "\n",
    "![](./illustrations/backtracking-(3%2C%204).png)\n",
    "\n"
   ]
  },
  {
   "cell_type": "markdown",
   "id": "a2b1906d",
   "metadata": {},
   "source": [
    "This is our first non-matching square, so it requires some additional logic.\n",
    "We see that both of the following are true:\n",
    "\n",
    "1. $ current = ul - mismatch $\n",
    "2. $ current = l - gap $\n",
    "\n",
    "This means that we have two different ways that our match sequences could be constructed. \n",
    "For this exercise, you are tasked only with constructing a single pair of match sequences, so it's time to make an arbitrary choice about whether we give gaps or mismatches priorities.\n",
    "Here, I will prioritize gaps, but you could choose whatever you like.\n",
    "\n",
    "Since I'm choosing a gap, our cursor will move up and to the left in the next step, but first we have to figure out how to update our match sequences.\n",
    "Since the cursor is going to move horizontally, this step corresponds to a gap in the vertical sequence (match_sequence 1).\n",
    "Thus, we add \"-\" to the beginning of match sequence 1, and \"G\" to the beginning of match_sequence_2.\n",
    "\n",
    "|`match_seq1 = \"-AC\"`|\n",
    "|---|\n",
    "| `match_seq2 = \"GAC\"`|\n",
    "\n"
   ]
  },
  {
   "cell_type": "markdown",
   "id": "80e8f981",
   "metadata": {},
   "source": [
    "\n",
    "![](./illustrations/backtracking-(3%2C%203).png)\n",
    "\n",
    "From here on out, all the remaining squares are matches, so we always go up and to the left, each time, prepending the corresponding sequence element to our match sequences:\n",
    "\n",
    "|`match_seq1 = \"T-AC\"`|\n",
    "|---|\n",
    "| `match_seq2 = \"TGAC\"`|"
   ]
  },
  {
   "cell_type": "markdown",
   "id": "9e873f74",
   "metadata": {},
   "source": [
    "\n",
    "|![](./illustrations/backtracking-(2%2C%202).png)|\n",
    "|---|\n",
    "|`match_seq1 = \"TT-AC\"`|\n",
    "| `match_seq2 = \"TTGAC\"`|"
   ]
  },
  {
   "cell_type": "markdown",
   "id": "da8b2d9a",
   "metadata": {},
   "source": [
    "\n",
    "|![](./illustrations/backtracking-(1%2C%201).png)|\n",
    "|---|\n",
    "|`match_seq1 = \"GTT-AC\"`|\n",
    "| `match_seq2 = \"GTTGAC\"`|"
   ]
  },
  {
   "cell_type": "markdown",
   "id": "f347455f",
   "metadata": {},
   "source": [
    "At last, we have arrived at the final square, and thus our final output for the algorithm. In this implementation, you will return a 3-tuple: (match_seq1, match_seq2, score), where score is the maximum score on the whole grid.\n",
    "\n",
    "**NOTE** There is another way of implementing the algorithm that involves keeping track of how each square got its score by storing a second grid of pointers that are updated during the first half of the program: \n",
    "\n",
    "![](./illustrations_alt/backtracking-(5%2C%206).png)\n",
    "\n",
    "While this does make the backtracking easier to code, it also doubles the memory the algorithm uses, so it is not advisable for large grids."
   ]
  },
  {
   "cell_type": "code",
   "execution_count": null,
   "id": "a05416b7-c0dd-4759-9b91-3a0ddd582bf3",
   "metadata": {},
   "outputs": [],
   "source": []
  }
 ],
 "metadata": {
  "kernelspec": {
   "display_name": "Python 3.9.12 ('base')",
   "language": "python",
   "name": "python3"
  },
  "language_info": {
   "codemirror_mode": {
    "name": "ipython",
    "version": 3
   },
   "file_extension": ".py",
   "mimetype": "text/x-python",
   "name": "python",
   "nbconvert_exporter": "python",
   "pygments_lexer": "ipython3",
   "version": "3.9.12"
  },
  "vscode": {
   "interpreter": {
    "hash": "4632010a9e13d22e5db6181f606bb74cee322bdf2be96a9f982ade689500be32"
   }
  }
 },
 "nbformat": 4,
 "nbformat_minor": 5
}
